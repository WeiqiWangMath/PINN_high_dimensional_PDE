{
  "cells": [
    {
      "cell_type": "code",
      "execution_count": null,
      "id": "e7afa3f0",
      "metadata": {
        "id": "e7afa3f0"
      },
      "outputs": [],
      "source": [
        "import os\n",
        "import numpy as np\n",
        "import tensorflow as tf\n",
        "from tensorflow import keras\n",
        "from tensorflow.keras import layers\n",
        "import matplotlib.pyplot as plt\n",
        "np.set_printoptions(precision = 3, suppress = True)"
      ]
    },
    {
      "cell_type": "markdown",
      "id": "f24a5009",
      "metadata": {
        "id": "f24a5009"
      },
      "source": [
        "## 1D second order equation $-\\frac{d}{dx}\\left((1+\\frac{1}{4}\\sin {2\\pi x})\\frac{d\\Psi}{dx}\\right) + \\nu \\Psi=- 2\\pi^2 \\cos{2\\pi x}\\cos{4\\pi x} + 16\\pi^2(1+\\frac{1}{4}\\sin {2\\pi x})\\sin{4\\pi x} + \\nu \\sin{4\\pi x}$ with periodic BC $\\Psi(0)=\\Psi(1)$, $\\Psi'(0)=\\Psi'(1)$"
      ]
    },
    {
      "cell_type": "markdown",
      "id": "35b160c1",
      "metadata": {
        "id": "35b160c1"
      },
      "source": [
        "## Exact solution: $\\Psi(x) = \\sin{4\\pi x}$"
      ]
    },
    {
      "cell_type": "code",
      "execution_count": 89,
      "id": "279be5df",
      "metadata": {
        "id": "279be5df"
      },
      "outputs": [],
      "source": [
        "nu = 5"
      ]
    },
    {
      "cell_type": "code",
      "source": [
        "from keras import backend as K\n",
        "\n",
        "class BiasLayer(tf.keras.layers.Layer):\n",
        "    def __init__(self, *args, **kwargs):\n",
        "        super(BiasLayer, self).__init__(*args, **kwargs)\n",
        "\n",
        "    def build(self, input_shape):\n",
        "        print(input_shape)\n",
        "        self.bias = self.add_weight('bias',\n",
        "                                    shape=input_shape[1:],\n",
        "                                    initializer='glorot',\n",
        "                                    trainable=True)\n",
        "    def call(self, x):\n",
        "        return x + self.bias\n",
        "\n",
        "class ConstantTensorInitializer(tf.keras.initializers.Initializer):\n",
        "  \"\"\"Initializes tensors to `t`.\"\"\"\n",
        "\n",
        "  def __init__(self, t):\n",
        "    self.t = t\n",
        "\n",
        "  def __call__(self, shape, dtype=None):\n",
        "    return self.t\n",
        "\n",
        "  def get_config(self):\n",
        "    return {'t': self.t}\n",
        "\n",
        "class ConstantTensorConstraint(tf.keras.constraints.Constraint):\n",
        "  \"\"\"Constrains tensors to `t`.\"\"\"\n",
        "\n",
        "  def __init__(self, t):\n",
        "    self.t = t\n",
        "\n",
        "  def __call__(self, w):\n",
        "    return self.t\n",
        "\n",
        "  def get_config(self):\n",
        "    return {'t': self.t}\n",
        "\n",
        "# all you need to create a mask matrix M, which is a NxN identity matrix\n",
        "# and you can write a contraint like below\n",
        "class DiagonalWeight(tf.keras.constraints.Constraint):\n",
        "    \"\"\"Constrains the weights to be diagonal.\n",
        "    \"\"\"\n",
        "    def __call__(self, w):\n",
        "        N = K.int_shape(w)[-1]\n",
        "        m = K.eye(N)\n",
        "        v = w*m\n",
        "        return v"
      ],
      "metadata": {
        "id": "wfEr9GiaWbRy"
      },
      "id": "wfEr9GiaWbRy",
      "execution_count": 106,
      "outputs": []
    },
    {
      "cell_type": "code",
      "source": [
        "def init_model(nb_hidden_layers, nb_nodes_per_layer, m_periodic, n_periodic, omega, input_dim):\n",
        "\n",
        "    # Append hidden layers\n",
        "    all_layers = []\n",
        "\n",
        "    # Initialize a feedforward neural network\n",
        "    model = tf.keras.Sequential()\n",
        "\n",
        "    # Input is two-dimensional (time + one spatial dimension)\n",
        "    input_model = tf.keras.layers.InputLayer(input_shape= (input_dim,), name='input_model')\n",
        "    model.add(input_model)\n",
        "\n",
        "    # Construct first omega matrix\n",
        "    omega_each_dim = omega*np.ones((input_dim,1))\n",
        "    Omega_matrix = np.array([])\n",
        "\n",
        "    for dim in range(input_dim):\n",
        "        Omega_dim = np.zeros((m_periodic, input_dim))\n",
        "        Omega_dim[:,dim] = omega_each_dim[dim,0]*np.ones((m_periodic,))\n",
        "        Omega_matrix = np.vstack([Omega_matrix,Omega_dim]) if Omega_matrix.size else Omega_dim\n",
        "\n",
        "    Omega = tf.Variable(Omega_matrix.T,dtype=tf.float32)\n",
        "\n",
        "    # Create first C^inf periodic layers L_p(m,n)\n",
        "    first_periodic_layer = tf.keras.layers.Dense(m_periodic*input_dim,\n",
        "                                                 activation = tf.math.cos,\n",
        "                                                 use_bias = True,\n",
        "                                                 trainable = True,\n",
        "                                                 name = 'first_periodic_layer',\n",
        "                                                 kernel_initializer = ConstantTensorInitializer(Omega),\n",
        "                                                 kernel_constraint = ConstantTensorConstraint(Omega),\n",
        "                                                 bias_initializer = 'glorot_normal')\n",
        "    all_layers.append(first_periodic_layer)\n",
        "    model.add(first_periodic_layer)\n",
        "\n",
        "    second_periodic_layer = tf.keras.layers.Dense(m_periodic*input_dim,\n",
        "                                                  activation = 'tanh',\n",
        "                                                  use_bias = True,\n",
        "                                                  trainable = True,\n",
        "                                                  name = 'second_periodic_layer',\n",
        "                                                  kernel_constraint = DiagonalWeight(),\n",
        "                                                  kernel_initializer = 'glorot_normal',\n",
        "                                                  bias_initializer = 'glorot_normal')\n",
        "    all_layers.append(second_periodic_layer)\n",
        "    model.add(second_periodic_layer)\n",
        "\n",
        "    # create the rest of the network (substitute other code here also)\n",
        "    for layer in range(nb_hidden_layers):\n",
        "        if layer == nb_hidden_layers-1:\n",
        "            layer_name = 'first_to_last_hidden_layer'\n",
        "        else:\n",
        "            layer_name = 'hidden_layer_' + str(layer)\n",
        "\n",
        "        hidden_layer = tf.keras.layers.Dense(nb_nodes_per_layer, \n",
        "                                        activation='tanh',\n",
        "                                        name=layer_name,\n",
        "                                        kernel_initializer= 'glorot_normal')\n",
        "                                        #bias_initializer= weight_bias_initializer,\n",
        "                                        #dtype=tf.float32)\n",
        "        all_layers.append(hidden_layer)\n",
        "        model.add(hidden_layer)\n",
        "\n",
        "    # Output is one-dimensional\n",
        "    model.add(tf.keras.layers.Dense(1))\n",
        "    \n",
        "    return model"
      ],
      "metadata": {
        "id": "LZxoxxWqNLQR"
      },
      "id": "LZxoxxWqNLQR",
      "execution_count": 142,
      "outputs": []
    },
    {
      "cell_type": "code",
      "source": [
        "nb_hidden_layers = 3\n",
        "nb_nodes_per_layer = 30\n",
        "\n",
        "input_dim = 1\n",
        "m_periodic = 11\n",
        "n_periodic = 30\n",
        "\n",
        "L_period = 1.0 #2*np.pi\n",
        "omega = 2*np.pi/L_period\n",
        "# Initialize model aka u_\\theta\n",
        "model4 = init_model(nb_hidden_layers, nb_nodes_per_layer, m_periodic, n_periodic, omega, input_dim)\n",
        "model4.summary()\n"
      ],
      "metadata": {
        "id": "W44h31z0NRoY",
        "colab": {
          "base_uri": "https://localhost:8080/"
        },
        "outputId": "d25cee05-20c1-457c-c92f-49a2f22b9739"
      },
      "id": "W44h31z0NRoY",
      "execution_count": 153,
      "outputs": [
        {
          "output_type": "stream",
          "name": "stdout",
          "text": [
            "Model: \"sequential_32\"\n",
            "_________________________________________________________________\n",
            " Layer (type)                Output Shape              Param #   \n",
            "=================================================================\n",
            " first_periodic_layer (Dense  (None, 11)               22        \n",
            " )                                                               \n",
            "                                                                 \n",
            " second_periodic_layer (Dens  (None, 11)               132       \n",
            " e)                                                              \n",
            "                                                                 \n",
            " hidden_layer_0 (Dense)      (None, 30)                360       \n",
            "                                                                 \n",
            " hidden_layer_1 (Dense)      (None, 30)                930       \n",
            "                                                                 \n",
            " first_to_last_hidden_layer   (None, 30)               930       \n",
            " (Dense)                                                         \n",
            "                                                                 \n",
            " dense_17 (Dense)            (None, 1)                 31        \n",
            "                                                                 \n",
            "=================================================================\n",
            "Total params: 2,405\n",
            "Trainable params: 2,405\n",
            "Non-trainable params: 0\n",
            "_________________________________________________________________\n"
          ]
        }
      ]
    },
    {
      "cell_type": "code",
      "execution_count": 154,
      "id": "8df4850a",
      "metadata": {
        "id": "8df4850a"
      },
      "outputs": [],
      "source": [
        "a = 0\n",
        "b = 1\n",
        "N = 18\n",
        "h = (b - a)/(N + 1)\n",
        "\n",
        "#domain discretization to be used as input data\n",
        "x = []\n",
        "for i in range(N + 2):\n",
        "    x.append(a + i*h)\n",
        "input_data = np.array(x)\n",
        "input_data = input_data.reshape(N+2,1)"
      ]
    },
    {
      "cell_type": "code",
      "execution_count": 155,
      "id": "43cbd9a0",
      "metadata": {
        "id": "43cbd9a0"
      },
      "outputs": [],
      "source": [
        "def trainStep(x,opt):\n",
        "    \n",
        "    L = len(x)\n",
        "    \n",
        "    # Outer gradient for model parameters\n",
        "    with tf.GradientTape() as tape:\n",
        "        \n",
        "        # Inner gradient for first derivative of N wrt x\n",
        "        with tf.GradientTape() as tape1:\n",
        "            tape1.watch(x)\n",
        "            \n",
        "            # Inner inner gradient for second derivative of N wrt x\n",
        "            with tf.GradientTape() as tape2:\n",
        "                tape2.watch(x)\n",
        "            \n",
        "                N = model4([x])\n",
        "            \n",
        "            Nx = tape2.gradient(N, x)\n",
        "        Nxx = tape1.gradient(Nx, x)\n",
        "        \n",
        "        # Plug trial solution into ODE:\n",
        "        eqn = - Nx * np.pi /2 * np.cos(2*np.pi*x) - Nxx * (1 + 1/4 * np.sin(2*np.pi*x)) + nu * N - \\\n",
        "        (- 2* np.pi**2 * np.cos(2*np.pi*x) * np.cos(4*np.pi*x) + \\\n",
        "        (1 + 1/4 * np.sin(2*np.pi*x)) * (16*np.pi**2 * np.sin(4*np.pi*x)) + nu * np.sin(4*np.pi*x))  \n",
        "        \n",
        "        loss = tf.reduce_sum(tf.square(eqn)) #+ \\\n",
        "        #(tf.squeeze(N[0]) - tf.squeeze(N[L-1]))**2 + (tf.squeeze(Nx[0]) - tf.squeeze(Nx[L-1]))**2  \n",
        "        \n",
        "    # Compute the gradient of loss wrt model parameters\n",
        "    grads = tape.gradient(loss, model4.trainable_variables)\n",
        "    \n",
        "    # Gradient step\n",
        "    opt.apply_gradients(zip(grads, model4.trainable_variables))\n",
        "    \n",
        "    \n",
        "    return loss"
      ]
    },
    {
      "cell_type": "code",
      "execution_count": 156,
      "id": "5cbf683e",
      "metadata": {
        "id": "5cbf683e"
      },
      "outputs": [],
      "source": [
        "def PINNtrain(x, epochs):\n",
        "    \n",
        "    # Define an optimizer\n",
        "    lr = tf.keras.optimizers.schedules.PolynomialDecay(0.1, epochs, 1e-4)\n",
        "    opt = keras.optimizers.Adam()\n",
        "    epoch_loss = np.zeros(epochs)\n",
        "    \n",
        "    # Main training loop\n",
        "    for i in range(epochs):\n",
        "        \n",
        "        PDEloss = trainStep(x,opt)\n",
        "        epoch_loss[i] = PDEloss\n",
        "        \n",
        "        if (np.mod(i, 100)==0):\n",
        "          print(\"PDE loss in {}th epoch: {: 1.1e}.\".format(i, PDEloss.numpy()))\n",
        "    \n",
        "    return epoch_loss"
      ]
    },
    {
      "cell_type": "code",
      "execution_count": 157,
      "id": "27aeed7a",
      "metadata": {
        "scrolled": true,
        "colab": {
          "base_uri": "https://localhost:8080/"
        },
        "id": "27aeed7a",
        "outputId": "eb150789-4179-402a-9733-99292bcd8ccf"
      },
      "outputs": [
        {
          "output_type": "stream",
          "name": "stdout",
          "text": [
            "PDE loss in 0th epoch:  3.1e+05.\n",
            "PDE loss in 100th epoch:  2.8e+04.\n",
            "PDE loss in 200th epoch:  8.3e+02.\n",
            "PDE loss in 300th epoch:  2.2e+02.\n",
            "PDE loss in 400th epoch:  9.6e+01.\n",
            "PDE loss in 500th epoch:  5.7e+01.\n",
            "PDE loss in 600th epoch:  3.8e+01.\n",
            "PDE loss in 700th epoch:  2.7e+01.\n",
            "PDE loss in 800th epoch:  1.9e+01.\n",
            "PDE loss in 900th epoch:  1.4e+01.\n",
            "PDE loss in 1000th epoch:  1.2e+01.\n",
            "PDE loss in 1100th epoch:  9.8e+00.\n",
            "PDE loss in 1200th epoch:  8.5e+00.\n",
            "PDE loss in 1300th epoch:  7.5e+00.\n",
            "PDE loss in 1400th epoch:  6.7e+00.\n",
            "PDE loss in 1500th epoch:  5.9e+00.\n",
            "PDE loss in 1600th epoch:  5.3e+00.\n",
            "PDE loss in 1700th epoch:  4.7e+00.\n",
            "PDE loss in 1800th epoch:  4.1e+00.\n",
            "PDE loss in 1900th epoch:  3.7e+00.\n",
            "PDE loss in 2000th epoch:  3.2e+00.\n",
            "PDE loss in 2100th epoch:  2.9e+00.\n",
            "PDE loss in 2200th epoch:  2.6e+00.\n",
            "PDE loss in 2300th epoch:  2.3e+00.\n",
            "PDE loss in 2400th epoch:  2.0e+00.\n",
            "PDE loss in 2500th epoch:  1.8e+00.\n",
            "PDE loss in 2600th epoch:  1.6e+00.\n",
            "PDE loss in 2700th epoch:  1.4e+00.\n",
            "PDE loss in 2800th epoch:  1.2e+00.\n",
            "PDE loss in 2900th epoch:  1.1e+00.\n",
            "PDE loss in 3000th epoch:  9.5e-01.\n",
            "PDE loss in 3100th epoch:  8.3e-01.\n",
            "PDE loss in 3200th epoch:  7.1e-01.\n",
            "PDE loss in 3300th epoch:  6.1e-01.\n",
            "PDE loss in 3400th epoch:  5.2e-01.\n",
            "PDE loss in 3500th epoch:  4.3e-01.\n",
            "PDE loss in 3600th epoch:  3.6e-01.\n",
            "PDE loss in 3700th epoch:  3.0e-01.\n",
            "PDE loss in 3800th epoch:  2.4e-01.\n",
            "PDE loss in 3900th epoch:  2.4e-01.\n",
            "PDE loss in 4000th epoch:  1.5e-01.\n",
            "PDE loss in 4100th epoch:  1.4e-01.\n",
            "PDE loss in 4200th epoch:  9.6e-02.\n",
            "PDE loss in 4300th epoch:  8.6e-02.\n",
            "PDE loss in 4400th epoch:  6.0e-02.\n",
            "PDE loss in 4500th epoch:  2.2e+00.\n",
            "PDE loss in 4600th epoch:  3.9e-02.\n",
            "PDE loss in 4700th epoch:  3.2e-02.\n",
            "PDE loss in 4800th epoch:  4.1e-02.\n",
            "PDE loss in 4900th epoch:  2.2e-02.\n",
            "PDE loss in 5000th epoch:  9.3e+00.\n",
            "PDE loss in 5100th epoch:  1.6e-02.\n",
            "PDE loss in 5200th epoch:  1.4e-02.\n",
            "PDE loss in 5300th epoch:  4.7e-02.\n",
            "PDE loss in 5400th epoch:  4.6e+00.\n",
            "PDE loss in 5500th epoch:  2.9e-01.\n",
            "PDE loss in 5600th epoch:  8.5e-03.\n",
            "PDE loss in 5700th epoch:  1.9e-01.\n",
            "PDE loss in 5800th epoch:  1.9e-02.\n",
            "PDE loss in 5900th epoch:  8.3e+00.\n",
            "PDE loss in 6000th epoch:  5.2e-03.\n",
            "PDE loss in 6100th epoch:  3.4e-02.\n",
            "PDE loss in 6200th epoch:  5.6e-02.\n",
            "PDE loss in 6300th epoch:  3.5e-03.\n",
            "PDE loss in 6400th epoch:  5.4e+00.\n",
            "PDE loss in 6500th epoch:  6.2e-01.\n",
            "PDE loss in 6600th epoch:  4.0e-03.\n",
            "PDE loss in 6700th epoch:  2.2e-01.\n",
            "PDE loss in 6800th epoch:  1.5e-02.\n",
            "PDE loss in 6900th epoch:  1.1e+00.\n",
            "PDE loss in 7000th epoch:  9.4e-02.\n",
            "PDE loss in 7100th epoch:  2.3e-02.\n",
            "PDE loss in 7200th epoch:  1.7e-03.\n",
            "PDE loss in 7300th epoch:  5.1e-02.\n",
            "PDE loss in 7400th epoch:  2.1e-03.\n",
            "PDE loss in 7500th epoch:  4.2e-03.\n",
            "PDE loss in 7600th epoch:  1.7e-02.\n",
            "PDE loss in 7700th epoch:  6.1e-04.\n",
            "PDE loss in 7800th epoch:  4.8e-02.\n",
            "PDE loss in 7900th epoch:  6.1e-01.\n",
            "PDE loss in 8000th epoch:  5.1e-01.\n",
            "PDE loss in 8100th epoch:  1.7e-03.\n",
            "PDE loss in 8200th epoch:  2.1e-01.\n",
            "PDE loss in 8300th epoch:  9.4e+00.\n",
            "PDE loss in 8400th epoch:  5.4e-04.\n",
            "PDE loss in 8500th epoch:  1.2e+00.\n",
            "PDE loss in 8600th epoch:  1.2e-01.\n",
            "PDE loss in 8700th epoch:  2.1e-04.\n",
            "PDE loss in 8800th epoch:  3.9e-01.\n",
            "PDE loss in 8900th epoch:  7.8e-01.\n",
            "PDE loss in 9000th epoch:  3.8e-04.\n",
            "PDE loss in 9100th epoch:  4.3e-02.\n",
            "PDE loss in 9200th epoch:  8.3e-03.\n",
            "PDE loss in 9300th epoch:  7.2e-01.\n",
            "PDE loss in 9400th epoch:  2.0e-04.\n",
            "PDE loss in 9500th epoch:  9.3e-02.\n",
            "PDE loss in 9600th epoch:  1.4e-04.\n",
            "PDE loss in 9700th epoch:  2.1e-02.\n",
            "PDE loss in 9800th epoch:  9.2e-05.\n",
            "PDE loss in 9900th epoch:  1.3e-03.\n"
          ]
        },
        {
          "output_type": "execute_result",
          "data": {
            "text/plain": [
              "array([312465.406, 252712.875, 252265.344, ...,      0.842,      0.76 ,\n",
              "            0.255])"
            ]
          },
          "metadata": {},
          "execution_count": 157
        }
      ],
      "source": [
        "epochs = 10000\n",
        "loss = PINNtrain(tf.convert_to_tensor(input_data, dtype = float),epochs)\n",
        "loss"
      ]
    },
    {
      "cell_type": "code",
      "execution_count": 158,
      "id": "bbe8faee",
      "metadata": {
        "colab": {
          "base_uri": "https://localhost:8080/",
          "height": 297
        },
        "id": "bbe8faee",
        "outputId": "1b4d7697-b079-4626-e52d-571e9affba7b"
      },
      "outputs": [
        {
          "output_type": "display_data",
          "data": {
            "text/plain": [
              "<Figure size 432x288 with 1 Axes>"
            ],
            "image/png": "[encoded data removed]"
          },
          "metadata": {
            "needs_background": "light"
          }
        },
        {
          "output_type": "display_data",
          "data": {
            "text/plain": [
              "<Figure size 432x288 with 0 Axes>"
            ]
          },
          "metadata": {}
        }
      ],
      "source": [
        "plt.semilogy(range(0, epochs), loss)\n",
        "plt.xlabel('epochs')\n",
        "plt.ylabel('loss')\n",
        "plt.grid()\n",
        "plt.show()\n",
        "plt.savefig('loss.png')"
      ]
    },
    {
      "cell_type": "code",
      "execution_count": 159,
      "id": "9046895b",
      "metadata": {
        "colab": {
          "base_uri": "https://localhost:8080/",
          "height": 283
        },
        "id": "9046895b",
        "outputId": "d99dd061-ceef-4a75-c5a1-cdeb91e35612"
      },
      "outputs": [
        {
          "output_type": "execute_result",
          "data": {
            "text/plain": [
              "<matplotlib.legend.Legend at 0x7fc0f0222090>"
            ]
          },
          "metadata": {},
          "execution_count": 159
        },
        {
          "output_type": "display_data",
          "data": {
            "text/plain": [
              "<Figure size 432x288 with 1 Axes>"
            ],
            "image/png": "[encoded data removed]"
          },
          "metadata": {
            "needs_background": "light"
          }
        }
      ],
      "source": [
        "x = np.linspace(0,1,10)\n",
        "discrete = np.linspace(0,1,100)\n",
        "target = []\n",
        "\n",
        "for i in range(100): \n",
        "    x_i = discrete[i]\n",
        "    target.append(np.sin(4*np.pi * x_i)) \n",
        "    \n",
        "#plt.plot(discrete,1 + discrete*model3([discrete]).numpy().T[0], label = 'model1')\n",
        "plt.plot(discrete, model4([discrete]).numpy().T[0], label = 'model1')\n",
        "plt.plot(discrete,target, label = 'target')\n",
        "plt.legend(loc =  'upper left')"
      ]
    },
    {
      "cell_type": "code",
      "execution_count": 160,
      "id": "54b32560",
      "metadata": {
        "colab": {
          "base_uri": "https://localhost:8080/",
          "height": 279
        },
        "id": "54b32560",
        "outputId": "357f0d53-1d57-4ef9-a6ce-59eb4748305a"
      },
      "outputs": [
        {
          "output_type": "display_data",
          "data": {
            "text/plain": [
              "<Figure size 432x288 with 1 Axes>"
            ],
            "image/png": "[encoded data removed]"
          },
          "metadata": {
            "needs_background": "light"
          }
        }
      ],
      "source": [
        "plt.plot(discrete,target-(model4([discrete]).numpy().T[0]))\n",
        "plt.plot(discrete,[0]*100, ':r')\n",
        "plt.plot(x,[0]*10, 'o', color = 'red', mfc = 'none', markersize = 5)\n",
        "plt.ylabel('Solution Accuracy')\n",
        "plt.xlabel('x')\n",
        "plt.show()"
      ]
    },
    {
      "cell_type": "code",
      "execution_count": null,
      "id": "7b8fd0a3",
      "metadata": {
        "id": "7b8fd0a3"
      },
      "outputs": [],
      "source": []
    }
  ],
  "metadata": {
    "kernelspec": {
      "display_name": "Python 3 (ipykernel)",
      "language": "python",
      "name": "python3"
    },
    "language_info": {
      "codemirror_mode": {
        "name": "ipython",
        "version": 3
      },
      "file_extension": ".py",
      "mimetype": "text/x-python",
      "name": "python",
      "nbconvert_exporter": "python",
      "pygments_lexer": "ipython3",
      "version": "3.9.12"
    },
    "colab": {
      "provenance": [],
      "collapsed_sections": []
    },
    "accelerator": "GPU",
    "gpuClass": "standard"
  },
  "nbformat": 4,
  "nbformat_minor": 5
}