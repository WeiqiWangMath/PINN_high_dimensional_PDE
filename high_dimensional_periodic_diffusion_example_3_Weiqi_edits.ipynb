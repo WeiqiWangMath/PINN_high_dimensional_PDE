{
 "cells": [
  {
   "cell_type": "code",
   "execution_count": 1,
   "id": "e7afa3f0",
   "metadata": {
    "executionInfo": {
     "elapsed": 2085,
     "status": "ok",
     "timestamp": 1673633936567,
     "user": {
      "displayName": "Weiqi Wang",
      "userId": "14698951202238730823"
     },
     "user_tz": 300
    },
    "id": "e7afa3f0"
   },
   "outputs": [],
   "source": [
    "import os\n",
    "import numpy as np\n",
    "import tensorflow as tf\n",
    "from tensorflow import keras\n",
    "from tensorflow.keras import layers\n",
    "import matplotlib.pyplot as plt\n",
    "from numpy.linalg import norm\n",
    "np.set_printoptions(precision = 3, suppress = True)"
   ]
  },
  {
   "cell_type": "code",
   "execution_count": 2,
   "id": "95c34846",
   "metadata": {
    "colab": {
     "base_uri": "https://localhost:8080/"
    },
    "executionInfo": {
     "elapsed": 2554,
     "status": "ok",
     "timestamp": 1673633940630,
     "user": {
      "displayName": "Weiqi Wang",
      "userId": "14698951202238730823"
     },
     "user_tz": 300
    },
    "id": "95c34846",
    "outputId": "6cc2bf7d-b4d5-4798-805c-b88959c12331"
   },
   "outputs": [
    {
     "name": "stdout",
     "output_type": "stream",
     "text": [
      "WARNING:tensorflow:From C:\\Users\\weiqi\\AppData\\Local\\Temp\\ipykernel_30288\\337460670.py:1: is_gpu_available (from tensorflow.python.framework.test_util) is deprecated and will be removed in a future version.\n",
      "Instructions for updating:\n",
      "Use `tf.config.list_physical_devices('GPU')` instead.\n"
     ]
    },
    {
     "data": {
      "text/plain": [
       "True"
      ]
     },
     "execution_count": 2,
     "metadata": {},
     "output_type": "execute_result"
    }
   ],
   "source": [
    "tf.test.is_gpu_available()"
   ]
  },
  {
   "cell_type": "code",
   "execution_count": 3,
   "id": "b0378b53",
   "metadata": {
    "executionInfo": {
     "elapsed": 3,
     "status": "ok",
     "timestamp": 1673633940630,
     "user": {
      "displayName": "Weiqi Wang",
      "userId": "14698951202238730823"
     },
     "user_tz": 300
    },
    "id": "b0378b53"
   },
   "outputs": [],
   "source": [
    "from keras import backend as K\n",
    "\n",
    "class BiasLayer(tf.keras.layers.Layer):\n",
    "    def __init__(self, *args, **kwargs):\n",
    "        super(BiasLayer, self).__init__(*args, **kwargs)\n",
    "\n",
    "    def build(self, input_shape):\n",
    "        print(input_shape)\n",
    "        self.bias = self.add_weight('bias',\n",
    "                                    shape=input_shape[1:],\n",
    "                                    initializer='glorot',\n",
    "                                    trainable=True)\n",
    "    def call(self, x):\n",
    "        return x + self.bias\n",
    "\n",
    "class ConstantTensorInitializer(tf.keras.initializers.Initializer):\n",
    "  \"\"\"Initializes tensors to `t`.\"\"\"\n",
    "\n",
    "  def __init__(self, t):\n",
    "    self.t = t\n",
    "\n",
    "  def __call__(self, shape, dtype=None):\n",
    "    return self.t\n",
    "\n",
    "  def get_config(self):\n",
    "    return {'t': self.t}\n",
    "\n",
    "class ConstantTensorConstraint(tf.keras.constraints.Constraint):\n",
    "  \"\"\"Constrains tensors to `t`.\"\"\"\n",
    "\n",
    "  def __init__(self, t):\n",
    "    self.t = t\n",
    "\n",
    "  def __call__(self, w):\n",
    "    return self.t\n",
    "\n",
    "  def get_config(self):\n",
    "    return {'t': self.t}\n",
    "\n",
    "# all you need to create a mask matrix M, which is a NxN identity matrix\n",
    "# and you can write a contraint like below\n",
    "class DiagonalWeight(tf.keras.constraints.Constraint):\n",
    "    \"\"\"Constrains the weights to be diagonal.\n",
    "    \"\"\"\n",
    "    def __call__(self, w):\n",
    "        N = K.int_shape(w)[-1]\n",
    "        m = K.eye(N)\n",
    "        v = w*m\n",
    "        return v"
   ]
  },
  {
   "cell_type": "code",
   "execution_count": 4,
   "id": "4d9ca3be",
   "metadata": {
    "executionInfo": {
     "elapsed": 229,
     "status": "ok",
     "timestamp": 1673633946438,
     "user": {
      "displayName": "Weiqi Wang",
      "userId": "14698951202238730823"
     },
     "user_tz": 300
    },
    "id": "4d9ca3be"
   },
   "outputs": [],
   "source": [
    "def init_model(nb_hidden_layers, nb_nodes_per_layer, m_periodic, n_periodic, omega, input_dim):\n",
    "\n",
    "    # Append hidden layers\n",
    "    all_layers = []\n",
    "\n",
    "    # Initialize a feedforward neural network\n",
    "    model = tf.keras.Sequential()\n",
    "\n",
    "    # Input is two-dimensional (time + one spatial dimension)\n",
    "    input_model = tf.keras.layers.InputLayer(input_shape= (input_dim,), name='input_model')\n",
    "    model.add(input_model)\n",
    "\n",
    "    # Construct first omega matrix\n",
    "    omega_each_dim = omega*np.ones((input_dim,1))\n",
    "    Omega_matrix = np.array([])\n",
    "\n",
    "    for dim in range(input_dim):\n",
    "        Omega_dim = np.zeros((m_periodic, input_dim))\n",
    "        Omega_dim[:,dim] = omega_each_dim[dim,0]*np.ones((m_periodic,))\n",
    "        Omega_matrix = np.vstack([Omega_matrix,Omega_dim]) if Omega_matrix.size else Omega_dim\n",
    "\n",
    "    Omega = tf.Variable(Omega_matrix.T,dtype=tf.float32)\n",
    "\n",
    "    # Create first C^inf periodic layers L_p(m,n)\n",
    "    first_periodic_layer = tf.keras.layers.Dense(m_periodic*input_dim,\n",
    "                                                 activation = tf.math.cos,\n",
    "                                                 use_bias = True,\n",
    "                                                 trainable = True,\n",
    "                                                 name = 'first_periodic_layer',\n",
    "                                                 kernel_initializer = ConstantTensorInitializer(Omega),\n",
    "                                                 kernel_constraint = ConstantTensorConstraint(Omega),\n",
    "                                                 bias_initializer = 'glorot_normal')\n",
    "    all_layers.append(first_periodic_layer)\n",
    "    model.add(first_periodic_layer)\n",
    "\n",
    "    second_periodic_layer = tf.keras.layers.Dense(m_periodic*input_dim,\n",
    "                                                  activation = 'tanh',\n",
    "                                                  use_bias = True,\n",
    "                                                  trainable = True,\n",
    "                                                  name = 'second_periodic_layer',\n",
    "                                                  kernel_constraint = DiagonalWeight(),\n",
    "                                                  kernel_initializer = 'glorot_normal',\n",
    "                                                  bias_initializer = 'glorot_normal')\n",
    "    all_layers.append(second_periodic_layer)\n",
    "    model.add(second_periodic_layer)\n",
    "\n",
    "    # create the rest of the network (substitute other code here also)\n",
    "    for layer in range(nb_hidden_layers):\n",
    "        if layer == nb_hidden_layers-1:\n",
    "            layer_name = 'first_to_last_hidden_layer'\n",
    "        else:\n",
    "            layer_name = 'hidden_layer_' + str(layer)\n",
    "\n",
    "        hidden_layer = tf.keras.layers.Dense(nb_nodes_per_layer, \n",
    "                                        activation='tanh',\n",
    "                                        name=layer_name,\n",
    "                                        kernel_initializer= 'glorot_normal')\n",
    "                                        #bias_initializer= weight_bias_initializer,\n",
    "                                        #dtype=tf.float32)\n",
    "        all_layers.append(hidden_layer)\n",
    "        model.add(hidden_layer)\n",
    "\n",
    "    # Output is one-dimensional\n",
    "    model.add(tf.keras.layers.Dense(1))\n",
    "    \n",
    "    return model"
   ]
  },
  {
   "cell_type": "markdown",
   "id": "e33f2706",
   "metadata": {
    "id": "e33f2706"
   },
   "source": [
    "## high-dimensional second order equation $-\\nabla \\cdot \\left((1+\\frac{1}{4}\\sin {2\\pi x_1}\\sin {2\\pi x_2})\\nabla \\Psi\\right) + \\nu \\Psi=-\\nabla \\cdot \\left((1+\\frac{1}{4}\\sin {2\\pi x_1}\\sin {2\\pi x_2})\\nabla \\Psi_{exact}(x)\\right) + \\nu \\Psi_{exact}(x)$ with periodic BCs"
   ]
  },
  {
   "cell_type": "markdown",
   "id": "4ce1b090",
   "metadata": {
    "id": "4ce1b090"
   },
   "source": [
    "## Exact solution: $\\Psi_{exact}(x) = \\sum_{k=1}^{10} c_k \\sin{2\\pi m_{1k} x_{d_{1k}}}\\sin{2\\pi m_{2k} x_{d_{2k}}}$"
   ]
  },
  {
   "cell_type": "code",
   "execution_count": 5,
   "id": "265deea1",
   "metadata": {
    "colab": {
     "base_uri": "https://localhost:8080/"
    },
    "executionInfo": {
     "elapsed": 403,
     "status": "ok",
     "timestamp": 1673633955001,
     "user": {
      "displayName": "Weiqi Wang",
      "userId": "14698951202238730823"
     },
     "user_tz": 300
    },
    "id": "265deea1",
    "outputId": "175013e8-b097-484a-825e-657c697ee99c"
   },
   "outputs": [
    {
     "name": "stdout",
     "output_type": "stream",
     "text": [
      "Model: \"sequential\"\n",
      "_________________________________________________________________\n",
      "Layer (type)                 Output Shape              Param #   \n",
      "=================================================================\n",
      "first_periodic_layer (Dense) (None, 66)                462       \n",
      "_________________________________________________________________\n",
      "second_periodic_layer (Dense (None, 66)                4422      \n",
      "_________________________________________________________________\n",
      "hidden_layer_0 (Dense)       (None, 30)                2010      \n",
      "_________________________________________________________________\n",
      "hidden_layer_1 (Dense)       (None, 30)                930       \n",
      "_________________________________________________________________\n",
      "first_to_last_hidden_layer ( (None, 30)                930       \n",
      "_________________________________________________________________\n",
      "dense (Dense)                (None, 1)                 31        \n",
      "=================================================================\n",
      "Total params: 8,785\n",
      "Trainable params: 8,785\n",
      "Non-trainable params: 0\n",
      "_________________________________________________________________\n"
     ]
    }
   ],
   "source": [
    "nb_hidden_layers = 3\n",
    "nb_nodes_per_layer = 30\n",
    "\n",
    "input_dim = 6\n",
    "m_periodic = 11\n",
    "n_periodic = 30\n",
    "\n",
    "L_period = 1.0 #2*np.pi\n",
    "omega = 2*np.pi/L_period\n",
    "# Initialize model aka u_\\theta\n",
    "model5 = init_model(nb_hidden_layers, nb_nodes_per_layer, m_periodic, n_periodic, omega, input_dim)\n",
    "model5.summary()"
   ]
  },
  {
   "cell_type": "markdown",
   "id": "82bfcbac",
   "metadata": {
    "id": "82bfcbac"
   },
   "source": [
    "## Sampling"
   ]
  },
  {
   "cell_type": "code",
   "execution_count": 6,
   "id": "a59af2af",
   "metadata": {
    "executionInfo": {
     "elapsed": 213,
     "status": "ok",
     "timestamp": 1673633959013,
     "user": {
      "displayName": "Weiqi Wang",
      "userId": "14698951202238730823"
     },
     "user_tz": 300
    },
    "id": "a59af2af"
   },
   "outputs": [],
   "source": [
    "a = 0\n",
    "b = 1\n",
    "N = 2000\n",
    "\n",
    "nu = 0.5\n",
    "\n",
    "# Monte Carlo points in the domain\n",
    "\n",
    "input_data_MC = np.random.uniform(0 ,1, (N,input_dim))"
   ]
  },
  {
   "cell_type": "markdown",
   "id": "434061cf",
   "metadata": {
    "id": "434061cf"
   },
   "source": [
    "## Define the diffusion function and its derivatives here"
   ]
  },
  {
   "cell_type": "code",
   "execution_count": 7,
   "id": "f26b9995",
   "metadata": {
    "executionInfo": {
     "elapsed": 1,
     "status": "ok",
     "timestamp": 1673633961399,
     "user": {
      "displayName": "Weiqi Wang",
      "userId": "14698951202238730823"
     },
     "user_tz": 300
    },
    "id": "f26b9995"
   },
   "outputs": [],
   "source": [
    "def diffusion_fcns(x):\n",
    "    diffusion = 1 + 1/4 * np.sin(2*np.pi*x[:, 0]) * np.sin(2*np.pi*x[:, 1])\n",
    "    L,x_dim = np.shape(x)\n",
    "    grad_diffusion = [np.zeros_like(x[:, 0])] * x_dim\n",
    "    grad_diffusion[0] = np.pi/2 * np.cos(2*np.pi*x[:, 0]) * np.sin(2*np.pi*x[:, 1])\n",
    "    grad_diffusion[1] = np.pi/2 * np.sin(2*np.pi*x[:, 0]) * np.cos(2*np.pi*x[:, 1])\n",
    "    return diffusion, grad_diffusion"
   ]
  },
  {
   "cell_type": "markdown",
   "id": "c07d000f",
   "metadata": {
    "id": "c07d000f"
   },
   "source": [
    "## Exact solution and its gradient and divergence"
   ]
  },
  {
   "cell_type": "code",
   "execution_count": 8,
   "id": "uX3nydqrUErr",
   "metadata": {
    "executionInfo": {
     "elapsed": 1,
     "status": "ok",
     "timestamp": 1673634108556,
     "user": {
      "displayName": "Weiqi Wang",
      "userId": "14698951202238730823"
     },
     "user_tz": 300
    },
    "id": "uX3nydqrUErr"
   },
   "outputs": [],
   "source": [
    "p = 2\n",
    "c = np.random.uniform(0, 1, (p))\n",
    "m1 = np.random.randint(1, 6, (p)) \n",
    "m2 = np.random.randint(1, 6, (p)) \n",
    "d1 = np.random.randint(0, input_dim, (p)) \n",
    "d2 = np.random.randint(0, input_dim, (p)) "
   ]
  },
  {
   "cell_type": "code",
   "execution_count": 9,
   "id": "cc4f40d0",
   "metadata": {
    "executionInfo": {
     "elapsed": 205,
     "status": "ok",
     "timestamp": 1673634122442,
     "user": {
      "displayName": "Weiqi Wang",
      "userId": "14698951202238730823"
     },
     "user_tz": 300
    },
    "id": "cc4f40d0"
   },
   "outputs": [],
   "source": [
    "# Define the exact solution\n",
    "def exact_solu(x):\n",
    "    L,x_dim = np.shape(x)\n",
    "    y = np.zeros_like(x[:, 0])\n",
    "    for k in range(p):\n",
    "      y = y + c[k] * np.sin(2* np.pi * m1[k] * np.double(x[:, d1[k]])) * np.sin(2* np.pi * m2[k] * np.double(x[:, d2[k]]))\n",
    "    return y"
   ]
  },
  {
   "cell_type": "code",
   "execution_count": 10,
   "id": "870065bb",
   "metadata": {
    "executionInfo": {
     "elapsed": 542,
     "status": "ok",
     "timestamp": 1673634133473,
     "user": {
      "displayName": "Weiqi Wang",
      "userId": "14698951202238730823"
     },
     "user_tz": 300
    },
    "id": "870065bb"
   },
   "outputs": [],
   "source": [
    "# Compute the gradient and divergence of the exact solution numerically\n",
    "def exact_grad_div(x):\n",
    "    L,x_dim = np.shape(x)\n",
    "    dx = np.double(0.003)\n",
    "    gradient = [np.zeros_like(x[:, 0])] * x_dim\n",
    "    divergence = np.zeros_like(x[:, 0])\n",
    "    \n",
    "    for i in range(x_dim):\n",
    "        dx_i = np.zeros_like(x);\n",
    "        dx_i[:, i] = 1;\n",
    "        \n",
    "            \n",
    "        # six-order finite difference\n",
    "        gradient[i] = (-1/60 * exact_solu(x - 3*dx*dx_i) + 3/20 * exact_solu(x - 2*dx*dx_i) - 3/4 * exact_solu(x - dx*dx_i) + 3/4 * exact_solu(x + dx*dx_i) - 3/20 * exact_solu(x + 2*dx*dx_i) + 1/60 * exact_solu(x + 3*dx*dx_i)) / dx\n",
    "        divergence = divergence + ((1/90) * exact_solu(x - 3*dx*dx_i) -(3/20) * exact_solu(x - 2*dx*dx_i) + (3/2) * exact_solu(x - dx*dx_i) - (49/18) * exact_solu(x) + (3/2) * exact_solu(x + dx*dx_i) - (3/20) * exact_solu(x + 2*dx*dx_i) +(1/90) * exact_solu(x + 3*dx*dx_i)) / dx**2\n",
    "\n",
    "    return gradient, divergence"
   ]
  },
  {
   "cell_type": "code",
   "execution_count": 11,
   "id": "e44a59f9",
   "metadata": {
    "executionInfo": {
     "elapsed": 1,
     "status": "ok",
     "timestamp": 1673634135263,
     "user": {
      "displayName": "Weiqi Wang",
      "userId": "14698951202238730823"
     },
     "user_tz": 300
    },
    "id": "e44a59f9"
   },
   "outputs": [],
   "source": [
    "def trainStep_N_dimension(x, diffusion_x, grad_diffusion_x, exact_x, exact_grad_x, exact_div_x, opt, model):\n",
    "    \n",
    "    L,x_dim = np.shape(x)\n",
    "    \n",
    "    # Outer gradient for model parameters\n",
    "    with tf.GradientTape() as tape:\n",
    "        \n",
    "        # Inner gradient for first derivative of N wrt x\n",
    "        with tf.GradientTape(persistent=True) as tape1:\n",
    "            tape1.watch(x)\n",
    "            \n",
    "            # Inner inner gradient for fi derivative of N wrt x\n",
    "            with tf.GradientTape(persistent=True) as tape2:\n",
    "                tape2.watch(x)\n",
    "            \n",
    "                N = model(x)\n",
    "            \n",
    "            # Gradient of the NN\n",
    "            grad_N = tape2.gradient(N, x)\n",
    "            grad_N_i = []\n",
    "            for i in range(x_dim):\n",
    "                grad_N_i.append(grad_N[: ,i])\n",
    "        # Divergence of the NN\n",
    "        div_N = tf.zeros([L])\n",
    "        for i in range(x_dim):\n",
    "            div_N = div_N + tape1.gradient(grad_N_i[i], x)[:, i]\n",
    "        \n",
    "            \n",
    "        \n",
    "        N = tf.reshape(N, [L])\n",
    "        \n",
    "        grad_error = [np.zeros_like(x[:, 0])] * x_dim\n",
    "        \n",
    "        # Plug trial solution into ODE:\n",
    "        divergence_error = div_N - exact_div_x\n",
    "#         grad_error[0] = grad_N[:, 0] - exact_grad_x[0]\n",
    "#         grad_error[1] = grad_N[:, 1] - exact_grad_x[1]\n",
    "        N_error = N - exact_x\n",
    "        \n",
    "#         eqn = - (1 + 1/4 * np.sin(2*np.pi*x[:, 0]) * np.sin(2*np.pi*x[:, 1])) *  divergence_error - \\\n",
    "#         (np.pi/2 * np.cos(2*np.pi*x[:, 0]) * np.sin(2*np.pi*x[:, 1])) * grad_error[0] - \\\n",
    "#         (np.pi/2 * np.sin(2*np.pi*x[:, 0]) * np.cos(2*np.pi*x[:, 1])) * grad_error[1] + nu * N_error\n",
    "        \n",
    "        eqn = - diffusion_x *  divergence_error  + nu * N_error \n",
    "        for i in range(x_dim):\n",
    "            grad_error[i] = grad_N[:, i] - exact_grad_x[i]\n",
    "            eqn = eqn - grad_diffusion_x[i] * grad_error[i]\n",
    "        \n",
    "        loss = tf.reduce_sum(tf.square(eqn)) \n",
    "        N_loss = tf.reduce_sum(tf.square(N_error))\n",
    "        gradient_loss = tf.square(grad_error[x_dim-1])\n",
    "        for i in range(x_dim-1):\n",
    "            gradient_loss = gradient_loss + tf.square(grad_error[i])\n",
    "        gradient_loss = tf.reduce_sum(gradient_loss)\n",
    "        divergence_loss = tf.reduce_sum(tf.square(divergence_error))\n",
    "        \n",
    "    # Compute the gradient of loss wrt model parameters\n",
    "    grads = tape.gradient(loss, model.trainable_variables)\n",
    "    \n",
    "    # Gradient step\n",
    "    opt.apply_gradients(zip(grads, model.trainable_variables))\n",
    "    \n",
    "    \n",
    "    return loss, N_loss, gradient_loss, divergence_loss"
   ]
  },
  {
   "cell_type": "code",
   "execution_count": 12,
   "id": "281e49ef",
   "metadata": {
    "executionInfo": {
     "elapsed": 512,
     "status": "ok",
     "timestamp": 1673634137858,
     "user": {
      "displayName": "Weiqi Wang",
      "userId": "14698951202238730823"
     },
     "user_tz": 300
    },
    "id": "281e49ef"
   },
   "outputs": [],
   "source": [
    "def PINNtrain(x, epochs, model):\n",
    "    \n",
    "    # optional, use a stopping tolerance (i.e., if loss < 1e-7 then stop training early)\n",
    "    stop_tol = 1e-12\n",
    "    \n",
    "    # set the initial best loss seen so far to something large\n",
    "    best_loss = 1e12\n",
    "    best_loss_epoch = -1\n",
    "    best_weights = None\n",
    "    \n",
    "    # Define an optimizer\n",
    "    lr = tf.keras.optimizers.schedules.PolynomialDecay(0.1, epochs, 1e-4)\n",
    "    opt = keras.optimizers.Adam()\n",
    "    epoch_loss, N_loss, gradient_loss, divergence_loss = (np.zeros(epochs) for i in range(4))\n",
    "    \n",
    "    # Calculate diffusion function, forcing term at sample points x in double precision\n",
    "    diffusion_x, grad_diffusion_x = diffusion_fcns(np.double(x.numpy()))\n",
    "    exact_x = exact_solu(np.double(x.numpy()))\n",
    "    exact_grad_x, exact_div_x = exact_grad_div(np.double(x.numpy()))\n",
    "    \n",
    "    # Main training loop\n",
    "    for i in range(epochs):\n",
    "        \n",
    "        epoch_loss[i], N_loss[i], gradient_loss[i], divergence_loss[i]  = trainStep_N_dimension(x, diffusion_x, grad_diffusion_x, exact_x, exact_grad_x, exact_div_x, opt, model)\n",
    "        \n",
    "        if (np.mod(i, 100)==0):\n",
    "          print(\"PDE loss in {}th epoch: {: 1.6e}. Last save epoch and best loss so far: {}, {: 1.6e}.\".format(i, epoch_loss[i], best_loss_epoch, best_loss))\n",
    "    \n",
    "        if (epoch_loss[i] < best_loss):\n",
    "            best_weights = model.get_weights()\n",
    "            best_loss_epoch = i\n",
    "            best_loss = epoch_loss[i]\n",
    "            #print(\"Found a new best local minimum at epoch {}: loss {: 1.6e}. Saving weights.\".format(i, epoch_loss[i]))\n",
    "            \n",
    "        if (epoch_loss[i] < stop_tol):\n",
    "            print(\"Current model has loss {: 1.6e}, lower than stopping tolerance {: 1.6e}, stopping early at epoch {}.\".format(epoch_loss[i],stop_tol,i))\n",
    "            return epoch_loss, N_loss, gradient_loss, divergence_loss\n",
    "    \n",
    "    if (best_loss < epoch_loss[i]):\n",
    "        model.set_weights(best_weights)\n",
    "        print(\"Current loss {: 1.6e}, Best loss {: 1.6e}. Restoring best model weights.\".format(epoch_loss[i],best_loss))\n",
    "    else:\n",
    "        print(\"Current loss {: 1.6e}, Best loss {: 1.6e}. Keeping current model weights.\".format(epoch_loss[i],best_loss))\n",
    "        \n",
    "    return epoch_loss, N_loss, gradient_loss, divergence_loss"
   ]
  },
  {
   "cell_type": "code",
   "execution_count": 13,
   "id": "b019f2ab",
   "metadata": {
    "colab": {
     "base_uri": "https://localhost:8080/"
    },
    "id": "b019f2ab",
    "outputId": "7b17b0a2-b53f-4f19-8d1f-fd05f2447591",
    "scrolled": true
   },
   "outputs": [
    {
     "name": "stdout",
     "output_type": "stream",
     "text": [
      "PDE loss in 0th epoch:  4.595657e+08. Last save epoch and best loss so far: -1,  1.000000e+12.\n",
      "PDE loss in 100th epoch:  4.445039e+08. Last save epoch and best loss so far: 99,  4.448244e+08.\n",
      "PDE loss in 200th epoch:  3.258158e+08. Last save epoch and best loss so far: 199,  3.278269e+08.\n",
      "PDE loss in 300th epoch:  1.711292e+08. Last save epoch and best loss so far: 299,  1.722340e+08.\n",
      "PDE loss in 400th epoch:  9.870743e+07. Last save epoch and best loss so far: 399,  9.917283e+07.\n",
      "PDE loss in 500th epoch:  6.682542e+07. Last save epoch and best loss so far: 499,  6.701315e+07.\n",
      "PDE loss in 600th epoch:  4.951080e+07. Last save epoch and best loss so far: 599,  4.968199e+07.\n",
      "PDE loss in 700th epoch:  3.832310e+07. Last save epoch and best loss so far: 699,  3.841176e+07.\n",
      "PDE loss in 800th epoch:  3.282564e+07. Last save epoch and best loss so far: 793,  3.203804e+07.\n",
      "PDE loss in 900th epoch:  2.696450e+07. Last save epoch and best loss so far: 899,  2.699696e+07.\n",
      "PDE loss in 1000th epoch:  2.396282e+07. Last save epoch and best loss so far: 997,  2.395489e+07.\n",
      "PDE loss in 1100th epoch:  2.139148e+07. Last save epoch and best loss so far: 1099,  2.141646e+07.\n",
      "PDE loss in 1200th epoch:  1.964258e+07. Last save epoch and best loss so far: 1199,  1.963751e+07.\n",
      "PDE loss in 1300th epoch:  1.804420e+07. Last save epoch and best loss so far: 1299,  1.805440e+07.\n",
      "PDE loss in 1400th epoch:  1.681699e+07. Last save epoch and best loss so far: 1399,  1.682680e+07.\n",
      "PDE loss in 1500th epoch:  1.621628e+07. Last save epoch and best loss so far: 1494,  1.587357e+07.\n",
      "PDE loss in 1600th epoch:  1.511058e+07. Last save epoch and best loss so far: 1576,  1.513736e+07.\n"
     ]
    },
    {
     "ename": "KeyboardInterrupt",
     "evalue": "",
     "output_type": "error",
     "traceback": [
      "\u001b[1;31m---------------------------------------------------------------------------\u001b[0m",
      "\u001b[1;31mKeyboardInterrupt\u001b[0m                         Traceback (most recent call last)",
      "\u001b[1;32m~\\AppData\\Local\\Temp\\ipykernel_30288\\2566990092.py\u001b[0m in \u001b[0;36m<cell line: 3>\u001b[1;34m()\u001b[0m\n\u001b[0;32m      1\u001b[0m \u001b[1;31m# train NN for Monte Carlo sample\u001b[0m\u001b[1;33m\u001b[0m\u001b[1;33m\u001b[0m\u001b[0m\n\u001b[0;32m      2\u001b[0m \u001b[0mepochs\u001b[0m \u001b[1;33m=\u001b[0m \u001b[1;36m10000\u001b[0m\u001b[1;33m\u001b[0m\u001b[1;33m\u001b[0m\u001b[0m\n\u001b[1;32m----> 3\u001b[1;33m \u001b[0mPDE_loss1\u001b[0m\u001b[1;33m,\u001b[0m \u001b[0mN_loss1\u001b[0m\u001b[1;33m,\u001b[0m \u001b[0mgradient_loss1\u001b[0m\u001b[1;33m,\u001b[0m \u001b[0mdivergence_loss1\u001b[0m \u001b[1;33m=\u001b[0m \u001b[0mPINNtrain\u001b[0m\u001b[1;33m(\u001b[0m\u001b[0mtf\u001b[0m\u001b[1;33m.\u001b[0m\u001b[0mconvert_to_tensor\u001b[0m\u001b[1;33m(\u001b[0m\u001b[0minput_data_MC\u001b[0m\u001b[1;33m,\u001b[0m \u001b[0mdtype\u001b[0m \u001b[1;33m=\u001b[0m \u001b[0mfloat\u001b[0m\u001b[1;33m)\u001b[0m\u001b[1;33m,\u001b[0m \u001b[0mepochs\u001b[0m\u001b[1;33m,\u001b[0m \u001b[0mmodel5\u001b[0m\u001b[1;33m)\u001b[0m\u001b[1;33m\u001b[0m\u001b[1;33m\u001b[0m\u001b[0m\n\u001b[0m",
      "\u001b[1;32m~\\AppData\\Local\\Temp\\ipykernel_30288\\598270204.py\u001b[0m in \u001b[0;36mPINNtrain\u001b[1;34m(x, epochs, model)\u001b[0m\n\u001b[0;32m     22\u001b[0m     \u001b[1;32mfor\u001b[0m \u001b[0mi\u001b[0m \u001b[1;32min\u001b[0m \u001b[0mrange\u001b[0m\u001b[1;33m(\u001b[0m\u001b[0mepochs\u001b[0m\u001b[1;33m)\u001b[0m\u001b[1;33m:\u001b[0m\u001b[1;33m\u001b[0m\u001b[1;33m\u001b[0m\u001b[0m\n\u001b[0;32m     23\u001b[0m \u001b[1;33m\u001b[0m\u001b[0m\n\u001b[1;32m---> 24\u001b[1;33m         \u001b[0mepoch_loss\u001b[0m\u001b[1;33m[\u001b[0m\u001b[0mi\u001b[0m\u001b[1;33m]\u001b[0m\u001b[1;33m,\u001b[0m \u001b[0mN_loss\u001b[0m\u001b[1;33m[\u001b[0m\u001b[0mi\u001b[0m\u001b[1;33m]\u001b[0m\u001b[1;33m,\u001b[0m \u001b[0mgradient_loss\u001b[0m\u001b[1;33m[\u001b[0m\u001b[0mi\u001b[0m\u001b[1;33m]\u001b[0m\u001b[1;33m,\u001b[0m \u001b[0mdivergence_loss\u001b[0m\u001b[1;33m[\u001b[0m\u001b[0mi\u001b[0m\u001b[1;33m]\u001b[0m  \u001b[1;33m=\u001b[0m \u001b[0mtrainStep_N_dimension\u001b[0m\u001b[1;33m(\u001b[0m\u001b[0mx\u001b[0m\u001b[1;33m,\u001b[0m \u001b[0mdiffusion_x\u001b[0m\u001b[1;33m,\u001b[0m \u001b[0mgrad_diffusion_x\u001b[0m\u001b[1;33m,\u001b[0m \u001b[0mexact_x\u001b[0m\u001b[1;33m,\u001b[0m \u001b[0mexact_grad_x\u001b[0m\u001b[1;33m,\u001b[0m \u001b[0mexact_div_x\u001b[0m\u001b[1;33m,\u001b[0m \u001b[0mopt\u001b[0m\u001b[1;33m,\u001b[0m \u001b[0mmodel\u001b[0m\u001b[1;33m)\u001b[0m\u001b[1;33m\u001b[0m\u001b[1;33m\u001b[0m\u001b[0m\n\u001b[0m\u001b[0;32m     25\u001b[0m \u001b[1;33m\u001b[0m\u001b[0m\n\u001b[0;32m     26\u001b[0m         \u001b[1;32mif\u001b[0m \u001b[1;33m(\u001b[0m\u001b[0mnp\u001b[0m\u001b[1;33m.\u001b[0m\u001b[0mmod\u001b[0m\u001b[1;33m(\u001b[0m\u001b[0mi\u001b[0m\u001b[1;33m,\u001b[0m \u001b[1;36m100\u001b[0m\u001b[1;33m)\u001b[0m\u001b[1;33m==\u001b[0m\u001b[1;36m0\u001b[0m\u001b[1;33m)\u001b[0m\u001b[1;33m:\u001b[0m\u001b[1;33m\u001b[0m\u001b[1;33m\u001b[0m\u001b[0m\n",
      "\u001b[1;32m~\\AppData\\Local\\Temp\\ipykernel_30288\\1947848089.py\u001b[0m in \u001b[0;36mtrainStep_N_dimension\u001b[1;34m(x, diffusion_x, grad_diffusion_x, exact_x, exact_grad_x, exact_div_x, opt, model)\u001b[0m\n\u001b[0;32m     24\u001b[0m         \u001b[0mdiv_N\u001b[0m \u001b[1;33m=\u001b[0m \u001b[0mtf\u001b[0m\u001b[1;33m.\u001b[0m\u001b[0mzeros\u001b[0m\u001b[1;33m(\u001b[0m\u001b[1;33m[\u001b[0m\u001b[0mL\u001b[0m\u001b[1;33m]\u001b[0m\u001b[1;33m)\u001b[0m\u001b[1;33m\u001b[0m\u001b[1;33m\u001b[0m\u001b[0m\n\u001b[0;32m     25\u001b[0m         \u001b[1;32mfor\u001b[0m \u001b[0mi\u001b[0m \u001b[1;32min\u001b[0m \u001b[0mrange\u001b[0m\u001b[1;33m(\u001b[0m\u001b[0mx_dim\u001b[0m\u001b[1;33m)\u001b[0m\u001b[1;33m:\u001b[0m\u001b[1;33m\u001b[0m\u001b[1;33m\u001b[0m\u001b[0m\n\u001b[1;32m---> 26\u001b[1;33m             \u001b[0mdiv_N\u001b[0m \u001b[1;33m=\u001b[0m \u001b[0mdiv_N\u001b[0m \u001b[1;33m+\u001b[0m \u001b[0mtape1\u001b[0m\u001b[1;33m.\u001b[0m\u001b[0mgradient\u001b[0m\u001b[1;33m(\u001b[0m\u001b[0mgrad_N_i\u001b[0m\u001b[1;33m[\u001b[0m\u001b[0mi\u001b[0m\u001b[1;33m]\u001b[0m\u001b[1;33m,\u001b[0m \u001b[0mx\u001b[0m\u001b[1;33m)\u001b[0m\u001b[1;33m[\u001b[0m\u001b[1;33m:\u001b[0m\u001b[1;33m,\u001b[0m \u001b[0mi\u001b[0m\u001b[1;33m]\u001b[0m\u001b[1;33m\u001b[0m\u001b[1;33m\u001b[0m\u001b[0m\n\u001b[0m\u001b[0;32m     27\u001b[0m \u001b[1;33m\u001b[0m\u001b[0m\n\u001b[0;32m     28\u001b[0m \u001b[1;33m\u001b[0m\u001b[0m\n",
      "\u001b[1;32m~\\anaconda3\\lib\\site-packages\\tensorflow\\python\\eager\\backprop.py\u001b[0m in \u001b[0;36mgradient\u001b[1;34m(self, target, sources, output_gradients, unconnected_gradients)\u001b[0m\n\u001b[0;32m   1082\u001b[0m                           for x in nest.flatten(output_gradients)]\n\u001b[0;32m   1083\u001b[0m \u001b[1;33m\u001b[0m\u001b[0m\n\u001b[1;32m-> 1084\u001b[1;33m     flat_grad = imperative_grad.imperative_grad(\n\u001b[0m\u001b[0;32m   1085\u001b[0m         \u001b[0mself\u001b[0m\u001b[1;33m.\u001b[0m\u001b[0m_tape\u001b[0m\u001b[1;33m,\u001b[0m\u001b[1;33m\u001b[0m\u001b[1;33m\u001b[0m\u001b[0m\n\u001b[0;32m   1086\u001b[0m         \u001b[0mflat_targets\u001b[0m\u001b[1;33m,\u001b[0m\u001b[1;33m\u001b[0m\u001b[1;33m\u001b[0m\u001b[0m\n",
      "\u001b[1;32m~\\anaconda3\\lib\\site-packages\\tensorflow\\python\\eager\\imperative_grad.py\u001b[0m in \u001b[0;36mimperative_grad\u001b[1;34m(tape, target, sources, output_gradients, sources_raw, unconnected_gradients)\u001b[0m\n\u001b[0;32m     69\u001b[0m         \"Unknown value for unconnected_gradients: %r\" % unconnected_gradients)\n\u001b[0;32m     70\u001b[0m \u001b[1;33m\u001b[0m\u001b[0m\n\u001b[1;32m---> 71\u001b[1;33m   return pywrap_tfe.TFE_Py_TapeGradient(\n\u001b[0m\u001b[0;32m     72\u001b[0m       \u001b[0mtape\u001b[0m\u001b[1;33m.\u001b[0m\u001b[0m_tape\u001b[0m\u001b[1;33m,\u001b[0m  \u001b[1;31m# pylint: disable=protected-access\u001b[0m\u001b[1;33m\u001b[0m\u001b[1;33m\u001b[0m\u001b[0m\n\u001b[0;32m     73\u001b[0m       \u001b[0mtarget\u001b[0m\u001b[1;33m,\u001b[0m\u001b[1;33m\u001b[0m\u001b[1;33m\u001b[0m\u001b[0m\n",
      "\u001b[1;32m~\\anaconda3\\lib\\site-packages\\tensorflow\\python\\eager\\backprop.py\u001b[0m in \u001b[0;36m_aggregate_grads\u001b[1;34m(gradients)\u001b[0m\n\u001b[0;32m    648\u001b[0m     \u001b[1;32mreturn\u001b[0m \u001b[0mgradients\u001b[0m\u001b[1;33m[\u001b[0m\u001b[1;36m0\u001b[0m\u001b[1;33m]\u001b[0m\u001b[1;33m\u001b[0m\u001b[1;33m\u001b[0m\u001b[0m\n\u001b[0;32m    649\u001b[0m   \u001b[1;32mif\u001b[0m \u001b[0mall\u001b[0m\u001b[1;33m(\u001b[0m\u001b[0misinstance\u001b[0m\u001b[1;33m(\u001b[0m\u001b[0mg\u001b[0m\u001b[1;33m,\u001b[0m \u001b[0mops\u001b[0m\u001b[1;33m.\u001b[0m\u001b[0mTensor\u001b[0m\u001b[1;33m)\u001b[0m \u001b[1;32mfor\u001b[0m \u001b[0mg\u001b[0m \u001b[1;32min\u001b[0m \u001b[0mgradients\u001b[0m\u001b[1;33m)\u001b[0m\u001b[1;33m:\u001b[0m\u001b[1;33m\u001b[0m\u001b[1;33m\u001b[0m\u001b[0m\n\u001b[1;32m--> 650\u001b[1;33m     \u001b[1;32mreturn\u001b[0m \u001b[0mgen_math_ops\u001b[0m\u001b[1;33m.\u001b[0m\u001b[0madd_n\u001b[0m\u001b[1;33m(\u001b[0m\u001b[0mgradients\u001b[0m\u001b[1;33m)\u001b[0m\u001b[1;33m\u001b[0m\u001b[1;33m\u001b[0m\u001b[0m\n\u001b[0m\u001b[0;32m    651\u001b[0m   \u001b[1;32melse\u001b[0m\u001b[1;33m:\u001b[0m\u001b[1;33m\u001b[0m\u001b[1;33m\u001b[0m\u001b[0m\n\u001b[0;32m    652\u001b[0m     assert all(isinstance(g, (ops.Tensor, ops.IndexedSlices))\n",
      "\u001b[1;32m~\\anaconda3\\lib\\site-packages\\tensorflow\\python\\ops\\gen_math_ops.py\u001b[0m in \u001b[0;36madd_n\u001b[1;34m(inputs, name)\u001b[0m\n\u001b[0;32m    380\u001b[0m   \u001b[1;32mif\u001b[0m \u001b[0mtld\u001b[0m\u001b[1;33m.\u001b[0m\u001b[0mis_eager\u001b[0m\u001b[1;33m:\u001b[0m\u001b[1;33m\u001b[0m\u001b[1;33m\u001b[0m\u001b[0m\n\u001b[0;32m    381\u001b[0m     \u001b[1;32mtry\u001b[0m\u001b[1;33m:\u001b[0m\u001b[1;33m\u001b[0m\u001b[1;33m\u001b[0m\u001b[0m\n\u001b[1;32m--> 382\u001b[1;33m       _result = pywrap_tfe.TFE_Py_FastPathExecute(\n\u001b[0m\u001b[0;32m    383\u001b[0m         _ctx, \"AddN\", name, inputs)\n\u001b[0;32m    384\u001b[0m       \u001b[1;32mreturn\u001b[0m \u001b[0m_result\u001b[0m\u001b[1;33m\u001b[0m\u001b[1;33m\u001b[0m\u001b[0m\n",
      "\u001b[1;31mKeyboardInterrupt\u001b[0m: "
     ]
    }
   ],
   "source": [
    "# train NN for Monte Carlo sample\n",
    "epochs = 10000\n",
    "PDE_loss1, N_loss1, gradient_loss1, divergence_loss1 = PINNtrain(tf.convert_to_tensor(input_data_MC, dtype = float), epochs, model5)\n"
   ]
  },
  {
   "cell_type": "markdown",
   "id": "DbjVHNePgNev",
   "metadata": {
    "id": "DbjVHNePgNev"
   },
   "source": [
    "## Loss vs. number of epochs"
   ]
  },
  {
   "cell_type": "code",
   "execution_count": null,
   "id": "d3c168d4",
   "metadata": {
    "colab": {
     "base_uri": "https://localhost:8080/",
     "height": 279
    },
    "executionInfo": {
     "elapsed": 680,
     "status": "ok",
     "timestamp": 1673560178421,
     "user": {
      "displayName": "Weiqi Wang",
      "userId": "14698951202238730823"
     },
     "user_tz": 300
    },
    "id": "d3c168d4",
    "outputId": "7593ed29-8884-4c20-d475-03638c7e1e0d"
   },
   "outputs": [
    {
     "data": {
      "image/png": "[encoded data removed]",
      "text/plain": [
       "<Figure size 432x288 with 1 Axes>"
      ]
     },
     "metadata": {
      "needs_background": "light"
     },
     "output_type": "display_data"
    }
   ],
   "source": [
    "fig = plt.figure(1)\n",
    "plt.semilogy(range(0, epochs), PDE_loss1)\n",
    "plt.xlabel('epochs')\n",
    "plt.ylabel('loss')\n",
    "\n",
    "plt.grid()\n",
    "plt.show()"
   ]
  },
  {
   "cell_type": "markdown",
   "id": "9J-RXefjgZxw",
   "metadata": {
    "id": "9J-RXefjgZxw"
   },
   "source": [
    "## Errors vs. epochs"
   ]
  },
  {
   "cell_type": "code",
   "execution_count": null,
   "id": "45faa8dd",
   "metadata": {
    "colab": {
     "base_uri": "https://localhost:8080/",
     "height": 279
    },
    "executionInfo": {
     "elapsed": 731,
     "status": "ok",
     "timestamp": 1673560181048,
     "user": {
      "displayName": "Weiqi Wang",
      "userId": "14698951202238730823"
     },
     "user_tz": 300
    },
    "id": "45faa8dd",
    "outputId": "3e6506ca-c432-4759-800f-d738f03f7ec3"
   },
   "outputs": [
    {
     "data": {
      "image/png": "[encoded data removed]",
      "text/plain": [
       "<Figure size 432x288 with 1 Axes>"
      ]
     },
     "metadata": {
      "needs_background": "light"
     },
     "output_type": "display_data"
    }
   ],
   "source": [
    "fig = plt.figure(2)\n",
    "plt.semilogy(range(0, epochs), PDE_loss1, range(0, epochs), N_loss1, range(0, epochs), gradient_loss1, range(0, epochs), divergence_loss1)\n",
    "plt.xlabel('epochs')\n",
    "plt.ylabel('loss')\n",
    "plt.legend(['PDE','function','gradient','divergence'])\n",
    "\n",
    "plt.grid()\n",
    "plt.show()"
   ]
  },
  {
   "cell_type": "markdown",
   "id": "DwjG29Omgm0h",
   "metadata": {
    "id": "DwjG29Omgm0h"
   },
   "source": [
    "## Relative $L^2$ error. (Calculate using Monte-Carlo)"
   ]
  },
  {
   "cell_type": "code",
   "execution_count": null,
   "id": "eb1e2c80",
   "metadata": {
    "colab": {
     "base_uri": "https://localhost:8080/"
    },
    "executionInfo": {
     "elapsed": 344,
     "status": "ok",
     "timestamp": 1673560184884,
     "user": {
      "displayName": "Weiqi Wang",
      "userId": "14698951202238730823"
     },
     "user_tz": 300
    },
    "id": "eb1e2c80",
    "outputId": "4482fce1-62b4-4dbd-f224-965e8a5460ae"
   },
   "outputs": [
    {
     "name": "stdout",
     "output_type": "stream",
     "text": [
      "0.002030984981359603\n"
     ]
    }
   ],
   "source": [
    "# relative L^2 error\n",
    "input_data_MC = np.random.uniform(0 ,1, (2*N,input_dim))\n",
    "z_model = model5(input_data_MC)\n",
    "z_model = tf.reshape(z_model, [2*N])\n",
    "z_exact = exact_solu(input_data_MC)\n",
    "error = np.sqrt(sum(np.square(z_model - z_exact)))/np.sqrt(sum(np.square(z_exact)))\n",
    "print(error)"
   ]
  },
  {
   "cell_type": "code",
   "execution_count": null,
   "id": "3a81c38f",
   "metadata": {
    "colab": {
     "base_uri": "https://localhost:8080/",
     "height": 283
    },
    "executionInfo": {
     "elapsed": 342,
     "status": "ok",
     "timestamp": 1673560187025,
     "user": {
      "displayName": "Weiqi Wang",
      "userId": "14698951202238730823"
     },
     "user_tz": 300
    },
    "id": "3a81c38f",
    "outputId": "e83dea21-12b0-4d63-fe53-a9a80c4275a7"
   },
   "outputs": [
    {
     "data": {
      "text/plain": [
       "[<matplotlib.lines.Line2D at 0x7fceb569a910>]"
      ]
     },
     "execution_count": 49,
     "metadata": {},
     "output_type": "execute_result"
    },
    {
     "data": {
      "image/png": "[encoded data removed]",
      "text/plain": [
       "<Figure size 432x288 with 1 Axes>"
      ]
     },
     "metadata": {
      "needs_background": "light"
     },
     "output_type": "display_data"
    }
   ],
   "source": [
    "plt.plot(z_model-z_exact)"
   ]
  },
  {
   "cell_type": "markdown",
   "id": "1Z_VV1z9hNCG",
   "metadata": {
    "id": "1Z_VV1z9hNCG"
   },
   "source": [
    "## Compare the NN results with the exact solution"
   ]
  },
  {
   "cell_type": "code",
   "execution_count": null,
   "id": "PEpAXV_3hBW_",
   "metadata": {
    "colab": {
     "base_uri": "https://localhost:8080/",
     "height": 396
    },
    "executionInfo": {
     "elapsed": 319,
     "status": "error",
     "timestamp": 1673560193054,
     "user": {
      "displayName": "Weiqi Wang",
      "userId": "14698951202238730823"
     },
     "user_tz": 300
    },
    "id": "PEpAXV_3hBW_",
    "outputId": "60d85475-9e66-4c2a-c243-9de1d9b9645a"
   },
   "outputs": [
    {
     "ename": "ValueError",
     "evalue": "ignored",
     "output_type": "error",
     "traceback": [
      "\u001b[0;31m---------------------------------------------------------------------------\u001b[0m",
      "\u001b[0;31mValueError\u001b[0m                                Traceback (most recent call last)",
      "\u001b[0;32m<ipython-input-50-6c1d777fb370>\u001b[0m in \u001b[0;36m<module>\u001b[0;34m\u001b[0m\n\u001b[1;32m     12\u001b[0m \u001b[0mx5\u001b[0m \u001b[0;34m=\u001b[0m \u001b[0mx5\u001b[0m\u001b[0;34m*\u001b[0m \u001b[0mnp\u001b[0m\u001b[0;34m.\u001b[0m\u001b[0mones\u001b[0m\u001b[0;34m(\u001b[0m\u001b[0;34m(\u001b[0m\u001b[0mM_plot\u001b[0m\u001b[0;34m**\u001b[0m\u001b[0;36m2\u001b[0m\u001b[0;34m,\u001b[0m\u001b[0;36m1\u001b[0m\u001b[0;34m)\u001b[0m\u001b[0;34m)\u001b[0m\u001b[0;34m\u001b[0m\u001b[0;34m\u001b[0m\u001b[0m\n\u001b[1;32m     13\u001b[0m \u001b[0mx6\u001b[0m \u001b[0;34m=\u001b[0m \u001b[0mx6\u001b[0m\u001b[0;34m*\u001b[0m \u001b[0mnp\u001b[0m\u001b[0;34m.\u001b[0m\u001b[0mones\u001b[0m\u001b[0;34m(\u001b[0m\u001b[0;34m(\u001b[0m\u001b[0mM_plot\u001b[0m\u001b[0;34m**\u001b[0m\u001b[0;36m2\u001b[0m\u001b[0;34m,\u001b[0m\u001b[0;36m1\u001b[0m\u001b[0;34m)\u001b[0m\u001b[0;34m)\u001b[0m\u001b[0;34m\u001b[0m\u001b[0;34m\u001b[0m\u001b[0m\n\u001b[0;32m---> 14\u001b[0;31m \u001b[0mz_model\u001b[0m \u001b[0;34m=\u001b[0m \u001b[0mmodel5\u001b[0m\u001b[0;34m(\u001b[0m\u001b[0mnp\u001b[0m\u001b[0;34m.\u001b[0m\u001b[0mconcatenate\u001b[0m\u001b[0;34m(\u001b[0m\u001b[0;34m(\u001b[0m\u001b[0mx\u001b[0m\u001b[0;34m,\u001b[0m \u001b[0my\u001b[0m\u001b[0;34m,\u001b[0m \u001b[0mx3\u001b[0m\u001b[0;34m,\u001b[0m \u001b[0mx4\u001b[0m\u001b[0;34m,\u001b[0m \u001b[0mx5\u001b[0m\u001b[0;34m,\u001b[0m \u001b[0mx6\u001b[0m\u001b[0;34m)\u001b[0m\u001b[0;34m,\u001b[0m \u001b[0maxis\u001b[0m\u001b[0;34m=\u001b[0m\u001b[0;36m1\u001b[0m\u001b[0;34m)\u001b[0m\u001b[0;34m)\u001b[0m\u001b[0;34m\u001b[0m\u001b[0;34m\u001b[0m\u001b[0m\n\u001b[0m\u001b[1;32m     15\u001b[0m \u001b[0mz_true\u001b[0m \u001b[0;34m=\u001b[0m \u001b[0mexact_solu\u001b[0m\u001b[0;34m(\u001b[0m\u001b[0mnp\u001b[0m\u001b[0;34m.\u001b[0m\u001b[0mconcatenate\u001b[0m\u001b[0;34m(\u001b[0m\u001b[0;34m(\u001b[0m\u001b[0mx\u001b[0m\u001b[0;34m,\u001b[0m \u001b[0my\u001b[0m\u001b[0;34m,\u001b[0m \u001b[0mx3\u001b[0m\u001b[0;34m,\u001b[0m \u001b[0mx4\u001b[0m\u001b[0;34m,\u001b[0m \u001b[0mx5\u001b[0m\u001b[0;34m,\u001b[0m \u001b[0mx6\u001b[0m\u001b[0;34m)\u001b[0m\u001b[0;34m,\u001b[0m \u001b[0maxis\u001b[0m\u001b[0;34m=\u001b[0m\u001b[0;36m1\u001b[0m\u001b[0;34m)\u001b[0m\u001b[0;34m)\u001b[0m\u001b[0;34m\u001b[0m\u001b[0;34m\u001b[0m\u001b[0m\n\u001b[1;32m     16\u001b[0m \u001b[0mz_model\u001b[0m \u001b[0;34m=\u001b[0m \u001b[0mz_model\u001b[0m\u001b[0;34m.\u001b[0m\u001b[0mnumpy\u001b[0m\u001b[0;34m(\u001b[0m\u001b[0;34m)\u001b[0m\u001b[0;34m.\u001b[0m\u001b[0mreshape\u001b[0m\u001b[0;34m(\u001b[0m\u001b[0mM_plot\u001b[0m\u001b[0;34m,\u001b[0m\u001b[0mM_plot\u001b[0m\u001b[0;34m)\u001b[0m\u001b[0;34m\u001b[0m\u001b[0;34m\u001b[0m\u001b[0m\n",
      "\u001b[0;32m/usr/local/lib/python3.8/dist-packages/keras/utils/traceback_utils.py\u001b[0m in \u001b[0;36merror_handler\u001b[0;34m(*args, **kwargs)\u001b[0m\n\u001b[1;32m     65\u001b[0m     \u001b[0;32mexcept\u001b[0m \u001b[0mException\u001b[0m \u001b[0;32mas\u001b[0m \u001b[0me\u001b[0m\u001b[0;34m:\u001b[0m  \u001b[0;31m# pylint: disable=broad-except\u001b[0m\u001b[0;34m\u001b[0m\u001b[0;34m\u001b[0m\u001b[0m\n\u001b[1;32m     66\u001b[0m       \u001b[0mfiltered_tb\u001b[0m \u001b[0;34m=\u001b[0m \u001b[0m_process_traceback_frames\u001b[0m\u001b[0;34m(\u001b[0m\u001b[0me\u001b[0m\u001b[0;34m.\u001b[0m\u001b[0m__traceback__\u001b[0m\u001b[0;34m)\u001b[0m\u001b[0;34m\u001b[0m\u001b[0;34m\u001b[0m\u001b[0m\n\u001b[0;32m---> 67\u001b[0;31m       \u001b[0;32mraise\u001b[0m \u001b[0me\u001b[0m\u001b[0;34m.\u001b[0m\u001b[0mwith_traceback\u001b[0m\u001b[0;34m(\u001b[0m\u001b[0mfiltered_tb\u001b[0m\u001b[0;34m)\u001b[0m \u001b[0;32mfrom\u001b[0m \u001b[0;32mNone\u001b[0m\u001b[0;34m\u001b[0m\u001b[0;34m\u001b[0m\u001b[0m\n\u001b[0m\u001b[1;32m     68\u001b[0m     \u001b[0;32mfinally\u001b[0m\u001b[0;34m:\u001b[0m\u001b[0;34m\u001b[0m\u001b[0;34m\u001b[0m\u001b[0m\n\u001b[1;32m     69\u001b[0m       \u001b[0;32mdel\u001b[0m \u001b[0mfiltered_tb\u001b[0m\u001b[0;34m\u001b[0m\u001b[0;34m\u001b[0m\u001b[0m\n",
      "\u001b[0;32m/usr/local/lib/python3.8/dist-packages/keras/engine/input_spec.py\u001b[0m in \u001b[0;36massert_input_compatibility\u001b[0;34m(input_spec, inputs, layer_name)\u001b[0m\n\u001b[1;32m    262\u001b[0m         \u001b[0;32mif\u001b[0m \u001b[0mspec_dim\u001b[0m \u001b[0;32mis\u001b[0m \u001b[0;32mnot\u001b[0m \u001b[0;32mNone\u001b[0m \u001b[0;32mand\u001b[0m \u001b[0mdim\u001b[0m \u001b[0;32mis\u001b[0m \u001b[0;32mnot\u001b[0m \u001b[0;32mNone\u001b[0m\u001b[0;34m:\u001b[0m\u001b[0;34m\u001b[0m\u001b[0;34m\u001b[0m\u001b[0m\n\u001b[1;32m    263\u001b[0m           \u001b[0;32mif\u001b[0m \u001b[0mspec_dim\u001b[0m \u001b[0;34m!=\u001b[0m \u001b[0mdim\u001b[0m\u001b[0;34m:\u001b[0m\u001b[0;34m\u001b[0m\u001b[0;34m\u001b[0m\u001b[0m\n\u001b[0;32m--> 264\u001b[0;31m             raise ValueError(f'Input {input_index} of layer \"{layer_name}\" is '\n\u001b[0m\u001b[1;32m    265\u001b[0m                              \u001b[0;34m'incompatible with the layer: '\u001b[0m\u001b[0;34m\u001b[0m\u001b[0;34m\u001b[0m\u001b[0m\n\u001b[1;32m    266\u001b[0m                              \u001b[0;34mf'expected shape={spec.shape}, '\u001b[0m\u001b[0;34m\u001b[0m\u001b[0;34m\u001b[0m\u001b[0m\n",
      "\u001b[0;31mValueError\u001b[0m: Input 0 of layer \"sequential_1\" is incompatible with the layer: expected shape=(None, 10), found shape=(2500, 6)"
     ]
    }
   ],
   "source": [
    "# Define x3,x4,x5,x6 here\n",
    "M_plot = 50\n",
    "x3, x4, x5, x6 = 0.25, 0.25, 0.25, 0.25\n",
    "\n",
    "x = np.outer(np.linspace(0,1,M_plot), np.ones(M_plot))\n",
    "y = x.copy().T\n",
    "\n",
    "x = x.reshape(M_plot**2,1)\n",
    "y = y.reshape(M_plot**2,1)\n",
    "x3 = x3* np.ones((M_plot**2,1))\n",
    "x4 = x4* np.ones((M_plot**2,1))\n",
    "x5 = x5* np.ones((M_plot**2,1))\n",
    "x6 = x6* np.ones((M_plot**2,1))\n",
    "z_model = model5(np.concatenate((x, y, x3, x4, x5, x6), axis=1))\n",
    "z_true = exact_solu(np.concatenate((x, y, x3, x4, x5, x6), axis=1))\n",
    "z_model = z_model.numpy().reshape(M_plot,M_plot)\n",
    "z_true = z_true.reshape(M_plot,M_plot)"
   ]
  },
  {
   "cell_type": "code",
   "execution_count": null,
   "id": "d1cfac4d",
   "metadata": {
    "colab": {
     "base_uri": "https://localhost:8080/",
     "height": 266
    },
    "executionInfo": {
     "elapsed": 4,
     "status": "ok",
     "timestamp": 1673558139397,
     "user": {
      "displayName": "Weiqi Wang",
      "userId": "14698951202238730823"
     },
     "user_tz": 300
    },
    "id": "d1cfac4d",
    "outputId": "b6cb748e-6a72-4f61-c207-92beb07de875"
   },
   "outputs": [
    {
     "data": {
      "text/plain": [
       "Text(0.5, 0.92, 'Error original function')"
      ]
     },
     "execution_count": 33,
     "metadata": {},
     "output_type": "execute_result"
    },
    {
     "data": {
      "image/png": "[encoded data removed]",
      "text/plain": [
       "<Figure size 432x288 with 1 Axes>"
      ]
     },
     "metadata": {
      "needs_background": "light"
     },
     "output_type": "display_data"
    }
   ],
   "source": [
    "fig = plt.figure()\n",
    "ax1 = plt.axes(projection='3d')\n",
    "x = x.reshape(M_plot,M_plot)\n",
    "y = y.reshape(M_plot,M_plot)\n",
    "function_error = z_model - z_true\n",
    "ax1.plot_wireframe(x,y,z_true)\n",
    "ax1.view_init(20,45)\n",
    "ax1.set_title(\"Error original function\")"
   ]
  },
  {
   "cell_type": "code",
   "execution_count": null,
   "id": "ccf35ba6",
   "metadata": {
    "id": "ccf35ba6"
   },
   "outputs": [],
   "source": []
  }
 ],
 "metadata": {
  "accelerator": "GPU",
  "colab": {
   "provenance": [
    {
     "file_id": "1DfTfJA9wEV9ewY0PZWWor3YsAR9fIM1O",
     "timestamp": 1673633115569
    },
    {
     "file_id": "1kJe2n6fjaSQggxs_asr_ZjUpucgfTC3V",
     "timestamp": 1673556087781
    },
    {
     "file_id": "1n7AJXJtOBwM9Ma96mqZIsDiB-3TCLlZM",
     "timestamp": 1673540927277
    }
   ]
  },
  "gpuClass": "standard",
  "kernelspec": {
   "display_name": "Python 3 (ipykernel)",
   "language": "python",
   "name": "python3"
  },
  "language_info": {
   "codemirror_mode": {
    "name": "ipython",
    "version": 3
   },
   "file_extension": ".py",
   "mimetype": "text/x-python",
   "name": "python",
   "nbconvert_exporter": "python",
   "pygments_lexer": "ipython3",
   "version": "3.9.12"
  }
 },
 "nbformat": 4,
 "nbformat_minor": 5
}
