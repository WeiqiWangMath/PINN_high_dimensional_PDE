{
 "cells": [
  {
   "cell_type": "code",
   "execution_count": 1,
   "id": "e7afa3f0",
   "metadata": {
    "id": "e7afa3f0"
   },
   "outputs": [],
   "source": [
    "import os\n",
    "import numpy as np\n",
    "import tensorflow as tf\n",
    "from tensorflow import keras\n",
    "from tensorflow.keras import layers\n",
    "import matplotlib.pyplot as plt\n",
    "from numpy.linalg import norm\n",
    "np.set_printoptions(precision = 3, suppress = True)"
   ]
  },
  {
   "cell_type": "code",
   "execution_count": 2,
   "id": "95c34846",
   "metadata": {
    "colab": {
     "base_uri": "https://localhost:8080/"
    },
    "id": "95c34846",
    "outputId": "48e1965c-d7b2-4ed5-cbf8-aa5a0d3d835f"
   },
   "outputs": [
    {
     "name": "stdout",
     "output_type": "stream",
     "text": [
      "WARNING:tensorflow:From C:\\Users\\weiqi\\AppData\\Local\\Temp\\ipykernel_17472\\337460670.py:1: is_gpu_available (from tensorflow.python.framework.test_util) is deprecated and will be removed in a future version.\n",
      "Instructions for updating:\n",
      "Use `tf.config.list_physical_devices('GPU')` instead.\n"
     ]
    },
    {
     "data": {
      "text/plain": [
       "True"
      ]
     },
     "execution_count": 2,
     "metadata": {},
     "output_type": "execute_result"
    }
   ],
   "source": [
    "tf.test.is_gpu_available()"
   ]
  },
  {
   "cell_type": "code",
   "execution_count": 3,
   "id": "b0378b53",
   "metadata": {
    "id": "b0378b53"
   },
   "outputs": [],
   "source": [
    "from keras import backend as K\n",
    "\n",
    "class BiasLayer(tf.keras.layers.Layer):\n",
    "    def __init__(self, *args, **kwargs):\n",
    "        super(BiasLayer, self).__init__(*args, **kwargs)\n",
    "\n",
    "    def build(self, input_shape):\n",
    "        print(input_shape)\n",
    "        self.bias = self.add_weight('bias',\n",
    "                                    shape=input_shape[1:],\n",
    "                                    initializer='glorot',\n",
    "                                    trainable=True)\n",
    "    def call(self, x):\n",
    "        return x + self.bias\n",
    "\n",
    "class ConstantTensorInitializer(tf.keras.initializers.Initializer):\n",
    "  \"\"\"Initializes tensors to `t`.\"\"\"\n",
    "\n",
    "  def __init__(self, t):\n",
    "    self.t = t\n",
    "\n",
    "  def __call__(self, shape, dtype=None):\n",
    "    return self.t\n",
    "\n",
    "  def get_config(self):\n",
    "    return {'t': self.t}\n",
    "\n",
    "class ConstantTensorConstraint(tf.keras.constraints.Constraint):\n",
    "  \"\"\"Constrains tensors to `t`.\"\"\"\n",
    "\n",
    "  def __init__(self, t):\n",
    "    self.t = t\n",
    "\n",
    "  def __call__(self, w):\n",
    "    return self.t\n",
    "\n",
    "  def get_config(self):\n",
    "    return {'t': self.t}\n",
    "\n",
    "# all you need to create a mask matrix M, which is a NxN identity matrix\n",
    "# and you can write a contraint like below\n",
    "class DiagonalWeight(tf.keras.constraints.Constraint):\n",
    "    \"\"\"Constrains the weights to be diagonal.\n",
    "    \"\"\"\n",
    "    def __call__(self, w):\n",
    "        N = K.int_shape(w)[-1]\n",
    "        m = K.eye(N)\n",
    "        v = w*m\n",
    "        return v"
   ]
  },
  {
   "cell_type": "code",
   "execution_count": 4,
   "id": "4d9ca3be",
   "metadata": {
    "id": "4d9ca3be"
   },
   "outputs": [],
   "source": [
    "def init_model(nb_hidden_layers, nb_nodes_per_layer, m_periodic, n_periodic, omega, input_dim):\n",
    "\n",
    "    # Append hidden layers\n",
    "    all_layers = []\n",
    "\n",
    "    # Initialize a feedforward neural network\n",
    "    model = tf.keras.Sequential()\n",
    "\n",
    "    # Input is two-dimensional (time + one spatial dimension)\n",
    "    input_model = tf.keras.layers.InputLayer(input_shape= (input_dim,), name='input_model')\n",
    "    model.add(input_model)\n",
    "\n",
    "    # Construct first omega matrix\n",
    "    omega_each_dim = omega*np.ones((input_dim,1))\n",
    "    Omega_matrix = np.array([])\n",
    "\n",
    "    for dim in range(input_dim):\n",
    "        Omega_dim = np.zeros((m_periodic, input_dim))\n",
    "        Omega_dim[:,dim] = omega_each_dim[dim,0]*np.ones((m_periodic,))\n",
    "        Omega_matrix = np.vstack([Omega_matrix,Omega_dim]) if Omega_matrix.size else Omega_dim\n",
    "\n",
    "    Omega = tf.Variable(Omega_matrix.T,dtype=tf.float32)\n",
    "\n",
    "    # Create first C^inf periodic layers L_p(m,n)\n",
    "    first_periodic_layer = tf.keras.layers.Dense(m_periodic*input_dim,\n",
    "                                                 activation = tf.math.cos,\n",
    "                                                 use_bias = True,\n",
    "                                                 trainable = True,\n",
    "                                                 name = 'first_periodic_layer',\n",
    "                                                 kernel_initializer = ConstantTensorInitializer(Omega),\n",
    "                                                 kernel_constraint = ConstantTensorConstraint(Omega),\n",
    "                                                 bias_initializer = 'glorot_normal')\n",
    "    all_layers.append(first_periodic_layer)\n",
    "    model.add(first_periodic_layer)\n",
    "\n",
    "    second_periodic_layer = tf.keras.layers.Dense(m_periodic*input_dim,\n",
    "                                                  activation = 'tanh',\n",
    "                                                  use_bias = True,\n",
    "                                                  trainable = True,\n",
    "                                                  name = 'second_periodic_layer',\n",
    "                                                  kernel_constraint = DiagonalWeight(),\n",
    "                                                  kernel_initializer = 'glorot_normal',\n",
    "                                                  bias_initializer = 'glorot_normal')\n",
    "    all_layers.append(second_periodic_layer)\n",
    "    model.add(second_periodic_layer)\n",
    "\n",
    "    # create the rest of the network (substitute other code here also)\n",
    "    for layer in range(nb_hidden_layers):\n",
    "        if layer == nb_hidden_layers-1:\n",
    "            layer_name = 'first_to_last_hidden_layer'\n",
    "        else:\n",
    "            layer_name = 'hidden_layer_' + str(layer)\n",
    "\n",
    "        hidden_layer = tf.keras.layers.Dense(nb_nodes_per_layer, \n",
    "                                        activation='tanh',\n",
    "                                        name=layer_name,\n",
    "                                        kernel_initializer= 'glorot_normal')\n",
    "                                        #bias_initializer= weight_bias_initializer,\n",
    "                                        #dtype=tf.float32)\n",
    "        all_layers.append(hidden_layer)\n",
    "        model.add(hidden_layer)\n",
    "\n",
    "    # Output is one-dimensional\n",
    "    model.add(tf.keras.layers.Dense(1))\n",
    "    \n",
    "    return model"
   ]
  },
  {
   "cell_type": "markdown",
   "id": "e33f2706",
   "metadata": {
    "id": "e33f2706"
   },
   "source": [
    "## high-dimensional second order equation $-\\nabla \\cdot \\left((1+\\frac{1}{4}\\sin {2\\pi x_1}\\sin {2\\pi x_2})\\nabla \\Psi\\right) + \\nu \\Psi=- 2\\pi^2 \\cos{2\\pi x_1}\\cos{4\\pi x_1}\\sin^2 {2\\pi x_2} - \\pi^2 \\sin{2\\pi x_1}\\sin{4\\pi x_1}\\cos^2 {2\\pi x_2} + 20\\pi^2(1+\\frac{1}{4}\\sin {2\\pi x_1}\\sin {2\\pi x_2})\\sin{4\\pi x_1}\\sin{4\\pi x_2} + \\nu \\sin{4\\pi x_1}\\sin{2\\pi x_2}$ with periodic BCs"
   ]
  },
  {
   "cell_type": "markdown",
   "id": "4ce1b090",
   "metadata": {
    "id": "4ce1b090"
   },
   "source": [
    "## Exact solution: $\\Psi(x) = \\sin{4\\pi x_1} \\sin{2\\pi x_2}$"
   ]
  },
  {
   "cell_type": "code",
   "execution_count": 5,
   "id": "265deea1",
   "metadata": {
    "colab": {
     "base_uri": "https://localhost:8080/"
    },
    "id": "265deea1",
    "outputId": "ad3df583-27e6-449d-d745-77e5a5ffa6cc"
   },
   "outputs": [
    {
     "name": "stdout",
     "output_type": "stream",
     "text": [
      "Model: \"sequential\"\n",
      "_________________________________________________________________\n",
      "Layer (type)                 Output Shape              Param #   \n",
      "=================================================================\n",
      "first_periodic_layer (Dense) (None, 66)                462       \n",
      "_________________________________________________________________\n",
      "second_periodic_layer (Dense (None, 66)                4422      \n",
      "_________________________________________________________________\n",
      "hidden_layer_0 (Dense)       (None, 30)                2010      \n",
      "_________________________________________________________________\n",
      "hidden_layer_1 (Dense)       (None, 30)                930       \n",
      "_________________________________________________________________\n",
      "first_to_last_hidden_layer ( (None, 30)                930       \n",
      "_________________________________________________________________\n",
      "dense (Dense)                (None, 1)                 31        \n",
      "=================================================================\n",
      "Total params: 8,785\n",
      "Trainable params: 8,785\n",
      "Non-trainable params: 0\n",
      "_________________________________________________________________\n"
     ]
    }
   ],
   "source": [
    "nb_hidden_layers = 3\n",
    "nb_nodes_per_layer = 30\n",
    "\n",
    "input_dim = 6\n",
    "m_periodic = 11\n",
    "n_periodic = 30\n",
    "\n",
    "L_period = 1.0 #2*np.pi\n",
    "omega = 2*np.pi/L_period\n",
    "# Initialize model aka u_\\theta\n",
    "model5 = init_model(nb_hidden_layers, nb_nodes_per_layer, m_periodic, n_periodic, omega, input_dim)\n",
    "model5.summary()"
   ]
  },
  {
   "cell_type": "markdown",
   "id": "82bfcbac",
   "metadata": {
    "id": "82bfcbac"
   },
   "source": [
    "## Sampling"
   ]
  },
  {
   "cell_type": "code",
   "execution_count": 6,
   "id": "a59af2af",
   "metadata": {
    "id": "a59af2af"
   },
   "outputs": [],
   "source": [
    "a = 0\n",
    "b = 1\n",
    "N = 2000\n",
    "\n",
    "nu = 0.5\n",
    "\n",
    "# Monte Carlo points in the domain\n",
    "\n",
    "input_data_MC = np.random.uniform(0 ,1, (N,input_dim))"
   ]
  },
  {
   "cell_type": "markdown",
   "id": "434061cf",
   "metadata": {},
   "source": [
    "## Define the diffusion function and its derivatives here"
   ]
  },
  {
   "cell_type": "code",
   "execution_count": 7,
   "id": "f26b9995",
   "metadata": {},
   "outputs": [],
   "source": [
    "def diffusion_fcns(x):\n",
    "    diffusion = 1 + 1/4 * np.sin(2*np.pi*x[:, 0]) * np.sin(2*np.pi*x[:, 1])\n",
    "    L,x_dim = np.shape(x)\n",
    "    grad_diffusion = [np.zeros_like(x[:, 0])] * x_dim\n",
    "    grad_diffusion[0] = np.pi/2 * np.cos(2*np.pi*x[:, 0]) * np.sin(2*np.pi*x[:, 1])\n",
    "    grad_diffusion[1] = np.pi/2 * np.sin(2*np.pi*x[:, 0]) * np.cos(2*np.pi*x[:, 1])\n",
    "    return diffusion, grad_diffusion"
   ]
  },
  {
   "cell_type": "markdown",
   "id": "c07d000f",
   "metadata": {},
   "source": [
    "## Exact solution and its gradient and divergence"
   ]
  },
  {
   "cell_type": "code",
   "execution_count": 8,
   "id": "cc4f40d0",
   "metadata": {},
   "outputs": [],
   "source": [
    "# Define the exact solution\n",
    "def exact_solu(x):\n",
    "    y = np.sin(4*np.pi*np.double(x[:, 0])) * np.sin(2*np.pi*np.double(x[:, 1]))\n",
    "    return y"
   ]
  },
  {
   "cell_type": "code",
   "execution_count": 9,
   "id": "870065bb",
   "metadata": {},
   "outputs": [],
   "source": [
    "# Compute the gradient and divergence of the exact solution numerically\n",
    "def exact_grad_div(x):\n",
    "    L,x_dim = np.shape(x)\n",
    "    dx = np.double(0.003)\n",
    "    gradient = [np.zeros_like(x[:, 0])] * x_dim\n",
    "    divergence = np.zeros_like(x[:, 0])\n",
    "    \n",
    "    for i in range(x_dim):\n",
    "        dx_i = np.zeros_like(x);\n",
    "        dx_i[:, i] = 1;\n",
    "        \n",
    "            \n",
    "        # six-order finite difference\n",
    "        gradient[i] = (-1/60 * exact_solu(x - 3*dx*dx_i) + 3/20 * exact_solu(x - 2*dx*dx_i) - 3/4 * exact_solu(x - dx*dx_i) + 3/4 * exact_solu(x + dx*dx_i) - 3/20 * exact_solu(x + 2*dx*dx_i) + 1/60 * exact_solu(x + 3*dx*dx_i)) / dx\n",
    "        divergence = divergence + ((1/90) * exact_solu(x - 3*dx*dx_i) -(3/20) * exact_solu(x - 2*dx*dx_i) + (3/2) * exact_solu(x - dx*dx_i) - (49/18) * exact_solu(x) + (3/2) * exact_solu(x + dx*dx_i) - (3/20) * exact_solu(x + 2*dx*dx_i) +(1/90) * exact_solu(x + 3*dx*dx_i)) / dx**2\n",
    "#         if (i == 0):\n",
    "#             print((1/90 * np.sin(4*np.pi*(x[:, 0]-3*dx)) * np.sin(2*np.pi*x[:, 1]) -3/20 * np.sin(4*np.pi*(x[:, 0]-2*dx)) * np.sin(2*np.pi*x[:, 1]) + 3/2 * np.sin(4*np.pi*(x[:, 0]-dx)) * np.sin(2*np.pi*x[:, 1]) - 49/18 * np.sin(4*np.pi*(x[:, 0])) * np.sin(2*np.pi*x[:, 1]) + 3/2 * np.sin(4*np.pi*(x[:, 0]+dx)) * np.sin(2*np.pi*x[:, 1]) - 3/20 * np.sin(4*np.pi*(x[:, 0]+2*dx)) * np.sin(2*np.pi*x[:, 1]) +1/90 * np.sin(4*np.pi*(x[:, 0]+3*dx)) * np.sin(2*np.pi*x[:, 1])) / dx**2 - (- 16 *np.pi**2 * np.sin(4*np.pi*x[:, 0]) * np.sin(2*np.pi*x[:, 1])))\n",
    "        \n",
    "    gradient0 = 4 * np.pi * np.cos(4*np.pi*x[:, 0]) * np.sin(2*np.pi*x[:, 1])\n",
    "    gradient1 = 2 * np.pi * np.sin(4*np.pi*x[:, 0]) * np.cos(2*np.pi*x[:, 1])\n",
    "    divergence1 = - 20 * np.pi**2 * np.sin(4*np.pi*x[:, 0]) * np.sin(2*np.pi*x[:, 1])\n",
    "#     print(norm(divergence1-divergence))\n",
    "    \n",
    "    return gradient, divergence"
   ]
  },
  {
   "cell_type": "code",
   "execution_count": 10,
   "id": "e44a59f9",
   "metadata": {
    "id": "e44a59f9"
   },
   "outputs": [],
   "source": [
    "def trainStep_N_dimension(x, diffusion_x, grad_diffusion_x, exact_x, exact_grad_x, exact_div_x, opt, model):\n",
    "    \n",
    "    L,x_dim = np.shape(x)\n",
    "    \n",
    "    # Outer gradient for model parameters\n",
    "    with tf.GradientTape() as tape:\n",
    "        \n",
    "        # Inner gradient for first derivative of N wrt x\n",
    "        with tf.GradientTape(persistent=True) as tape1:\n",
    "            tape1.watch(x)\n",
    "            \n",
    "            # Inner inner gradient for fi derivative of N wrt x\n",
    "            with tf.GradientTape(persistent=True) as tape2:\n",
    "                tape2.watch(x)\n",
    "            \n",
    "                N = model(x)\n",
    "            \n",
    "            # Gradient of the NN\n",
    "            grad_N = tape2.gradient(N, x)\n",
    "            grad_N_i = []\n",
    "            for i in range(x_dim):\n",
    "                grad_N_i.append(grad_N[: ,i])\n",
    "        # Divergence of the NN\n",
    "        div_N = tf.zeros([L])\n",
    "        for i in range(x_dim):\n",
    "            div_N = div_N + tape1.gradient(grad_N_i[i], x)[:, i]\n",
    "        \n",
    "            \n",
    "        \n",
    "        N = tf.reshape(N, [L])\n",
    "        \n",
    "        grad_error = [np.zeros_like(x[:, 0])] * x_dim\n",
    "        \n",
    "        # Plug trial solution into ODE:\n",
    "        divergence_error = div_N - exact_div_x\n",
    "#         grad_error[0] = grad_N[:, 0] - exact_grad_x[0]\n",
    "#         grad_error[1] = grad_N[:, 1] - exact_grad_x[1]\n",
    "        N_error = N - exact_x\n",
    "        \n",
    "#         eqn = - (1 + 1/4 * np.sin(2*np.pi*x[:, 0]) * np.sin(2*np.pi*x[:, 1])) *  divergence_error - \\\n",
    "#         (np.pi/2 * np.cos(2*np.pi*x[:, 0]) * np.sin(2*np.pi*x[:, 1])) * grad_error[0] - \\\n",
    "#         (np.pi/2 * np.sin(2*np.pi*x[:, 0]) * np.cos(2*np.pi*x[:, 1])) * grad_error[1] + nu * N_error\n",
    "        \n",
    "        eqn = - diffusion_x *  divergence_error  + nu * N_error \n",
    "        for i in range(x_dim):\n",
    "            grad_error[i] = grad_N[:, i] - exact_grad_x[i]\n",
    "            eqn = eqn - grad_diffusion_x[i] * grad_error[i]\n",
    "        \n",
    "        loss = tf.reduce_sum(tf.square(eqn)) \n",
    "        N_loss = tf.reduce_sum(tf.square(N_error))\n",
    "        gradient_loss = tf.square(grad_error[x_dim-1])\n",
    "        for i in range(x_dim-1):\n",
    "            gradient_loss = gradient_loss + tf.square(grad_error[i])\n",
    "        gradient_loss = tf.reduce_sum(gradient_loss)\n",
    "        divergence_loss = tf.reduce_sum(tf.square(divergence_error))\n",
    "        \n",
    "    # Compute the gradient of loss wrt model parameters\n",
    "    grads = tape.gradient(loss, model.trainable_variables)\n",
    "    \n",
    "    # Gradient step\n",
    "    opt.apply_gradients(zip(grads, model.trainable_variables))\n",
    "    \n",
    "    \n",
    "    return loss, N_loss, gradient_loss, divergence_loss"
   ]
  },
  {
   "cell_type": "code",
   "execution_count": 13,
   "id": "281e49ef",
   "metadata": {
    "id": "281e49ef"
   },
   "outputs": [],
   "source": [
    "def PINNtrain(x, epochs, model):\n",
    "    \n",
    "    # optional, use a stopping tolerance (i.e., if loss < 1e-7 then stop training early)\n",
    "    stop_tol = 1e-12\n",
    "    \n",
    "    # set the initial best loss seen so far to something large\n",
    "    best_loss = 1e12\n",
    "    best_loss_epoch = -1\n",
    "    best_weights = None\n",
    "    \n",
    "    # Define an optimizer\n",
    "    lr = tf.keras.optimizers.schedules.PolynomialDecay(0.1, epochs, 1e-4)\n",
    "    opt = keras.optimizers.Adam()\n",
    "    epoch_loss, N_loss, gradient_loss, divergence_loss = (np.zeros(epochs) for i in range(4))\n",
    "    \n",
    "    # Calculate diffusion function, forcing term at sample points x in double precision\n",
    "    diffusion_x, grad_diffusion_x = diffusion_fcns(np.double(x.numpy()))\n",
    "    exact_x = exact_solu(np.double(x.numpy()))\n",
    "    exact_grad_x, exact_div_x = exact_grad_div(np.double(x.numpy()))\n",
    "    diffusion_x = tf.convert_to_tensor(diffusion_x, dtype = float)\n",
    "    grad_diffusion_x = tf.convert_to_tensor(grad_diffusion_x, dtype = float)\n",
    "    exact_x = tf.convert_to_tensor(exact_x, dtype = float)\n",
    "    exact_grad_x = tf.convert_to_tensor(exact_grad_x, dtype = float)\n",
    "    exact_div_x = tf.convert_to_tensor(exact_div_x, dtype = float)\n",
    "    \n",
    "    # Main training loop\n",
    "    for i in range(epochs):\n",
    "        \n",
    "        epoch_loss[i], N_loss[i], gradient_loss[i], divergence_loss[i]  = trainStep_N_dimension(x, diffusion_x, grad_diffusion_x, exact_x, exact_grad_x, exact_div_x, opt, model)\n",
    "        \n",
    "        if (np.mod(i, 100)==0):\n",
    "          print(\"PDE loss in {}th epoch: {: 1.6e}. Last save epoch and best loss so far: {}, {: 1.6e}.\".format(i, epoch_loss[i], best_loss_epoch, best_loss))\n",
    "    \n",
    "        if (epoch_loss[i] < best_loss):\n",
    "            best_weights = model.get_weights()\n",
    "            best_loss_epoch = i\n",
    "            best_loss = epoch_loss[i]\n",
    "            #print(\"Found a new best local minimum at epoch {}: loss {: 1.6e}. Saving weights.\".format(i, epoch_loss[i]))\n",
    "            \n",
    "        if (epoch_loss[i] < stop_tol):\n",
    "            print(\"Current model has loss {: 1.6e}, lower than stopping tolerance {: 1.6e}, stopping early at epoch {}.\".format(epoch_loss[i],stop_tol,i))\n",
    "            return epoch_loss, N_loss, gradient_loss, divergence_loss\n",
    "    \n",
    "    if (best_loss < epoch_loss[i]):\n",
    "        model.set_weights(best_weights)\n",
    "        print(\"Current loss {: 1.6e}, Best loss {: 1.6e}. Restoring best model weights.\".format(epoch_loss[i],best_loss))\n",
    "    else:\n",
    "        print(\"Current loss {: 1.6e}, Best loss {: 1.6e}. Keeping current model weights.\".format(epoch_loss[i],best_loss))\n",
    "        \n",
    "    return epoch_loss, N_loss, gradient_loss, divergence_loss"
   ]
  },
  {
   "cell_type": "code",
   "execution_count": 14,
   "id": "b019f2ab",
   "metadata": {
    "colab": {
     "base_uri": "https://localhost:8080/"
    },
    "id": "b019f2ab",
    "outputId": "025163ea-ca1f-4aa6-b714-90e33659743c",
    "scrolled": true
   },
   "outputs": [
    {
     "name": "stdout",
     "output_type": "stream",
     "text": [
      "[ 0.  0. -0. ... -0.  0.  0.]\n",
      "1.6941081306747826e-08\n",
      "PDE loss in 0th epoch:  2.123336e+07. Last save epoch and best loss so far: -1,  1.000000e+12.\n",
      "PDE loss in 100th epoch:  1.794907e+07. Last save epoch and best loss so far: 99,  1.795654e+07.\n",
      "PDE loss in 200th epoch:  1.386407e+07. Last save epoch and best loss so far: 199,  1.402053e+07.\n",
      "PDE loss in 300th epoch:  4.239512e+05. Last save epoch and best loss so far: 299,  4.441035e+05.\n",
      "PDE loss in 400th epoch:  7.647639e+04. Last save epoch and best loss so far: 399,  7.716253e+04.\n",
      "PDE loss in 500th epoch:  3.578750e+04. Last save epoch and best loss so far: 499,  3.600907e+04.\n",
      "PDE loss in 600th epoch:  2.170351e+04. Last save epoch and best loss so far: 599,  2.179328e+04.\n",
      "PDE loss in 700th epoch:  2.672548e+04. Last save epoch and best loss so far: 690,  1.566396e+04.\n",
      "PDE loss in 800th epoch:  1.136826e+04. Last save epoch and best loss so far: 799,  1.139820e+04.\n",
      "PDE loss in 900th epoch:  1.198999e+04. Last save epoch and best loss so far: 893,  9.087354e+03.\n",
      "PDE loss in 1000th epoch:  7.206628e+03. Last save epoch and best loss so far: 999,  7.221109e+03.\n",
      "PDE loss in 1100th epoch:  5.948729e+03. Last save epoch and best loss so far: 1099,  5.959634e+03.\n",
      "PDE loss in 1200th epoch:  5.036782e+03. Last save epoch and best loss so far: 1199,  5.047743e+03.\n",
      "PDE loss in 1300th epoch:  4.305348e+03. Last save epoch and best loss so far: 1299,  4.311816e+03.\n",
      "PDE loss in 1400th epoch:  4.746067e+03. Last save epoch and best loss so far: 1351,  4.004349e+03.\n",
      "PDE loss in 1500th epoch:  3.697341e+03. Last save epoch and best loss so far: 1496,  3.296235e+03.\n",
      "PDE loss in 1600th epoch:  2.887934e+03. Last save epoch and best loss so far: 1599,  2.891438e+03.\n",
      "PDE loss in 1700th epoch:  2.581572e+03. Last save epoch and best loss so far: 1698,  2.579608e+03.\n",
      "PDE loss in 1800th epoch:  2.587501e+03. Last save epoch and best loss so far: 1770,  2.381855e+03.\n",
      "PDE loss in 1900th epoch:  2.078505e+03. Last save epoch and best loss so far: 1898,  2.075298e+03.\n",
      "PDE loss in 2000th epoch:  4.259239e+03. Last save epoch and best loss so far: 1968,  1.933459e+03.\n",
      "PDE loss in 2100th epoch:  1.698007e+03. Last save epoch and best loss so far: 2099,  1.699650e+03.\n",
      "PDE loss in 2200th epoch:  1.583280e+03. Last save epoch and best loss so far: 2192,  1.590369e+03.\n",
      "PDE loss in 2300th epoch:  1.463357e+03. Last save epoch and best loss so far: 2295,  1.439193e+03.\n",
      "PDE loss in 2400th epoch:  1.599743e+03. Last save epoch and best loss so far: 2388,  1.314645e+03.\n",
      "PDE loss in 2500th epoch:  1.197249e+03. Last save epoch and best loss so far: 2499,  1.198488e+03.\n",
      "PDE loss in 2600th epoch:  1.168174e+03. Last save epoch and best loss so far: 2595,  1.121129e+03.\n",
      "PDE loss in 2700th epoch:  1.026182e+03. Last save epoch and best loss so far: 2699,  1.026964e+03.\n",
      "PDE loss in 2800th epoch:  9.890963e+02. Last save epoch and best loss so far: 2798,  9.685426e+02.\n",
      "PDE loss in 2900th epoch:  9.105076e+02. Last save epoch and best loss so far: 2891,  8.991990e+02.\n",
      "PDE loss in 3000th epoch:  9.565277e+02. Last save epoch and best loss so far: 2943,  8.685126e+02.\n",
      "PDE loss in 3100th epoch:  7.865229e+02. Last save epoch and best loss so far: 3099,  7.891606e+02.\n",
      "PDE loss in 3200th epoch:  8.004273e+02. Last save epoch and best loss so far: 3199,  7.508101e+02.\n",
      "PDE loss in 3300th epoch:  1.312415e+03. Last save epoch and best loss so far: 3274,  7.097518e+02.\n",
      "PDE loss in 3400th epoch:  6.741270e+02. Last save epoch and best loss so far: 3398,  6.637302e+02.\n",
      "PDE loss in 3500th epoch:  7.199610e+02. Last save epoch and best loss so far: 3439,  6.508092e+02.\n",
      "PDE loss in 3600th epoch:  1.132147e+03. Last save epoch and best loss so far: 3550,  6.167584e+02.\n",
      "PDE loss in 3700th epoch:  5.695870e+02. Last save epoch and best loss so far: 3699,  5.698808e+02.\n",
      "PDE loss in 3800th epoch:  5.710018e+02. Last save epoch and best loss so far: 3796,  5.565679e+02.\n",
      "PDE loss in 3900th epoch:  5.211990e+02. Last save epoch and best loss so far: 3899,  5.214419e+02.\n",
      "PDE loss in 4000th epoch:  5.010938e+02. Last save epoch and best loss so far: 3997,  4.999825e+02.\n",
      "PDE loss in 4100th epoch:  4.924456e+02. Last save epoch and best loss so far: 4097,  4.879330e+02.\n",
      "PDE loss in 4200th epoch:  1.501656e+03. Last save epoch and best loss so far: 4155,  4.687404e+02.\n",
      "PDE loss in 4300th epoch:  4.428301e+02. Last save epoch and best loss so far: 4299,  4.430305e+02.\n",
      "PDE loss in 4400th epoch:  1.205277e+03. Last save epoch and best loss so far: 4322,  4.391942e+02.\n",
      "PDE loss in 4500th epoch:  4.116278e+02. Last save epoch and best loss so far: 4499,  4.119855e+02.\n",
      "PDE loss in 4600th epoch:  4.950043e+02. Last save epoch and best loss so far: 4530,  4.066841e+02.\n",
      "PDE loss in 4700th epoch:  3.827337e+02. Last save epoch and best loss so far: 4699,  3.828813e+02.\n",
      "PDE loss in 4800th epoch:  3.915286e+02. Last save epoch and best loss so far: 4799,  3.764247e+02.\n",
      "PDE loss in 4900th epoch:  3.587711e+02. Last save epoch and best loss so far: 4899,  3.589115e+02.\n",
      "PDE loss in 5000th epoch:  3.551503e+02. Last save epoch and best loss so far: 4998,  3.508770e+02.\n",
      "PDE loss in 5100th epoch:  9.082312e+02. Last save epoch and best loss so far: 5047,  3.428163e+02.\n",
      "PDE loss in 5200th epoch:  3.270695e+02. Last save epoch and best loss so far: 5199,  3.271976e+02.\n",
      "PDE loss in 5300th epoch:  3.392336e+02. Last save epoch and best loss so far: 5297,  3.244673e+02.\n",
      "PDE loss in 5400th epoch:  6.219541e+02. Last save epoch and best loss so far: 5350,  3.133250e+02.\n",
      "PDE loss in 5500th epoch:  2.995763e+02. Last save epoch and best loss so far: 5499,  2.996720e+02.\n",
      "PDE loss in 5600th epoch:  3.100273e+02. Last save epoch and best loss so far: 5515,  2.983909e+02.\n",
      "PDE loss in 5700th epoch:  3.544292e+02. Last save epoch and best loss so far: 5687,  2.845648e+02.\n",
      "PDE loss in 5800th epoch:  2.786035e+02. Last save epoch and best loss so far: 5799,  2.784671e+02.\n",
      "PDE loss in 5900th epoch:  4.081814e+03. Last save epoch and best loss so far: 5878,  2.711379e+02.\n",
      "PDE loss in 6000th epoch:  2.639800e+02. Last save epoch and best loss so far: 5999,  2.641436e+02.\n",
      "PDE loss in 6100th epoch:  9.230167e+02. Last save epoch and best loss so far: 6062,  2.586540e+02.\n",
      "PDE loss in 6200th epoch:  3.606090e+02. Last save epoch and best loss so far: 6139,  2.573855e+02.\n",
      "PDE loss in 6300th epoch:  2.724326e+02. Last save epoch and best loss so far: 6288,  2.446750e+02.\n",
      "PDE loss in 6400th epoch:  3.767178e+02. Last save epoch and best loss so far: 6382,  2.429125e+02.\n",
      "PDE loss in 6500th epoch:  3.434825e+03. Last save epoch and best loss so far: 6460,  2.360358e+02.\n",
      "PDE loss in 6600th epoch:  5.519389e+02. Last save epoch and best loss so far: 6541,  2.316546e+02.\n",
      "PDE loss in 6700th epoch:  2.785399e+02. Last save epoch and best loss so far: 6626,  2.303180e+02.\n",
      "PDE loss in 6800th epoch:  6.879936e+02. Last save epoch and best loss so far: 6764,  2.197589e+02.\n",
      "PDE loss in 6900th epoch:  2.262436e+02. Last save epoch and best loss so far: 6764,  2.197589e+02.\n",
      "PDE loss in 7000th epoch:  3.791050e+03. Last save epoch and best loss so far: 6970,  2.106594e+02.\n",
      "PDE loss in 7100th epoch:  2.689627e+02. Last save epoch and best loss so far: 7092,  2.056523e+02.\n",
      "PDE loss in 7200th epoch:  2.044577e+02. Last save epoch and best loss so far: 7199,  2.032075e+02.\n",
      "PDE loss in 7300th epoch:  5.304674e+03. Last save epoch and best loss so far: 7213,  2.016171e+02.\n",
      "PDE loss in 7400th epoch:  1.941097e+02. Last save epoch and best loss so far: 7392,  1.935860e+02.\n",
      "PDE loss in 7500th epoch:  4.173859e+02. Last save epoch and best loss so far: 7392,  1.935860e+02.\n",
      "PDE loss in 7600th epoch:  7.832985e+02. Last save epoch and best loss so far: 7555,  1.883119e+02.\n",
      "PDE loss in 7700th epoch:  1.849333e+02. Last save epoch and best loss so far: 7699,  1.858981e+02.\n",
      "PDE loss in 7800th epoch:  2.122858e+02. Last save epoch and best loss so far: 7720,  1.815131e+02.\n",
      "PDE loss in 7900th epoch:  6.163654e+02. Last save epoch and best loss so far: 7862,  1.765274e+02.\n",
      "PDE loss in 8000th epoch:  5.308470e+02. Last save epoch and best loss so far: 7956,  1.762111e+02.\n",
      "PDE loss in 8100th epoch:  1.820574e+02. Last save epoch and best loss so far: 8023,  1.726539e+02.\n"
     ]
    },
    {
     "name": "stdout",
     "output_type": "stream",
     "text": [
      "PDE loss in 8200th epoch:  1.916764e+02. Last save epoch and best loss so far: 8185,  1.723163e+02.\n",
      "PDE loss in 8300th epoch:  1.202506e+03. Last save epoch and best loss so far: 8185,  1.723163e+02.\n",
      "PDE loss in 8400th epoch:  2.311405e+02. Last save epoch and best loss so far: 8335,  1.659919e+02.\n",
      "PDE loss in 8500th epoch:  2.061669e+02. Last save epoch and best loss so far: 8497,  1.654710e+02.\n",
      "PDE loss in 8600th epoch:  2.063487e+03. Last save epoch and best loss so far: 8508,  1.628683e+02.\n",
      "PDE loss in 8700th epoch:  1.057108e+03. Last save epoch and best loss so far: 8642,  1.574308e+02.\n",
      "PDE loss in 8800th epoch:  1.961557e+02. Last save epoch and best loss so far: 8642,  1.574308e+02.\n",
      "PDE loss in 8900th epoch:  3.401063e+02. Last save epoch and best loss so far: 8642,  1.574308e+02.\n",
      "PDE loss in 9000th epoch:  2.684036e+02. Last save epoch and best loss so far: 8982,  1.460905e+02.\n",
      "PDE loss in 9100th epoch:  8.537677e+02. Last save epoch and best loss so far: 8982,  1.460905e+02.\n",
      "PDE loss in 9200th epoch:  7.207111e+02. Last save epoch and best loss so far: 9173,  1.427898e+02.\n",
      "PDE loss in 9300th epoch:  1.939401e+02. Last save epoch and best loss so far: 9173,  1.427898e+02.\n",
      "PDE loss in 9400th epoch:  4.732997e+03. Last save epoch and best loss so far: 9357,  1.380479e+02.\n",
      "PDE loss in 9500th epoch:  1.351465e+02. Last save epoch and best loss so far: 9499,  1.351741e+02.\n",
      "PDE loss in 9600th epoch:  1.377975e+02. Last save epoch and best loss so far: 9505,  1.350048e+02.\n",
      "PDE loss in 9700th epoch:  5.483796e+02. Last save epoch and best loss so far: 9650,  1.322254e+02.\n",
      "PDE loss in 9800th epoch:  7.233208e+02. Last save epoch and best loss so far: 9650,  1.322254e+02.\n",
      "PDE loss in 9900th epoch:  8.556080e+02. Last save epoch and best loss so far: 9857,  1.299725e+02.\n",
      "Current loss  1.567213e+03, Best loss  1.272929e+02. Restoring best model weights.\n"
     ]
    }
   ],
   "source": [
    "# train NN for Monte Carlo sample\n",
    "epochs = 10000\n",
    "PDE_loss1, N_loss1, gradient_loss1, divergence_loss1 = PINNtrain(tf.convert_to_tensor(input_data_MC, dtype = float), epochs, model5)\n"
   ]
  },
  {
   "cell_type": "markdown",
   "id": "DbjVHNePgNev",
   "metadata": {
    "id": "DbjVHNePgNev"
   },
   "source": [
    "## Loss vs. number of epochs"
   ]
  },
  {
   "cell_type": "code",
   "execution_count": 15,
   "id": "d3c168d4",
   "metadata": {
    "colab": {
     "base_uri": "https://localhost:8080/",
     "height": 279
    },
    "id": "d3c168d4",
    "outputId": "9c48fff1-905b-4946-a53b-1fd4ab0afc32"
   },
   "outputs": [
    {
     "data": {
      "image/png": "[encoded data removed]",
      "text/plain": [
       "<Figure size 432x288 with 1 Axes>"
      ]
     },
     "metadata": {
      "needs_background": "light"
     },
     "output_type": "display_data"
    }
   ],
   "source": [
    "fig = plt.figure(1)\n",
    "plt.semilogy(range(0, epochs), PDE_loss1)\n",
    "plt.xlabel('epochs')\n",
    "plt.ylabel('loss')\n",
    "\n",
    "plt.grid()\n",
    "plt.show()"
   ]
  },
  {
   "cell_type": "markdown",
   "id": "9J-RXefjgZxw",
   "metadata": {
    "id": "9J-RXefjgZxw"
   },
   "source": [
    "## Errors vs. epochs"
   ]
  },
  {
   "cell_type": "code",
   "execution_count": 16,
   "id": "45faa8dd",
   "metadata": {
    "colab": {
     "base_uri": "https://localhost:8080/",
     "height": 279
    },
    "id": "45faa8dd",
    "outputId": "897b8ea6-d0f1-4f8c-ebd5-aa7412656d6e"
   },
   "outputs": [
    {
     "data": {
      "image/png": "[encoded data removed]",
      "text/plain": [
       "<Figure size 432x288 with 1 Axes>"
      ]
     },
     "metadata": {
      "needs_background": "light"
     },
     "output_type": "display_data"
    }
   ],
   "source": [
    "fig = plt.figure(2)\n",
    "plt.semilogy(range(0, epochs), PDE_loss1, range(0, epochs), N_loss1, range(0, epochs), gradient_loss1, range(0, epochs), divergence_loss1)\n",
    "plt.xlabel('epochs')\n",
    "plt.ylabel('loss')\n",
    "plt.legend(['PDE','function','gradient','divergence'])\n",
    "\n",
    "plt.grid()\n",
    "plt.show()"
   ]
  },
  {
   "cell_type": "markdown",
   "id": "DwjG29Omgm0h",
   "metadata": {
    "id": "DwjG29Omgm0h"
   },
   "source": [
    "## Relative $L^2$ error. (Calculate using Monte-Carlo)"
   ]
  },
  {
   "cell_type": "code",
   "execution_count": 17,
   "id": "eb1e2c80",
   "metadata": {
    "colab": {
     "base_uri": "https://localhost:8080/"
    },
    "id": "eb1e2c80",
    "outputId": "cafcf91c-c692-423e-d6b4-3a1867e687a9"
   },
   "outputs": [
    {
     "name": "stdout",
     "output_type": "stream",
     "text": [
      "0.009303274006004602\n"
     ]
    }
   ],
   "source": [
    "# relative L^2 error\n",
    "input_data_MC = np.random.uniform(0 ,1, (2*N,input_dim))\n",
    "z_model = model5(input_data_MC)\n",
    "z_model = tf.reshape(z_model, [2*N])\n",
    "z_exact = np.sin(4*np.pi*input_data_MC[:, 0]) * np.sin(2*np.pi*input_data_MC[:, 1])\n",
    "error = np.sqrt(sum(np.square(z_model - z_exact)))/np.sqrt(sum(np.square(z_exact)))\n",
    "print(error)"
   ]
  },
  {
   "cell_type": "code",
   "execution_count": 18,
   "id": "3a81c38f",
   "metadata": {
    "colab": {
     "base_uri": "https://localhost:8080/",
     "height": 285
    },
    "id": "3a81c38f",
    "outputId": "f8532393-369a-4e35-a171-09b1595f5773"
   },
   "outputs": [
    {
     "data": {
      "text/plain": [
       "[<matplotlib.lines.Line2D at 0x186c6151c70>]"
      ]
     },
     "execution_count": 18,
     "metadata": {},
     "output_type": "execute_result"
    },
    {
     "data": {
      "image/png": "[encoded data removed]",
      "text/plain": [
       "<Figure size 432x288 with 1 Axes>"
      ]
     },
     "metadata": {
      "needs_background": "light"
     },
     "output_type": "display_data"
    }
   ],
   "source": [
    "plt.plot(z_model-z_exact)"
   ]
  },
  {
   "cell_type": "markdown",
   "id": "1Z_VV1z9hNCG",
   "metadata": {
    "id": "1Z_VV1z9hNCG"
   },
   "source": [
    "## Compare the NN results with the exact solution"
   ]
  },
  {
   "cell_type": "code",
   "execution_count": 19,
   "id": "PEpAXV_3hBW_",
   "metadata": {
    "id": "PEpAXV_3hBW_"
   },
   "outputs": [],
   "source": [
    "# Define x3,x4,x5,x6 here\n",
    "M_plot = 50\n",
    "x3, x4, x5, x6 = 0, 0, -0.03, 0\n",
    "\n",
    "x = np.outer(np.linspace(0,1,M_plot), np.ones(M_plot))\n",
    "y = x.copy().T\n",
    "z_true = np.sin(4*np.pi*x) * np.sin(2*np.pi*y)\n",
    "\n",
    "x = x.reshape(M_plot**2,1)\n",
    "y = y.reshape(M_plot**2,1)\n",
    "x3 = x3* np.ones((M_plot**2,1))\n",
    "x4 = x4* np.ones((M_plot**2,1))\n",
    "x5 = x5* np.ones((M_plot**2,1))\n",
    "x6 = x6* np.ones((M_plot**2,1))\n",
    "z_model = model5(np.concatenate((x, y, x3, x4, x5, x6), axis=1))\n",
    "z_model = z_model.numpy().reshape(M_plot,M_plot)"
   ]
  },
  {
   "cell_type": "code",
   "execution_count": 20,
   "id": "d1cfac4d",
   "metadata": {
    "colab": {
     "base_uri": "https://localhost:8080/",
     "height": 265
    },
    "id": "d1cfac4d",
    "outputId": "b67e5227-7d32-4ed5-f80f-bd9983ecedd1"
   },
   "outputs": [
    {
     "data": {
      "text/plain": [
       "Text(0.5, 0.92, 'Error original function')"
      ]
     },
     "execution_count": 20,
     "metadata": {},
     "output_type": "execute_result"
    },
    {
     "data": {
      "image/png": "[encoded data removed]",
      "text/plain": [
       "<Figure size 432x288 with 1 Axes>"
      ]
     },
     "metadata": {
      "needs_background": "light"
     },
     "output_type": "display_data"
    }
   ],
   "source": [
    "fig = plt.figure()\n",
    "ax1 = plt.axes(projection='3d')\n",
    "x = x.reshape(M_plot,M_plot)\n",
    "y = y.reshape(M_plot,M_plot)\n",
    "function_error = z_model - z_true\n",
    "ax1.plot_wireframe(x,y,function_error)\n",
    "ax1.view_init(20,45)\n",
    "ax1.set_title(\"Error original function\")"
   ]
  },
  {
   "cell_type": "code",
   "execution_count": null,
   "id": "ccf35ba6",
   "metadata": {},
   "outputs": [],
   "source": []
  }
 ],
 "metadata": {
  "accelerator": "GPU",
  "colab": {
   "provenance": []
  },
  "gpuClass": "standard",
  "kernelspec": {
   "display_name": "Python 3 (ipykernel)",
   "language": "python",
   "name": "python3"
  },
  "language_info": {
   "codemirror_mode": {
    "name": "ipython",
    "version": 3
   },
   "file_extension": ".py",
   "mimetype": "text/x-python",
   "name": "python",
   "nbconvert_exporter": "python",
   "pygments_lexer": "ipython3",
   "version": "3.9.12"
  }
 },
 "nbformat": 4,
 "nbformat_minor": 5
}
