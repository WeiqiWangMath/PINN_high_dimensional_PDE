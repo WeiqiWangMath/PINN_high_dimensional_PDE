{
 "cells": [
  {
   "cell_type": "code",
   "execution_count": 2,
   "id": "e7afa3f0",
   "metadata": {},
   "outputs": [],
   "source": [
    "import os\n",
    "import numpy as np\n",
    "import tensorflow as tf\n",
    "from tensorflow import keras\n",
    "from tensorflow.keras import layers\n",
    "import matplotlib.pyplot as plt\n",
    "np.set_printoptions(precision = 3, suppress = True)"
   ]
  },
  {
   "cell_type": "markdown",
   "id": "a3c18046",
   "metadata": {},
   "source": [
    "## 1D first order equation $\\frac{d\\Psi}{dx}+(x+\\frac{1+3x^2}{1+x+x^3})\\Psi = x^3+2x-x^2 \\frac{1+3x^2}{1+x+x^3}$ with IC $\\Psi(0)=1$"
   ]
  },
  {
   "cell_type": "code",
   "execution_count": 214,
   "id": "8f3864e5",
   "metadata": {},
   "outputs": [
    {
     "name": "stdout",
     "output_type": "stream",
     "text": [
      "Model: \"sequential_10\"\n",
      "_________________________________________________________________\n",
      " Layer (type)                Output Shape              Param #   \n",
      "=================================================================\n",
      " dense_20 (Dense)            (None, 10)                20        \n",
      "                                                                 \n",
      " dense_21 (Dense)            (None, 1)                 10        \n",
      "                                                                 \n",
      "=================================================================\n",
      "Total params: 30\n",
      "Trainable params: 30\n",
      "Non-trainable params: 0\n",
      "_________________________________________________________________\n"
     ]
    }
   ],
   "source": [
    "H = 10\n",
    "\n",
    "model3 = keras.Sequential([\n",
    "    layers.Dense(units = H, activation = 'sigmoid', input_shape = (1,)),\n",
    "    layers.Dense(units = 1, activation = 'linear', use_bias = False)\n",
    "])\n",
    "\n",
    "model3.summary()"
   ]
  },
  {
   "cell_type": "code",
   "execution_count": 215,
   "id": "9e6c4ef3",
   "metadata": {},
   "outputs": [],
   "source": [
    "a = 0\n",
    "b = 1\n",
    "N = 18\n",
    "h = (b - a)/(N + 1)\n",
    "\n",
    "#domain discretization to be used as input data\n",
    "x = []\n",
    "for i in range(N + 2):\n",
    "    x.append(a + i*h)\n",
    "input_data = np.array(x)\n",
    "input_data = input_data.reshape(N+2,1)"
   ]
  },
  {
   "cell_type": "code",
   "execution_count": 216,
   "id": "db67abfc",
   "metadata": {},
   "outputs": [],
   "source": [
    "def trainStep(x,opt):\n",
    "    \n",
    "    # Outer gradient for model parameters\n",
    "    with tf.GradientTape() as tape:\n",
    "        \n",
    "        # Inner gradient for first derivative of N wrt x\n",
    "        with tf.GradientTape() as tape1:\n",
    "            tape1.watch(x)\n",
    "            \n",
    "            # Inner inner gradient for second derivative of N wrt x\n",
    "            with tf.GradientTape() as tape2:\n",
    "                tape2.watch(x)\n",
    "            \n",
    "                N = model3([x])\n",
    "            \n",
    "            Nx = tape2.gradient(N, x)\n",
    "        Nxx = tape1.gradient(Nx, x)\n",
    "        \n",
    "        # Plug trial solution into ODE:\n",
    "        # eqn = (x*Nx + N + (x+(1+3*x**2)/(1+x+x**3))*(1+x*N)-\n",
    "        #        x**3-2*x-x**2*(1+3*x**2)/(1+x+x**3))\n",
    "        eqn = Nx + (x+(1+3*x**2)/(1+x+x**3)) * N - x**3-2*x-x**2*(1+3*x**2)/(1+x+x**3)\n",
    "        \n",
    "        loss = tf.reduce_sum(tf.square(eqn)) + (tf.squeeze(N[0])-1)**2\n",
    "        \n",
    "    # Compute the gradient of loss wrt model parameters\n",
    "    grads = tape.gradient(loss, model3.trainable_variables)\n",
    "    \n",
    "    # Gradient step\n",
    "    opt.apply_gradients(zip(grads, model3.trainable_variables))\n",
    "    \n",
    "    \n",
    "    return loss"
   ]
  },
  {
   "cell_type": "code",
   "execution_count": 217,
   "id": "a66c7208",
   "metadata": {},
   "outputs": [],
   "source": [
    "def PINNtrain(x, epochs):\n",
    "    \n",
    "    # Define an optimizer\n",
    "    lr = tf.keras.optimizers.schedules.PolynomialDecay(0.1, epochs, 1e-4)\n",
    "    opt = keras.optimizers.Adam(lr)\n",
    "    epoch_loss = np.zeros(epochs)\n",
    "    \n",
    "    # Main training loop\n",
    "    for i in range(epochs):\n",
    "        \n",
    "        PDEloss = trainStep(x,opt)\n",
    "        epoch_loss[i] = PDEloss\n",
    "        \n",
    "        if (np.mod(i, 100)==0):\n",
    "          print(\"PDE loss in {}th epoch: {: 6.4f}.\".format(i, PDEloss.numpy()))\n",
    "    \n",
    "    return epoch_loss"
   ]
  },
  {
   "cell_type": "code",
   "execution_count": 218,
   "id": "15f5ca28",
   "metadata": {
    "scrolled": true
   },
   "outputs": [
    {
     "name": "stdout",
     "output_type": "stream",
     "text": [
      "PDE loss in 0th epoch:  53.7718.\n",
      "PDE loss in 100th epoch:  3.9322.\n",
      "PDE loss in 200th epoch:  0.7587.\n",
      "PDE loss in 300th epoch:  0.2246.\n",
      "PDE loss in 400th epoch:  0.0759.\n",
      "PDE loss in 500th epoch:  0.0261.\n",
      "PDE loss in 600th epoch:  0.0116.\n",
      "PDE loss in 700th epoch:  0.0059.\n",
      "PDE loss in 800th epoch:  0.0035.\n",
      "PDE loss in 900th epoch:  0.0024.\n",
      "PDE loss in 1000th epoch:  0.0020.\n",
      "PDE loss in 1100th epoch:  0.0020.\n",
      "PDE loss in 1200th epoch:  0.0017.\n",
      "PDE loss in 1300th epoch:  0.0016.\n",
      "PDE loss in 1400th epoch:  0.0016.\n",
      "PDE loss in 1500th epoch:  0.0015.\n",
      "PDE loss in 1600th epoch:  0.0014.\n",
      "PDE loss in 1700th epoch:  0.0017.\n",
      "PDE loss in 1800th epoch:  0.0013.\n",
      "PDE loss in 1900th epoch:  0.0013.\n",
      "PDE loss in 2000th epoch:  0.0367.\n",
      "PDE loss in 2100th epoch:  0.0012.\n",
      "PDE loss in 2200th epoch:  0.0012.\n",
      "PDE loss in 2300th epoch:  0.0011.\n",
      "PDE loss in 2400th epoch:  0.0241.\n",
      "PDE loss in 2500th epoch:  0.0011.\n",
      "PDE loss in 2600th epoch:  0.0011.\n",
      "PDE loss in 2700th epoch:  0.0011.\n",
      "PDE loss in 2800th epoch:  0.0010.\n"
     ]
    },
    {
     "ename": "KeyboardInterrupt",
     "evalue": "",
     "output_type": "error",
     "traceback": [
      "\u001b[1;31m---------------------------------------------------------------------------\u001b[0m",
      "\u001b[1;31mKeyboardInterrupt\u001b[0m                         Traceback (most recent call last)",
      "Input \u001b[1;32mIn [218]\u001b[0m, in \u001b[0;36m<cell line: 2>\u001b[1;34m()\u001b[0m\n\u001b[0;32m      1\u001b[0m epochs \u001b[38;5;241m=\u001b[39m \u001b[38;5;241m10000\u001b[39m\n\u001b[1;32m----> 2\u001b[0m loss \u001b[38;5;241m=\u001b[39m \u001b[43mPINNtrain\u001b[49m\u001b[43m(\u001b[49m\u001b[43mtf\u001b[49m\u001b[38;5;241;43m.\u001b[39;49m\u001b[43mconvert_to_tensor\u001b[49m\u001b[43m(\u001b[49m\u001b[43minput_data\u001b[49m\u001b[43m,\u001b[49m\u001b[43m \u001b[49m\u001b[43mdtype\u001b[49m\u001b[43m \u001b[49m\u001b[38;5;241;43m=\u001b[39;49m\u001b[43m \u001b[49m\u001b[38;5;28;43mfloat\u001b[39;49m\u001b[43m)\u001b[49m\u001b[43m,\u001b[49m\u001b[43mepochs\u001b[49m\u001b[43m)\u001b[49m\n\u001b[0;32m      3\u001b[0m loss\n",
      "Input \u001b[1;32mIn [217]\u001b[0m, in \u001b[0;36mPINNtrain\u001b[1;34m(x, epochs)\u001b[0m\n\u001b[0;32m      8\u001b[0m \u001b[38;5;66;03m# Main training loop\u001b[39;00m\n\u001b[0;32m      9\u001b[0m \u001b[38;5;28;01mfor\u001b[39;00m i \u001b[38;5;129;01min\u001b[39;00m \u001b[38;5;28mrange\u001b[39m(epochs):\n\u001b[1;32m---> 11\u001b[0m     PDEloss \u001b[38;5;241m=\u001b[39m \u001b[43mtrainStep\u001b[49m\u001b[43m(\u001b[49m\u001b[43mx\u001b[49m\u001b[43m,\u001b[49m\u001b[43mopt\u001b[49m\u001b[43m)\u001b[49m\n\u001b[0;32m     12\u001b[0m     epoch_loss[i] \u001b[38;5;241m=\u001b[39m PDEloss\n\u001b[0;32m     14\u001b[0m     \u001b[38;5;28;01mif\u001b[39;00m (np\u001b[38;5;241m.\u001b[39mmod(i, \u001b[38;5;241m100\u001b[39m)\u001b[38;5;241m==\u001b[39m\u001b[38;5;241m0\u001b[39m):\n",
      "Input \u001b[1;32mIn [216]\u001b[0m, in \u001b[0;36mtrainStep\u001b[1;34m(x, opt)\u001b[0m\n\u001b[0;32m     27\u001b[0m grads \u001b[38;5;241m=\u001b[39m tape\u001b[38;5;241m.\u001b[39mgradient(loss, model3\u001b[38;5;241m.\u001b[39mtrainable_variables)\n\u001b[0;32m     29\u001b[0m \u001b[38;5;66;03m# Gradient step\u001b[39;00m\n\u001b[1;32m---> 30\u001b[0m \u001b[43mopt\u001b[49m\u001b[38;5;241;43m.\u001b[39;49m\u001b[43mapply_gradients\u001b[49m\u001b[43m(\u001b[49m\u001b[38;5;28;43mzip\u001b[39;49m\u001b[43m(\u001b[49m\u001b[43mgrads\u001b[49m\u001b[43m,\u001b[49m\u001b[43m \u001b[49m\u001b[43mmodel3\u001b[49m\u001b[38;5;241;43m.\u001b[39;49m\u001b[43mtrainable_variables\u001b[49m\u001b[43m)\u001b[49m\u001b[43m)\u001b[49m\n\u001b[0;32m     33\u001b[0m \u001b[38;5;28;01mreturn\u001b[39;00m loss\n",
      "File \u001b[1;32m~\\anaconda3\\lib\\site-packages\\keras\\optimizers\\optimizer_v2\\optimizer_v2.py:678\u001b[0m, in \u001b[0;36mOptimizerV2.apply_gradients\u001b[1;34m(self, grads_and_vars, name, experimental_aggregate_gradients)\u001b[0m\n\u001b[0;32m    675\u001b[0m   grads_and_vars \u001b[38;5;241m=\u001b[39m \u001b[38;5;28mself\u001b[39m\u001b[38;5;241m.\u001b[39m_aggregate_gradients(grads_and_vars)\n\u001b[0;32m    676\u001b[0m grads_and_vars \u001b[38;5;241m=\u001b[39m \u001b[38;5;28mself\u001b[39m\u001b[38;5;241m.\u001b[39m_transform_gradients(grads_and_vars)\n\u001b[1;32m--> 678\u001b[0m \u001b[38;5;28;01mreturn\u001b[39;00m \u001b[43mtf\u001b[49m\u001b[38;5;241;43m.\u001b[39;49m\u001b[43m__internal__\u001b[49m\u001b[38;5;241;43m.\u001b[39;49m\u001b[43mdistribute\u001b[49m\u001b[38;5;241;43m.\u001b[39;49m\u001b[43minterim\u001b[49m\u001b[38;5;241;43m.\u001b[39;49m\u001b[43mmaybe_merge_call\u001b[49m\u001b[43m(\u001b[49m\n\u001b[0;32m    679\u001b[0m \u001b[43m    \u001b[49m\u001b[43mfunctools\u001b[49m\u001b[38;5;241;43m.\u001b[39;49m\u001b[43mpartial\u001b[49m\u001b[43m(\u001b[49m\u001b[38;5;28;43mself\u001b[39;49m\u001b[38;5;241;43m.\u001b[39;49m\u001b[43m_distributed_apply\u001b[49m\u001b[43m,\u001b[49m\u001b[43m \u001b[49m\u001b[43mapply_state\u001b[49m\u001b[38;5;241;43m=\u001b[39;49m\u001b[43mapply_state\u001b[49m\u001b[43m)\u001b[49m\u001b[43m,\u001b[49m\n\u001b[0;32m    680\u001b[0m \u001b[43m    \u001b[49m\u001b[43mstrategy\u001b[49m\u001b[43m,\u001b[49m\n\u001b[0;32m    681\u001b[0m \u001b[43m    \u001b[49m\u001b[43mgrads_and_vars\u001b[49m\u001b[43m,\u001b[49m\n\u001b[0;32m    682\u001b[0m \u001b[43m    \u001b[49m\u001b[43mname\u001b[49m\u001b[38;5;241;43m=\u001b[39;49m\u001b[43mname\u001b[49m\u001b[43m)\u001b[49m\n",
      "File \u001b[1;32m~\\anaconda3\\lib\\site-packages\\tensorflow\\python\\distribute\\merge_call_interim.py:51\u001b[0m, in \u001b[0;36mmaybe_merge_call\u001b[1;34m(fn, strategy, *args, **kwargs)\u001b[0m\n\u001b[0;32m     31\u001b[0m \u001b[38;5;124;03m\"\"\"Maybe invoke `fn` via `merge_call` which may or may not be fulfilled.\u001b[39;00m\n\u001b[0;32m     32\u001b[0m \n\u001b[0;32m     33\u001b[0m \u001b[38;5;124;03mThe caller of this utility function requests to invoke `fn` via `merge_call`\u001b[39;00m\n\u001b[1;32m   (...)\u001b[0m\n\u001b[0;32m     48\u001b[0m \u001b[38;5;124;03m  The return value of the `fn` call.\u001b[39;00m\n\u001b[0;32m     49\u001b[0m \u001b[38;5;124;03m\"\"\"\u001b[39;00m\n\u001b[0;32m     50\u001b[0m \u001b[38;5;28;01mif\u001b[39;00m strategy_supports_no_merge_call():\n\u001b[1;32m---> 51\u001b[0m   \u001b[38;5;28;01mreturn\u001b[39;00m fn(strategy, \u001b[38;5;241m*\u001b[39margs, \u001b[38;5;241m*\u001b[39m\u001b[38;5;241m*\u001b[39mkwargs)\n\u001b[0;32m     52\u001b[0m \u001b[38;5;28;01melse\u001b[39;00m:\n\u001b[0;32m     53\u001b[0m   \u001b[38;5;28;01mreturn\u001b[39;00m distribution_strategy_context\u001b[38;5;241m.\u001b[39mget_replica_context()\u001b[38;5;241m.\u001b[39mmerge_call(\n\u001b[0;32m     54\u001b[0m       fn, args\u001b[38;5;241m=\u001b[39margs, kwargs\u001b[38;5;241m=\u001b[39mkwargs)\n",
      "File \u001b[1;32m~\\anaconda3\\lib\\site-packages\\keras\\optimizers\\optimizer_v2\\optimizer_v2.py:723\u001b[0m, in \u001b[0;36mOptimizerV2._distributed_apply\u001b[1;34m(self, distribution, grads_and_vars, apply_state, name)\u001b[0m\n\u001b[0;32m    719\u001b[0m \u001b[38;5;28;01mwith\u001b[39;00m distribution\u001b[38;5;241m.\u001b[39mextended\u001b[38;5;241m.\u001b[39mcolocate_vars_with(var):\n\u001b[0;32m    720\u001b[0m   \u001b[38;5;28;01mwith\u001b[39;00m name_scope_only_in_function_or_graph(\n\u001b[0;32m    721\u001b[0m       \u001b[38;5;124m\"\u001b[39m\u001b[38;5;124mupdate\u001b[39m\u001b[38;5;124m\"\u001b[39m \u001b[38;5;28;01mif\u001b[39;00m eagerly_outside_functions \u001b[38;5;28;01melse\u001b[39;00m \u001b[38;5;124m\"\u001b[39m\u001b[38;5;124mupdate_\u001b[39m\u001b[38;5;124m\"\u001b[39m \u001b[38;5;241m+\u001b[39m\n\u001b[0;32m    722\u001b[0m       var\u001b[38;5;241m.\u001b[39mop\u001b[38;5;241m.\u001b[39mname):\n\u001b[1;32m--> 723\u001b[0m     update_op \u001b[38;5;241m=\u001b[39m \u001b[43mdistribution\u001b[49m\u001b[38;5;241;43m.\u001b[39;49m\u001b[43mextended\u001b[49m\u001b[38;5;241;43m.\u001b[39;49m\u001b[43mupdate\u001b[49m\u001b[43m(\u001b[49m\n\u001b[0;32m    724\u001b[0m \u001b[43m        \u001b[49m\u001b[43mvar\u001b[49m\u001b[43m,\u001b[49m\u001b[43m \u001b[49m\u001b[43mapply_grad_to_update_var\u001b[49m\u001b[43m,\u001b[49m\u001b[43m \u001b[49m\u001b[43margs\u001b[49m\u001b[38;5;241;43m=\u001b[39;49m\u001b[43m(\u001b[49m\u001b[43mgrad\u001b[49m\u001b[43m,\u001b[49m\u001b[43m)\u001b[49m\u001b[43m,\u001b[49m\u001b[43m \u001b[49m\u001b[43mgroup\u001b[49m\u001b[38;5;241;43m=\u001b[39;49m\u001b[38;5;28;43;01mFalse\u001b[39;49;00m\u001b[43m)\u001b[49m\n\u001b[0;32m    725\u001b[0m     \u001b[38;5;28;01mif\u001b[39;00m tf\u001b[38;5;241m.\u001b[39mdistribute\u001b[38;5;241m.\u001b[39min_cross_replica_context():\n\u001b[0;32m    726\u001b[0m       \u001b[38;5;66;03m# In cross-replica context, extended.update returns a list of\u001b[39;00m\n\u001b[0;32m    727\u001b[0m       \u001b[38;5;66;03m# update ops from all replicas (group=False).\u001b[39;00m\n\u001b[0;32m    728\u001b[0m       update_ops\u001b[38;5;241m.\u001b[39mextend(update_op)\n",
      "File \u001b[1;32m~\\anaconda3\\lib\\site-packages\\tensorflow\\python\\distribute\\distribute_lib.py:2630\u001b[0m, in \u001b[0;36mStrategyExtendedV2.update\u001b[1;34m(self, var, fn, args, kwargs, group)\u001b[0m\n\u001b[0;32m   2627\u001b[0m   fn \u001b[38;5;241m=\u001b[39m autograph\u001b[38;5;241m.\u001b[39mtf_convert(\n\u001b[0;32m   2628\u001b[0m       fn, autograph_ctx\u001b[38;5;241m.\u001b[39mcontrol_status_ctx(), convert_by_default\u001b[38;5;241m=\u001b[39m\u001b[38;5;28;01mFalse\u001b[39;00m)\n\u001b[0;32m   2629\u001b[0m   \u001b[38;5;28;01mwith\u001b[39;00m \u001b[38;5;28mself\u001b[39m\u001b[38;5;241m.\u001b[39m_container_strategy()\u001b[38;5;241m.\u001b[39mscope():\n\u001b[1;32m-> 2630\u001b[0m     \u001b[38;5;28;01mreturn\u001b[39;00m \u001b[38;5;28;43mself\u001b[39;49m\u001b[38;5;241;43m.\u001b[39;49m\u001b[43m_update\u001b[49m\u001b[43m(\u001b[49m\u001b[43mvar\u001b[49m\u001b[43m,\u001b[49m\u001b[43m \u001b[49m\u001b[43mfn\u001b[49m\u001b[43m,\u001b[49m\u001b[43m \u001b[49m\u001b[43margs\u001b[49m\u001b[43m,\u001b[49m\u001b[43m \u001b[49m\u001b[43mkwargs\u001b[49m\u001b[43m,\u001b[49m\u001b[43m \u001b[49m\u001b[43mgroup\u001b[49m\u001b[43m)\u001b[49m\n\u001b[0;32m   2631\u001b[0m \u001b[38;5;28;01melse\u001b[39;00m:\n\u001b[0;32m   2632\u001b[0m   \u001b[38;5;28;01mreturn\u001b[39;00m \u001b[38;5;28mself\u001b[39m\u001b[38;5;241m.\u001b[39m_replica_ctx_update(\n\u001b[0;32m   2633\u001b[0m       var, fn, args\u001b[38;5;241m=\u001b[39margs, kwargs\u001b[38;5;241m=\u001b[39mkwargs, group\u001b[38;5;241m=\u001b[39mgroup)\n",
      "File \u001b[1;32m~\\anaconda3\\lib\\site-packages\\tensorflow\\python\\distribute\\distribute_lib.py:3703\u001b[0m, in \u001b[0;36m_DefaultDistributionExtended._update\u001b[1;34m(self, var, fn, args, kwargs, group)\u001b[0m\n\u001b[0;32m   3700\u001b[0m \u001b[38;5;28;01mdef\u001b[39;00m \u001b[38;5;21m_update\u001b[39m(\u001b[38;5;28mself\u001b[39m, var, fn, args, kwargs, group):\n\u001b[0;32m   3701\u001b[0m   \u001b[38;5;66;03m# The implementations of _update() and _update_non_slot() are identical\u001b[39;00m\n\u001b[0;32m   3702\u001b[0m   \u001b[38;5;66;03m# except _update() passes `var` as the first argument to `fn()`.\u001b[39;00m\n\u001b[1;32m-> 3703\u001b[0m   \u001b[38;5;28;01mreturn\u001b[39;00m \u001b[38;5;28;43mself\u001b[39;49m\u001b[38;5;241;43m.\u001b[39;49m\u001b[43m_update_non_slot\u001b[49m\u001b[43m(\u001b[49m\u001b[43mvar\u001b[49m\u001b[43m,\u001b[49m\u001b[43m \u001b[49m\u001b[43mfn\u001b[49m\u001b[43m,\u001b[49m\u001b[43m \u001b[49m\u001b[43m(\u001b[49m\u001b[43mvar\u001b[49m\u001b[43m,\u001b[49m\u001b[43m)\u001b[49m\u001b[43m \u001b[49m\u001b[38;5;241;43m+\u001b[39;49m\u001b[43m \u001b[49m\u001b[38;5;28;43mtuple\u001b[39;49m\u001b[43m(\u001b[49m\u001b[43margs\u001b[49m\u001b[43m)\u001b[49m\u001b[43m,\u001b[49m\u001b[43m \u001b[49m\u001b[43mkwargs\u001b[49m\u001b[43m,\u001b[49m\u001b[43m \u001b[49m\u001b[43mgroup\u001b[49m\u001b[43m)\u001b[49m\n",
      "File \u001b[1;32m~\\anaconda3\\lib\\site-packages\\tensorflow\\python\\distribute\\distribute_lib.py:3709\u001b[0m, in \u001b[0;36m_DefaultDistributionExtended._update_non_slot\u001b[1;34m(self, colocate_with, fn, args, kwargs, should_group)\u001b[0m\n\u001b[0;32m   3705\u001b[0m \u001b[38;5;28;01mdef\u001b[39;00m \u001b[38;5;21m_update_non_slot\u001b[39m(\u001b[38;5;28mself\u001b[39m, colocate_with, fn, args, kwargs, should_group):\n\u001b[0;32m   3706\u001b[0m   \u001b[38;5;66;03m# TODO(josh11b): Figure out what we should be passing to UpdateContext()\u001b[39;00m\n\u001b[0;32m   3707\u001b[0m   \u001b[38;5;66;03m# once that value is used for something.\u001b[39;00m\n\u001b[0;32m   3708\u001b[0m   \u001b[38;5;28;01mwith\u001b[39;00m UpdateContext(colocate_with):\n\u001b[1;32m-> 3709\u001b[0m     result \u001b[38;5;241m=\u001b[39m fn(\u001b[38;5;241m*\u001b[39margs, \u001b[38;5;241m*\u001b[39m\u001b[38;5;241m*\u001b[39mkwargs)\n\u001b[0;32m   3710\u001b[0m     \u001b[38;5;28;01mif\u001b[39;00m should_group:\n\u001b[0;32m   3711\u001b[0m       \u001b[38;5;28;01mreturn\u001b[39;00m result\n",
      "File \u001b[1;32m~\\anaconda3\\lib\\site-packages\\tensorflow\\python\\autograph\\impl\\api.py:595\u001b[0m, in \u001b[0;36mcall_with_unspecified_conversion_status.<locals>.wrapper\u001b[1;34m(*args, **kwargs)\u001b[0m\n\u001b[0;32m    593\u001b[0m \u001b[38;5;28;01mdef\u001b[39;00m \u001b[38;5;21mwrapper\u001b[39m(\u001b[38;5;241m*\u001b[39margs, \u001b[38;5;241m*\u001b[39m\u001b[38;5;241m*\u001b[39mkwargs):\n\u001b[0;32m    594\u001b[0m   \u001b[38;5;28;01mwith\u001b[39;00m ag_ctx\u001b[38;5;241m.\u001b[39mControlStatusCtx(status\u001b[38;5;241m=\u001b[39mag_ctx\u001b[38;5;241m.\u001b[39mStatus\u001b[38;5;241m.\u001b[39mUNSPECIFIED):\n\u001b[1;32m--> 595\u001b[0m     \u001b[38;5;28;01mreturn\u001b[39;00m func(\u001b[38;5;241m*\u001b[39margs, \u001b[38;5;241m*\u001b[39m\u001b[38;5;241m*\u001b[39mkwargs)\n",
      "File \u001b[1;32m~\\anaconda3\\lib\\site-packages\\keras\\optimizers\\optimizer_v2\\optimizer_v2.py:706\u001b[0m, in \u001b[0;36mOptimizerV2._distributed_apply.<locals>.apply_grad_to_update_var\u001b[1;34m(var, grad)\u001b[0m\n\u001b[0;32m    704\u001b[0m \u001b[38;5;28;01mif\u001b[39;00m \u001b[38;5;124m\"\u001b[39m\u001b[38;5;124mapply_state\u001b[39m\u001b[38;5;124m\"\u001b[39m \u001b[38;5;129;01min\u001b[39;00m \u001b[38;5;28mself\u001b[39m\u001b[38;5;241m.\u001b[39m_dense_apply_args:\n\u001b[0;32m    705\u001b[0m   apply_kwargs[\u001b[38;5;124m\"\u001b[39m\u001b[38;5;124mapply_state\u001b[39m\u001b[38;5;124m\"\u001b[39m] \u001b[38;5;241m=\u001b[39m apply_state\n\u001b[1;32m--> 706\u001b[0m update_op \u001b[38;5;241m=\u001b[39m \u001b[38;5;28mself\u001b[39m\u001b[38;5;241m.\u001b[39m_resource_apply_dense(grad, var, \u001b[38;5;241m*\u001b[39m\u001b[38;5;241m*\u001b[39mapply_kwargs)\n\u001b[0;32m    707\u001b[0m \u001b[38;5;28;01mif\u001b[39;00m var\u001b[38;5;241m.\u001b[39mconstraint \u001b[38;5;129;01mis\u001b[39;00m \u001b[38;5;129;01mnot\u001b[39;00m \u001b[38;5;28;01mNone\u001b[39;00m:\n\u001b[0;32m    708\u001b[0m   \u001b[38;5;28;01mwith\u001b[39;00m tf\u001b[38;5;241m.\u001b[39mcontrol_dependencies([update_op]):\n",
      "File \u001b[1;32m~\\anaconda3\\lib\\site-packages\\keras\\optimizers\\optimizer_v2\\adam.py:170\u001b[0m, in \u001b[0;36mAdam._resource_apply_dense\u001b[1;34m(self, grad, var, apply_state)\u001b[0m\n\u001b[0;32m    167\u001b[0m v \u001b[38;5;241m=\u001b[39m \u001b[38;5;28mself\u001b[39m\u001b[38;5;241m.\u001b[39mget_slot(var, \u001b[38;5;124m'\u001b[39m\u001b[38;5;124mv\u001b[39m\u001b[38;5;124m'\u001b[39m)\n\u001b[0;32m    169\u001b[0m \u001b[38;5;28;01mif\u001b[39;00m \u001b[38;5;129;01mnot\u001b[39;00m \u001b[38;5;28mself\u001b[39m\u001b[38;5;241m.\u001b[39mamsgrad:\n\u001b[1;32m--> 170\u001b[0m   \u001b[38;5;28;01mreturn\u001b[39;00m \u001b[43mtf\u001b[49m\u001b[38;5;241;43m.\u001b[39;49m\u001b[43mraw_ops\u001b[49m\u001b[38;5;241;43m.\u001b[39;49m\u001b[43mResourceApplyAdam\u001b[49m\u001b[43m(\u001b[49m\n\u001b[0;32m    171\u001b[0m \u001b[43m      \u001b[49m\u001b[43mvar\u001b[49m\u001b[38;5;241;43m=\u001b[39;49m\u001b[43mvar\u001b[49m\u001b[38;5;241;43m.\u001b[39;49m\u001b[43mhandle\u001b[49m\u001b[43m,\u001b[49m\n\u001b[0;32m    172\u001b[0m \u001b[43m      \u001b[49m\u001b[43mm\u001b[49m\u001b[38;5;241;43m=\u001b[39;49m\u001b[43mm\u001b[49m\u001b[38;5;241;43m.\u001b[39;49m\u001b[43mhandle\u001b[49m\u001b[43m,\u001b[49m\n\u001b[0;32m    173\u001b[0m \u001b[43m      \u001b[49m\u001b[43mv\u001b[49m\u001b[38;5;241;43m=\u001b[39;49m\u001b[43mv\u001b[49m\u001b[38;5;241;43m.\u001b[39;49m\u001b[43mhandle\u001b[49m\u001b[43m,\u001b[49m\n\u001b[0;32m    174\u001b[0m \u001b[43m      \u001b[49m\u001b[43mbeta1_power\u001b[49m\u001b[38;5;241;43m=\u001b[39;49m\u001b[43mcoefficients\u001b[49m\u001b[43m[\u001b[49m\u001b[38;5;124;43m'\u001b[39;49m\u001b[38;5;124;43mbeta_1_power\u001b[39;49m\u001b[38;5;124;43m'\u001b[39;49m\u001b[43m]\u001b[49m\u001b[43m,\u001b[49m\n\u001b[0;32m    175\u001b[0m \u001b[43m      \u001b[49m\u001b[43mbeta2_power\u001b[49m\u001b[38;5;241;43m=\u001b[39;49m\u001b[43mcoefficients\u001b[49m\u001b[43m[\u001b[49m\u001b[38;5;124;43m'\u001b[39;49m\u001b[38;5;124;43mbeta_2_power\u001b[39;49m\u001b[38;5;124;43m'\u001b[39;49m\u001b[43m]\u001b[49m\u001b[43m,\u001b[49m\n\u001b[0;32m    176\u001b[0m \u001b[43m      \u001b[49m\u001b[43mlr\u001b[49m\u001b[38;5;241;43m=\u001b[39;49m\u001b[43mcoefficients\u001b[49m\u001b[43m[\u001b[49m\u001b[38;5;124;43m'\u001b[39;49m\u001b[38;5;124;43mlr_t\u001b[39;49m\u001b[38;5;124;43m'\u001b[39;49m\u001b[43m]\u001b[49m\u001b[43m,\u001b[49m\n\u001b[0;32m    177\u001b[0m \u001b[43m      \u001b[49m\u001b[43mbeta1\u001b[49m\u001b[38;5;241;43m=\u001b[39;49m\u001b[43mcoefficients\u001b[49m\u001b[43m[\u001b[49m\u001b[38;5;124;43m'\u001b[39;49m\u001b[38;5;124;43mbeta_1_t\u001b[39;49m\u001b[38;5;124;43m'\u001b[39;49m\u001b[43m]\u001b[49m\u001b[43m,\u001b[49m\n\u001b[0;32m    178\u001b[0m \u001b[43m      \u001b[49m\u001b[43mbeta2\u001b[49m\u001b[38;5;241;43m=\u001b[39;49m\u001b[43mcoefficients\u001b[49m\u001b[43m[\u001b[49m\u001b[38;5;124;43m'\u001b[39;49m\u001b[38;5;124;43mbeta_2_t\u001b[39;49m\u001b[38;5;124;43m'\u001b[39;49m\u001b[43m]\u001b[49m\u001b[43m,\u001b[49m\n\u001b[0;32m    179\u001b[0m \u001b[43m      \u001b[49m\u001b[43mepsilon\u001b[49m\u001b[38;5;241;43m=\u001b[39;49m\u001b[43mcoefficients\u001b[49m\u001b[43m[\u001b[49m\u001b[38;5;124;43m'\u001b[39;49m\u001b[38;5;124;43mepsilon\u001b[39;49m\u001b[38;5;124;43m'\u001b[39;49m\u001b[43m]\u001b[49m\u001b[43m,\u001b[49m\n\u001b[0;32m    180\u001b[0m \u001b[43m      \u001b[49m\u001b[43mgrad\u001b[49m\u001b[38;5;241;43m=\u001b[39;49m\u001b[43mgrad\u001b[49m\u001b[43m,\u001b[49m\n\u001b[0;32m    181\u001b[0m \u001b[43m      \u001b[49m\u001b[43muse_locking\u001b[49m\u001b[38;5;241;43m=\u001b[39;49m\u001b[38;5;28;43mself\u001b[39;49m\u001b[38;5;241;43m.\u001b[39;49m\u001b[43m_use_locking\u001b[49m\u001b[43m)\u001b[49m\n\u001b[0;32m    182\u001b[0m \u001b[38;5;28;01melse\u001b[39;00m:\n\u001b[0;32m    183\u001b[0m   vhat \u001b[38;5;241m=\u001b[39m \u001b[38;5;28mself\u001b[39m\u001b[38;5;241m.\u001b[39mget_slot(var, \u001b[38;5;124m'\u001b[39m\u001b[38;5;124mvhat\u001b[39m\u001b[38;5;124m'\u001b[39m)\n",
      "File \u001b[1;32m~\\anaconda3\\lib\\site-packages\\tensorflow\\python\\util\\tf_export.py:400\u001b[0m, in \u001b[0;36mkwarg_only.<locals>.wrapper\u001b[1;34m(*args, **kwargs)\u001b[0m\n\u001b[0;32m    395\u001b[0m \u001b[38;5;28;01mif\u001b[39;00m args:\n\u001b[0;32m    396\u001b[0m   \u001b[38;5;28;01mraise\u001b[39;00m \u001b[38;5;167;01mTypeError\u001b[39;00m(\n\u001b[0;32m    397\u001b[0m       \u001b[38;5;124m'\u001b[39m\u001b[38;5;132;01m{f}\u001b[39;00m\u001b[38;5;124m only takes keyword args (possible keys: \u001b[39m\u001b[38;5;132;01m{kwargs}\u001b[39;00m\u001b[38;5;124m). \u001b[39m\u001b[38;5;124m'\u001b[39m\n\u001b[0;32m    398\u001b[0m       \u001b[38;5;124m'\u001b[39m\u001b[38;5;124mPlease pass these args as kwargs instead.\u001b[39m\u001b[38;5;124m'\u001b[39m\n\u001b[0;32m    399\u001b[0m       \u001b[38;5;241m.\u001b[39mformat(f\u001b[38;5;241m=\u001b[39mf\u001b[38;5;241m.\u001b[39m\u001b[38;5;18m__name__\u001b[39m, kwargs\u001b[38;5;241m=\u001b[39mf_argspec\u001b[38;5;241m.\u001b[39margs))\n\u001b[1;32m--> 400\u001b[0m \u001b[38;5;28;01mreturn\u001b[39;00m f(\u001b[38;5;241m*\u001b[39m\u001b[38;5;241m*\u001b[39mkwargs)\n",
      "File \u001b[1;32m~\\anaconda3\\lib\\site-packages\\tensorflow\\python\\ops\\gen_training_ops.py:1420\u001b[0m, in \u001b[0;36mresource_apply_adam\u001b[1;34m(var, m, v, beta1_power, beta2_power, lr, beta1, beta2, epsilon, grad, use_locking, use_nesterov, name)\u001b[0m\n\u001b[0;32m   1418\u001b[0m \u001b[38;5;28;01mif\u001b[39;00m tld\u001b[38;5;241m.\u001b[39mis_eager:\n\u001b[0;32m   1419\u001b[0m   \u001b[38;5;28;01mtry\u001b[39;00m:\n\u001b[1;32m-> 1420\u001b[0m     _result \u001b[38;5;241m=\u001b[39m \u001b[43mpywrap_tfe\u001b[49m\u001b[38;5;241;43m.\u001b[39;49m\u001b[43mTFE_Py_FastPathExecute\u001b[49m\u001b[43m(\u001b[49m\n\u001b[0;32m   1421\u001b[0m \u001b[43m      \u001b[49m\u001b[43m_ctx\u001b[49m\u001b[43m,\u001b[49m\u001b[43m \u001b[49m\u001b[38;5;124;43m\"\u001b[39;49m\u001b[38;5;124;43mResourceApplyAdam\u001b[39;49m\u001b[38;5;124;43m\"\u001b[39;49m\u001b[43m,\u001b[49m\u001b[43m \u001b[49m\u001b[43mname\u001b[49m\u001b[43m,\u001b[49m\u001b[43m \u001b[49m\u001b[43mvar\u001b[49m\u001b[43m,\u001b[49m\u001b[43m \u001b[49m\u001b[43mm\u001b[49m\u001b[43m,\u001b[49m\u001b[43m \u001b[49m\u001b[43mv\u001b[49m\u001b[43m,\u001b[49m\u001b[43m \u001b[49m\u001b[43mbeta1_power\u001b[49m\u001b[43m,\u001b[49m\u001b[43m \u001b[49m\u001b[43mbeta2_power\u001b[49m\u001b[43m,\u001b[49m\n\u001b[0;32m   1422\u001b[0m \u001b[43m      \u001b[49m\u001b[43mlr\u001b[49m\u001b[43m,\u001b[49m\u001b[43m \u001b[49m\u001b[43mbeta1\u001b[49m\u001b[43m,\u001b[49m\u001b[43m \u001b[49m\u001b[43mbeta2\u001b[49m\u001b[43m,\u001b[49m\u001b[43m \u001b[49m\u001b[43mepsilon\u001b[49m\u001b[43m,\u001b[49m\u001b[43m \u001b[49m\u001b[43mgrad\u001b[49m\u001b[43m,\u001b[49m\u001b[43m \u001b[49m\u001b[38;5;124;43m\"\u001b[39;49m\u001b[38;5;124;43muse_locking\u001b[39;49m\u001b[38;5;124;43m\"\u001b[39;49m\u001b[43m,\u001b[49m\u001b[43m \u001b[49m\u001b[43muse_locking\u001b[49m\u001b[43m,\u001b[49m\n\u001b[0;32m   1423\u001b[0m \u001b[43m      \u001b[49m\u001b[38;5;124;43m\"\u001b[39;49m\u001b[38;5;124;43muse_nesterov\u001b[39;49m\u001b[38;5;124;43m\"\u001b[39;49m\u001b[43m,\u001b[49m\u001b[43m \u001b[49m\u001b[43muse_nesterov\u001b[49m\u001b[43m)\u001b[49m\n\u001b[0;32m   1424\u001b[0m     \u001b[38;5;28;01mreturn\u001b[39;00m _result\n\u001b[0;32m   1425\u001b[0m   \u001b[38;5;28;01mexcept\u001b[39;00m _core\u001b[38;5;241m.\u001b[39m_NotOkStatusException \u001b[38;5;28;01mas\u001b[39;00m e:\n",
      "\u001b[1;31mKeyboardInterrupt\u001b[0m: "
     ]
    }
   ],
   "source": [
    "epochs = 10000\n",
    "loss = PINNtrain(tf.convert_to_tensor(input_data, dtype = float),epochs)\n",
    "loss"
   ]
  },
  {
   "cell_type": "code",
   "execution_count": 127,
   "id": "f772e31e",
   "metadata": {
    "scrolled": true
   },
   "outputs": [
    {
     "data": {
      "image/png": "[encoded data removed]",
      "text/plain": [
       "<Figure size 432x288 with 1 Axes>"
      ]
     },
     "metadata": {
      "needs_background": "light"
     },
     "output_type": "display_data"
    },
    {
     "data": {
      "text/plain": [
       "<Figure size 432x288 with 0 Axes>"
      ]
     },
     "metadata": {},
     "output_type": "display_data"
    }
   ],
   "source": [
    "plt.semilogy(range(0, epochs), loss)\n",
    "plt.xlabel('epochs')\n",
    "plt.ylabel('loss')\n",
    "plt.grid()\n",
    "plt.show()\n",
    "plt.savefig('loss.png')"
   ]
  },
  {
   "cell_type": "code",
   "execution_count": 130,
   "id": "a567dd79",
   "metadata": {},
   "outputs": [
    {
     "data": {
      "text/plain": [
       "<matplotlib.legend.Legend at 0x2262ef9a9a0>"
      ]
     },
     "execution_count": 130,
     "metadata": {},
     "output_type": "execute_result"
    },
    {
     "data": {
      "image/png": "[encoded data removed]",
      "text/plain": [
       "<Figure size 432x288 with 1 Axes>"
      ]
     },
     "metadata": {
      "needs_background": "light"
     },
     "output_type": "display_data"
    }
   ],
   "source": [
    "x = np.linspace(0,1,10)\n",
    "discrete = np.linspace(0,1,100)\n",
    "target = []\n",
    "\n",
    "for i in range(100): \n",
    "    x_i = discrete[i]\n",
    "    target.append((np.exp(-x_i**2/2))/(1+x_i+x_i**3) + x_i**2) \n",
    "    \n",
    "#plt.plot(discrete,1 + discrete*model3([discrete]).numpy().T[0], label = 'model1')\n",
    "plt.plot(discrete, model3([discrete]).numpy().T[0], label = 'model1')\n",
    "plt.plot(discrete,target, label = 'target')\n",
    "plt.legend(loc =  'upper left')"
   ]
  },
  {
   "cell_type": "code",
   "execution_count": 132,
   "id": "cc4686d0",
   "metadata": {},
   "outputs": [
    {
     "data": {
      "image/png": "[encoded data removed]",
      "text/plain": [
       "<Figure size 432x288 with 1 Axes>"
      ]
     },
     "metadata": {
      "needs_background": "light"
     },
     "output_type": "display_data"
    }
   ],
   "source": [
    "plt.plot(discrete,target-(model3([discrete]).numpy().T[0]))\n",
    "plt.plot(discrete,[0]*100, ':r')\n",
    "plt.plot(x,[0]*10, 'o', color = 'red', mfc = 'none', markersize = 5)\n",
    "plt.ylabel('Solution Accuracy')\n",
    "plt.xlabel('x')\n",
    "plt.show()"
   ]
  },
  {
   "cell_type": "markdown",
   "id": "f24a5009",
   "metadata": {},
   "source": [
    "## 1D second order equation $-\\frac{d}{dx}\\left((1+\\frac{1}{4}\\sin {2\\pi x})\\frac{d\\Psi}{dx}\\right) + \\nu \\Psi=- 2\\pi^2 \\cos{2\\pi x}\\cos{4\\pi x} + 16\\pi^2(1+\\frac{1}{4}\\sin {2\\pi x})\\sin{4\\pi x} + \\nu \\sin{4\\pi x}$ with periodic BC $\\Psi(0)=\\Psi(1)$, $\\Psi'(0)=\\Psi'(1)$"
   ]
  },
  {
   "cell_type": "markdown",
   "id": "35b160c1",
   "metadata": {},
   "source": [
    "## Exact solution: $\\Psi(x) = \\sin{4\\pi x}$"
   ]
  },
  {
   "cell_type": "code",
   "execution_count": 95,
   "id": "279be5df",
   "metadata": {},
   "outputs": [],
   "source": [
    "nu = 5"
   ]
  },
  {
   "cell_type": "code",
   "execution_count": 96,
   "id": "092f7e61",
   "metadata": {
    "scrolled": false
   },
   "outputs": [
    {
     "name": "stdout",
     "output_type": "stream",
     "text": [
      "Model: \"sequential_12\"\n",
      "_________________________________________________________________\n",
      " Layer (type)                Output Shape              Param #   \n",
      "=================================================================\n",
      " dense_24 (Dense)            (None, 10)                20        \n",
      "                                                                 \n",
      " dense_25 (Dense)            (None, 1)                 10        \n",
      "                                                                 \n",
      "=================================================================\n",
      "Total params: 30\n",
      "Trainable params: 30\n",
      "Non-trainable params: 0\n",
      "_________________________________________________________________\n"
     ]
    }
   ],
   "source": [
    "H = 10\n",
    "\n",
    "model4 = keras.Sequential([\n",
    "    layers.Dense(units = H, activation = 'sigmoid', input_shape = (1,)),\n",
    "    layers.Dense(units = 1, activation = 'linear', use_bias = False)\n",
    "])\n",
    "\n",
    "model4.summary()"
   ]
  },
  {
   "cell_type": "code",
   "execution_count": 97,
   "id": "8df4850a",
   "metadata": {},
   "outputs": [],
   "source": [
    "a = 0\n",
    "b = 1\n",
    "N = 18\n",
    "h = (b - a)/(N + 1)\n",
    "\n",
    "#domain discretization to be used as input data\n",
    "x = []\n",
    "for i in range(N + 2):\n",
    "    x.append(a + i*h)\n",
    "input_data = np.array(x)\n",
    "input_data = input_data.reshape(N+2,1)"
   ]
  },
  {
   "cell_type": "code",
   "execution_count": 98,
   "id": "43cbd9a0",
   "metadata": {},
   "outputs": [],
   "source": [
    "def trainStep(x,opt):\n",
    "    \n",
    "    L = len(x)\n",
    "    \n",
    "    # Outer gradient for model parameters\n",
    "    with tf.GradientTape() as tape:\n",
    "        \n",
    "        # Inner gradient for first derivative of N wrt x\n",
    "        with tf.GradientTape() as tape1:\n",
    "            tape1.watch(x)\n",
    "            \n",
    "            # Inner inner gradient for second derivative of N wrt x\n",
    "            with tf.GradientTape() as tape2:\n",
    "                tape2.watch(x)\n",
    "            \n",
    "                N = model4([x])\n",
    "            \n",
    "            Nx = tape2.gradient(N, x)\n",
    "        Nxx = tape1.gradient(Nx, x)\n",
    "        \n",
    "        # Plug trial solution into ODE:\n",
    "        eqn = - Nx * np.pi /2 * np.cos(2*np.pi*x) - Nxx * (1 + 1/4 * np.sin(2*np.pi*x)) + nu * N - \\\n",
    "        (- 2* np.pi**2 * np.cos(2*np.pi*x) * np.cos(4*np.pi*x) + \\\n",
    "        (1 + 1/4 * np.sin(2*np.pi*x)) * (16*np.pi**2 * np.sin(4*np.pi*x)) + nu * np.sin(4*np.pi*x))  \n",
    "        \n",
    "        loss = tf.reduce_sum(tf.square(eqn)) + \\\n",
    "        (tf.squeeze(N[0]) - tf.squeeze(N[L-1]))**2 + (tf.squeeze(Nx[0]) - tf.squeeze(Nx[L-1]))**2  \n",
    "        \n",
    "    # Compute the gradient of loss wrt model parameters\n",
    "    grads = tape.gradient(loss, model4.trainable_variables)\n",
    "    \n",
    "    # Gradient step\n",
    "    opt.apply_gradients(zip(grads, model4.trainable_variables))\n",
    "    \n",
    "    \n",
    "    return loss"
   ]
  },
  {
   "cell_type": "code",
   "execution_count": 99,
   "id": "5cbf683e",
   "metadata": {},
   "outputs": [],
   "source": [
    "def PINNtrain(x, epochs):\n",
    "    \n",
    "    # Define an optimizer\n",
    "    lr = tf.keras.optimizers.schedules.PolynomialDecay(0.1, epochs, 1e-4)\n",
    "    opt = keras.optimizers.Adam(lr)\n",
    "    epoch_loss = np.zeros(epochs)\n",
    "    \n",
    "    # Main training loop\n",
    "    for i in range(epochs):\n",
    "        \n",
    "        PDEloss = trainStep(x,opt)\n",
    "        epoch_loss[i] = PDEloss\n",
    "        \n",
    "        if (np.mod(i, 100)==0):\n",
    "          print(\"PDE loss in {}th epoch: {: 6.4f}.\".format(i, PDEloss.numpy()))\n",
    "    \n",
    "    return epoch_loss"
   ]
  },
  {
   "cell_type": "code",
   "execution_count": 100,
   "id": "27aeed7a",
   "metadata": {
    "scrolled": true
   },
   "outputs": [
    {
     "name": "stdout",
     "output_type": "stream",
     "text": [
      "PDE loss in 0th epoch:  263145.6250.\n",
      "PDE loss in 100th epoch:  15712.7539.\n",
      "PDE loss in 200th epoch:  3489.8816.\n",
      "PDE loss in 300th epoch:  2853.7515.\n",
      "PDE loss in 400th epoch:  2316.2266.\n",
      "PDE loss in 500th epoch:  1877.4844.\n",
      "PDE loss in 600th epoch:  1547.7021.\n",
      "PDE loss in 700th epoch:  944.1885.\n",
      "PDE loss in 800th epoch:  301.6955.\n",
      "PDE loss in 900th epoch:  134.4048.\n",
      "PDE loss in 1000th epoch:  99.2237.\n",
      "PDE loss in 1100th epoch:  85.6085.\n",
      "PDE loss in 1200th epoch:  201.0625.\n",
      "PDE loss in 1300th epoch:  71.1702.\n",
      "PDE loss in 1400th epoch:  65.6457.\n",
      "PDE loss in 1500th epoch:  61.1118.\n",
      "PDE loss in 1600th epoch:  56.9155.\n",
      "PDE loss in 1700th epoch:  53.6533.\n",
      "PDE loss in 1800th epoch:  50.4343.\n",
      "PDE loss in 1900th epoch:  52.7744.\n",
      "PDE loss in 2000th epoch:  45.0954.\n",
      "PDE loss in 2100th epoch:  43.8104.\n",
      "PDE loss in 2200th epoch:  40.6806.\n",
      "PDE loss in 2300th epoch:  43.2914.\n",
      "PDE loss in 2400th epoch:  36.9879.\n",
      "PDE loss in 2500th epoch:  40.0809.\n",
      "PDE loss in 2600th epoch:  33.7966.\n",
      "PDE loss in 2700th epoch:  32.3721.\n",
      "PDE loss in 2800th epoch:  31.0402.\n",
      "PDE loss in 2900th epoch:  29.7065.\n",
      "PDE loss in 3000th epoch:  28.6934.\n",
      "PDE loss in 3100th epoch:  27.4399.\n",
      "PDE loss in 3200th epoch:  26.9241.\n",
      "PDE loss in 3300th epoch:  25.4546.\n",
      "PDE loss in 3400th epoch:  55.7642.\n",
      "PDE loss in 3500th epoch:  23.6753.\n",
      "PDE loss in 3600th epoch:  22.8024.\n",
      "PDE loss in 3700th epoch:  22.2210.\n",
      "PDE loss in 3800th epoch:  21.2657.\n",
      "PDE loss in 3900th epoch:  20.6229.\n",
      "PDE loss in 4000th epoch:  19.8868.\n",
      "PDE loss in 4100th epoch:  19.9902.\n",
      "PDE loss in 4200th epoch:  18.6437.\n",
      "PDE loss in 4300th epoch:  144.6758.\n",
      "PDE loss in 4400th epoch:  17.5075.\n",
      "PDE loss in 4500th epoch:  16.9345.\n",
      "PDE loss in 4600th epoch:  16.5133.\n",
      "PDE loss in 4700th epoch:  15.9627.\n",
      "PDE loss in 4800th epoch:  25.5563.\n",
      "PDE loss in 4900th epoch:  15.0394.\n",
      "PDE loss in 5000th epoch:  54.2160.\n",
      "PDE loss in 5100th epoch:  14.1946.\n",
      "PDE loss in 5200th epoch:  13.7727.\n",
      "PDE loss in 5300th epoch:  13.4273.\n",
      "PDE loss in 5400th epoch:  13.0192.\n",
      "PDE loss in 5500th epoch:  13.7170.\n",
      "PDE loss in 5600th epoch:  12.3367.\n",
      "PDE loss in 5700th epoch:  11.9774.\n",
      "PDE loss in 5800th epoch:  11.6974.\n",
      "PDE loss in 5900th epoch:  11.5202.\n",
      "PDE loss in 6000th epoch:  11.0615.\n",
      "PDE loss in 6100th epoch:  10.7689.\n",
      "PDE loss in 6200th epoch:  10.4618.\n",
      "PDE loss in 6300th epoch:  10.3946.\n",
      "PDE loss in 6400th epoch:  10.1536.\n",
      "PDE loss in 6500th epoch:  10.2980.\n",
      "PDE loss in 6600th epoch:  9.4073.\n",
      "PDE loss in 6700th epoch:  9.2460.\n",
      "PDE loss in 6800th epoch:  8.9299.\n",
      "PDE loss in 6900th epoch:  10.2910.\n",
      "PDE loss in 7000th epoch:  8.4769.\n",
      "PDE loss in 7100th epoch:  8.5124.\n",
      "PDE loss in 7200th epoch:  8.0531.\n",
      "PDE loss in 7300th epoch:  8.0204.\n",
      "PDE loss in 7400th epoch:  7.6561.\n",
      "PDE loss in 7500th epoch:  7.6105.\n",
      "PDE loss in 7600th epoch:  7.4157.\n",
      "PDE loss in 7700th epoch:  7.0980.\n",
      "PDE loss in 7800th epoch:  20.1198.\n",
      "PDE loss in 7900th epoch:  6.7530.\n",
      "PDE loss in 8000th epoch:  6.6121.\n",
      "PDE loss in 8100th epoch:  6.5561.\n",
      "PDE loss in 8200th epoch:  7.6199.\n",
      "PDE loss in 8300th epoch:  6.1080.\n",
      "PDE loss in 8400th epoch:  5.9866.\n",
      "PDE loss in 8500th epoch:  5.8002.\n",
      "PDE loss in 8600th epoch:  5.6794.\n",
      "PDE loss in 8700th epoch:  10.2484.\n",
      "PDE loss in 8800th epoch:  5.3281.\n",
      "PDE loss in 8900th epoch:  6.5668.\n",
      "PDE loss in 9000th epoch:  5.0507.\n",
      "PDE loss in 9100th epoch:  6.4748.\n",
      "PDE loss in 9200th epoch:  5.1351.\n",
      "PDE loss in 9300th epoch:  6.9240.\n",
      "PDE loss in 9400th epoch:  23.8073.\n",
      "PDE loss in 9500th epoch:  9.9352.\n",
      "PDE loss in 9600th epoch:  3.8010.\n",
      "PDE loss in 9700th epoch:  3.6022.\n",
      "PDE loss in 9800th epoch:  3.5302.\n",
      "PDE loss in 9900th epoch:  3.3487.\n",
      "PDE loss in 10000th epoch:  3.1648.\n",
      "PDE loss in 10100th epoch:  3.1026.\n",
      "PDE loss in 10200th epoch:  9.0576.\n",
      "PDE loss in 10300th epoch:  3.0501.\n",
      "PDE loss in 10400th epoch:  2.8045.\n",
      "PDE loss in 10500th epoch:  6.5320.\n",
      "PDE loss in 10600th epoch:  10.6746.\n",
      "PDE loss in 10700th epoch:  2.2817.\n",
      "PDE loss in 10800th epoch:  2.2026.\n",
      "PDE loss in 10900th epoch:  2.3964.\n",
      "PDE loss in 11000th epoch:  2.5757.\n",
      "PDE loss in 11100th epoch:  2.6462.\n",
      "PDE loss in 11200th epoch:  1.8505.\n",
      "PDE loss in 11300th epoch:  2.0025.\n",
      "PDE loss in 11400th epoch:  1.7131.\n",
      "PDE loss in 11500th epoch:  2.3951.\n",
      "PDE loss in 11600th epoch:  1.7388.\n",
      "PDE loss in 11700th epoch:  1.8454.\n",
      "PDE loss in 11800th epoch:  4.5408.\n",
      "PDE loss in 11900th epoch:  4.7595.\n",
      "PDE loss in 12000th epoch:  1.4183.\n",
      "PDE loss in 12100th epoch:  1.4042.\n",
      "PDE loss in 12200th epoch:  6.3118.\n",
      "PDE loss in 12300th epoch:  1.6404.\n",
      "PDE loss in 12400th epoch:  1.4375.\n",
      "PDE loss in 12500th epoch:  1.1645.\n",
      "PDE loss in 12600th epoch:  1.8830.\n",
      "PDE loss in 12700th epoch:  3.8018.\n",
      "PDE loss in 12800th epoch:  1.0581.\n",
      "PDE loss in 12900th epoch:  1.0410.\n",
      "PDE loss in 13000th epoch:  1.5720.\n",
      "PDE loss in 13100th epoch:  1.1954.\n",
      "PDE loss in 13200th epoch:  1.2789.\n",
      "PDE loss in 13300th epoch:  0.9507.\n",
      "PDE loss in 13400th epoch:  1.0623.\n",
      "PDE loss in 13500th epoch:  1.1997.\n",
      "PDE loss in 13600th epoch:  2.3582.\n",
      "PDE loss in 13700th epoch:  5.3366.\n",
      "PDE loss in 13800th epoch:  1.1730.\n",
      "PDE loss in 13900th epoch:  0.8371.\n",
      "PDE loss in 14000th epoch:  2.8361.\n",
      "PDE loss in 14100th epoch:  1.7010.\n",
      "PDE loss in 14200th epoch:  6.6104.\n",
      "PDE loss in 14300th epoch:  0.8648.\n",
      "PDE loss in 14400th epoch:  5.3945.\n",
      "PDE loss in 14500th epoch:  0.9376.\n",
      "PDE loss in 14600th epoch:  2.0733.\n",
      "PDE loss in 14700th epoch:  0.6361.\n",
      "PDE loss in 14800th epoch:  0.6229.\n",
      "PDE loss in 14900th epoch:  0.6161.\n",
      "PDE loss in 15000th epoch:  0.7459.\n",
      "PDE loss in 15100th epoch:  0.5812.\n",
      "PDE loss in 15200th epoch:  0.5728.\n",
      "PDE loss in 15300th epoch:  0.6220.\n",
      "PDE loss in 15400th epoch:  0.5462.\n",
      "PDE loss in 15500th epoch:  0.5374.\n",
      "PDE loss in 15600th epoch:  0.6124.\n",
      "PDE loss in 15700th epoch:  0.5137.\n",
      "PDE loss in 15800th epoch:  0.5077.\n",
      "PDE loss in 15900th epoch:  0.5210.\n",
      "PDE loss in 16000th epoch:  0.4852.\n",
      "PDE loss in 16100th epoch:  0.8803.\n",
      "PDE loss in 16200th epoch:  0.7150.\n",
      "PDE loss in 16300th epoch:  0.4588.\n",
      "PDE loss in 16400th epoch:  0.5943.\n",
      "PDE loss in 16500th epoch:  0.4430.\n",
      "PDE loss in 16600th epoch:  0.8938.\n",
      "PDE loss in 16700th epoch:  0.4470.\n",
      "PDE loss in 16800th epoch:  0.4842.\n",
      "PDE loss in 16900th epoch:  0.4144.\n",
      "PDE loss in 17000th epoch:  0.7001.\n",
      "PDE loss in 17100th epoch:  0.4698.\n",
      "PDE loss in 17200th epoch:  0.3949.\n",
      "PDE loss in 17300th epoch:  0.3898.\n",
      "PDE loss in 17400th epoch:  0.3831.\n",
      "PDE loss in 17500th epoch:  0.3784.\n",
      "PDE loss in 17600th epoch:  0.3860.\n",
      "PDE loss in 17700th epoch:  0.3664.\n",
      "PDE loss in 17800th epoch:  0.5999.\n",
      "PDE loss in 17900th epoch:  0.3561.\n",
      "PDE loss in 18000th epoch:  0.3513.\n",
      "PDE loss in 18100th epoch:  0.3465.\n",
      "PDE loss in 18200th epoch:  0.3419.\n",
      "PDE loss in 18300th epoch:  0.3375.\n",
      "PDE loss in 18400th epoch:  0.3332.\n",
      "PDE loss in 18500th epoch:  0.3291.\n",
      "PDE loss in 18600th epoch:  0.3251.\n",
      "PDE loss in 18700th epoch:  0.3214.\n",
      "PDE loss in 18800th epoch:  0.3178.\n",
      "PDE loss in 18900th epoch:  0.3145.\n",
      "PDE loss in 19000th epoch:  0.3112.\n",
      "PDE loss in 19100th epoch:  0.3082.\n",
      "PDE loss in 19200th epoch:  0.3055.\n",
      "PDE loss in 19300th epoch:  0.3030.\n",
      "PDE loss in 19400th epoch:  0.3007.\n",
      "PDE loss in 19500th epoch:  0.2987.\n",
      "PDE loss in 19600th epoch:  0.2971.\n",
      "PDE loss in 19700th epoch:  0.2956.\n",
      "PDE loss in 19800th epoch:  0.2946.\n",
      "PDE loss in 19900th epoch:  0.2939.\n"
     ]
    },
    {
     "data": {
      "text/plain": [
       "array([263145.625, 262225.812, 261671.547, ...,      0.294,      0.294,\n",
       "            0.294])"
      ]
     },
     "execution_count": 100,
     "metadata": {},
     "output_type": "execute_result"
    }
   ],
   "source": [
    "epochs = 20000\n",
    "loss = PINNtrain(tf.convert_to_tensor(input_data, dtype = float),epochs)\n",
    "loss"
   ]
  },
  {
   "cell_type": "code",
   "execution_count": 101,
   "id": "bbe8faee",
   "metadata": {},
   "outputs": [
    {
     "data": {
      "image/png": "[encoded data removed]",
      "text/plain": [
       "<Figure size 432x288 with 1 Axes>"
      ]
     },
     "metadata": {
      "needs_background": "light"
     },
     "output_type": "display_data"
    },
    {
     "data": {
      "text/plain": [
       "<Figure size 432x288 with 0 Axes>"
      ]
     },
     "metadata": {},
     "output_type": "display_data"
    }
   ],
   "source": [
    "plt.semilogy(range(0, epochs), loss)\n",
    "plt.xlabel('epochs')\n",
    "plt.ylabel('loss')\n",
    "plt.grid()\n",
    "plt.show()\n",
    "plt.savefig('loss.png')"
   ]
  },
  {
   "cell_type": "code",
   "execution_count": 102,
   "id": "9046895b",
   "metadata": {},
   "outputs": [
    {
     "data": {
      "text/plain": [
       "<matplotlib.legend.Legend at 0x2913bdca280>"
      ]
     },
     "execution_count": 102,
     "metadata": {},
     "output_type": "execute_result"
    },
    {
     "data": {
      "image/png": "[encoded data removed]",
      "text/plain": [
       "<Figure size 432x288 with 1 Axes>"
      ]
     },
     "metadata": {
      "needs_background": "light"
     },
     "output_type": "display_data"
    }
   ],
   "source": [
    "x = np.linspace(0,1,10)\n",
    "discrete = np.linspace(0,1,100)\n",
    "target = []\n",
    "\n",
    "for i in range(100): \n",
    "    x_i = discrete[i]\n",
    "    target.append(np.sin(4*np.pi * x_i)) \n",
    "    \n",
    "#plt.plot(discrete,1 + discrete*model3([discrete]).numpy().T[0], label = 'model1')\n",
    "plt.plot(discrete, model4([discrete]).numpy().T[0], label = 'model1')\n",
    "plt.plot(discrete,target, label = 'target')\n",
    "plt.legend(loc =  'upper left')"
   ]
  },
  {
   "cell_type": "code",
   "execution_count": 103,
   "id": "54b32560",
   "metadata": {},
   "outputs": [
    {
     "data": {
      "image/png": "[encoded data removed]",
      "text/plain": [
       "<Figure size 432x288 with 1 Axes>"
      ]
     },
     "metadata": {
      "needs_background": "light"
     },
     "output_type": "display_data"
    }
   ],
   "source": [
    "plt.plot(discrete,target-(model4([discrete]).numpy().T[0]))\n",
    "plt.plot(discrete,[0]*100, ':r')\n",
    "plt.plot(x,[0]*10, 'o', color = 'red', mfc = 'none', markersize = 5)\n",
    "plt.ylabel('Solution Accuracy')\n",
    "plt.xlabel('x')\n",
    "plt.show()"
   ]
  },
  {
   "cell_type": "code",
   "execution_count": null,
   "id": "7b8fd0a3",
   "metadata": {},
   "outputs": [],
   "source": []
  }
 ],
 "metadata": {
  "kernelspec": {
   "display_name": "Python 3 (ipykernel)",
   "language": "python",
   "name": "python3"
  },
  "language_info": {
   "codemirror_mode": {
    "name": "ipython",
    "version": 3
   },
   "file_extension": ".py",
   "mimetype": "text/x-python",
   "name": "python",
   "nbconvert_exporter": "python",
   "pygments_lexer": "ipython3",
   "version": "3.9.12"
  }
 },
 "nbformat": 4,
 "nbformat_minor": 5
}
