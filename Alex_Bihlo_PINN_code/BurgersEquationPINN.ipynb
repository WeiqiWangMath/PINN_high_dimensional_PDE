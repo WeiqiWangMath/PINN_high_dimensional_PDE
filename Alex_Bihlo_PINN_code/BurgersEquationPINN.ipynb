{
 "cells": [
  {
   "cell_type": "code",
   "execution_count": null,
   "metadata": {
    "colab": {
     "base_uri": "https://localhost:8080/"
    },
    "id": "3QJy11N3hYin",
    "outputId": "948cf70e-f16a-45db-87fe-f2fabc001e2c"
   },
   "outputs": [
    {
     "name": "stdout",
     "output_type": "stream",
     "text": [
      "Collecting pyDOE\n",
      "  Downloading pyDOE-0.3.8.zip (22 kB)\n",
      "Requirement already satisfied: numpy in /usr/local/lib/python3.7/dist-packages (from pyDOE) (1.19.5)\n",
      "Requirement already satisfied: scipy in /usr/local/lib/python3.7/dist-packages (from pyDOE) (1.4.1)\n",
      "Building wheels for collected packages: pyDOE\n",
      "  Building wheel for pyDOE (setup.py) ... \u001b[?25l\u001b[?25hdone\n",
      "  Created wheel for pyDOE: filename=pyDOE-0.3.8-py3-none-any.whl size=18184 sha256=09772d1bdb71b7c2b16937a1b7a9001afb245a441eb834b3aeada57abbd3cc19\n",
      "  Stored in directory: /root/.cache/pip/wheels/83/ce/8a/87b25c685bfeca1872d13b8dc101e087a9c6e3fb5ebb47022a\n",
      "Successfully built pyDOE\n",
      "Installing collected packages: pyDOE\n",
      "Successfully installed pyDOE-0.3.8\n"
     ]
    }
   ],
   "source": [
    "!pip install pyDOE"
   ]
  },
  {
   "cell_type": "code",
   "execution_count": null,
   "metadata": {
    "id": "Fytv-j1AIppX"
   },
   "outputs": [],
   "source": [
    "import tensorflow as tf\n",
    "import numpy as np\n",
    "from pyDOE import lhs\n",
    "import matplotlib.pyplot as plt\n",
    "from scipy.special import iv, kn, yve\n",
    "import imageio\n",
    "import os\n",
    "\n",
    "tf.keras.backend.set_floatx('float64')"
   ]
  },
  {
   "cell_type": "code",
   "execution_count": null,
   "metadata": {
    "id": "ZQZFOMo2fz4V"
   },
   "outputs": [],
   "source": [
    "u0 = lambda x: -np.sin(np.pi*x)\n",
    "nu = 0.01/np.pi"
   ]
  },
  {
   "cell_type": "code",
   "execution_count": null,
   "metadata": {
    "id": "jmxl4nkjL4gw"
   },
   "outputs": [],
   "source": [
    "# Boundaries of the computational domain\n",
    "xleft, xright = -1, 1\n",
    "t0, tfinal = 0, 1.0"
   ]
  },
  {
   "cell_type": "code",
   "execution_count": null,
   "metadata": {
    "colab": {
     "base_uri": "https://localhost:8080/",
     "height": 296
    },
    "id": "z6PAZ5qsShWM",
    "outputId": "3115d97f-6475-4873-909a-edc3143daa53"
   },
   "outputs": [
    {
     "data": {
      "text/plain": [
       "Text(0, 0.5, 'u')"
      ]
     },
     "execution_count": 5,
     "metadata": {
      "tags": []
     },
     "output_type": "execute_result"
    },
    {
     "data": {
      "image/png": "[encoded data removed]",
      "text/plain": [
       "<Figure size 432x288 with 1 Axes>"
      ]
     },
     "metadata": {
      "needs_background": "light",
      "tags": []
     },
     "output_type": "display_data"
    }
   ],
   "source": [
    "# Plot initial solution\n",
    "x = np.linspace(xleft, xright, 100)\n",
    "plt.plot(x, u0(x))\n",
    "plt.grid()\n",
    "plt.xlabel('x')\n",
    "plt.ylabel('u')"
   ]
  },
  {
   "cell_type": "markdown",
   "metadata": {
    "id": "JDkqQHOdQxh-"
   },
   "source": [
    "### Subclassing layers"
   ]
  },
  {
   "cell_type": "code",
   "execution_count": null,
   "metadata": {
    "id": "gKo90ToxJsos"
   },
   "outputs": [],
   "source": [
    "class Periodic(tf.keras.layers.Layer):\n",
    "  def __init__(self):\n",
    "    super(Periodic, self).__init__()\n",
    "\n",
    "  def call(self, inputs):\n",
    "    return tf.concat((tf.cos(np.pi*inputs), tf.sin(np.pi*inputs)), axis=1)"
   ]
  },
  {
   "cell_type": "code",
   "execution_count": null,
   "metadata": {
    "id": "Vsz4w7uM7PJ6"
   },
   "outputs": [],
   "source": [
    "# Define the normalization layer\n",
    "class Normalize(tf.keras.layers.Layer):\n",
    "  def __init__(self, xmin, xmax):\n",
    "    super(Normalize, self).__init__()\n",
    "    self.xmin = xmin\n",
    "    self.xmax = xmax\n",
    "\n",
    "  def call(self, inputs):\n",
    "    return 2.0*(inputs-self.xmin)/(self.xmax-self.xmin)-1.0"
   ]
  },
  {
   "cell_type": "markdown",
   "metadata": {
    "id": "7kn_L01jQ0WW"
   },
   "source": [
    "### Define the network"
   ]
  },
  {
   "cell_type": "code",
   "execution_count": null,
   "metadata": {
    "colab": {
     "base_uri": "https://localhost:8080/"
    },
    "id": "mFWp_CP5MNkR",
    "outputId": "1063ac70-311d-4f5a-c54e-0d9b7d44148e"
   },
   "outputs": [
    {
     "name": "stdout",
     "output_type": "stream",
     "text": [
      "Model: \"model\"\n",
      "__________________________________________________________________________________________________\n",
      "Layer (type)                    Output Shape         Param #     Connected to                     \n",
      "==================================================================================================\n",
      "input_1 (InputLayer)            [(None, 1)]          0                                            \n",
      "__________________________________________________________________________________________________\n",
      "input_2 (InputLayer)            [(None, 1)]          0                                            \n",
      "__________________________________________________________________________________________________\n",
      "normalize (Normalize)           (None, 1)            0           input_1[0][0]                    \n",
      "__________________________________________________________________________________________________\n",
      "periodic (Periodic)             (None, 2)            0           input_2[0][0]                    \n",
      "__________________________________________________________________________________________________\n",
      "concatenate (Concatenate)       (None, 3)            0           normalize[0][0]                  \n",
      "                                                                 periodic[0][0]                   \n",
      "__________________________________________________________________________________________________\n",
      "dense (Dense)                   (None, 20)           80          concatenate[0][0]                \n",
      "__________________________________________________________________________________________________\n",
      "dense_1 (Dense)                 (None, 20)           420         dense[0][0]                      \n",
      "__________________________________________________________________________________________________\n",
      "dense_2 (Dense)                 (None, 20)           420         dense_1[0][0]                    \n",
      "__________________________________________________________________________________________________\n",
      "dense_3 (Dense)                 (None, 20)           420         dense_2[0][0]                    \n",
      "__________________________________________________________________________________________________\n",
      "dense_4 (Dense)                 (None, 20)           420         dense_3[0][0]                    \n",
      "__________________________________________________________________________________________________\n",
      "dense_5 (Dense)                 (None, 20)           420         dense_4[0][0]                    \n",
      "__________________________________________________________________________________________________\n",
      "dense_6 (Dense)                 (None, 20)           420         dense_5[0][0]                    \n",
      "__________________________________________________________________________________________________\n",
      "dense_7 (Dense)                 (None, 20)           420         dense_6[0][0]                    \n",
      "__________________________________________________________________________________________________\n",
      "dense_8 (Dense)                 (None, 20)           420         dense_7[0][0]                    \n",
      "__________________________________________________________________________________________________\n",
      "dense_9 (Dense)                 (None, 1)            21          dense_8[0][0]                    \n",
      "==================================================================================================\n",
      "Total params: 3,461\n",
      "Trainable params: 3,461\n",
      "Non-trainable params: 0\n",
      "__________________________________________________________________________________________________\n"
     ]
    }
   ],
   "source": [
    "# Define the network\n",
    "n_layers = 9\n",
    "n_units = 20\n",
    "\n",
    "inp1 = tf.keras.layers.Input(shape=(1,))\n",
    "b1 = Normalize(t0, tfinal)(inp1)\n",
    "\n",
    "inp2 = tf.keras.layers.Input(shape=(1,))\n",
    "b2 = Periodic()(inp2)\n",
    "b = tf.keras.layers.Concatenate()([b1, b2])\n",
    "\n",
    "for i in range(n_layers):\n",
    "  b = tf.keras.layers.Dense(n_units, activation='tanh', kernel_initializer='glorot_normal')(b)\n",
    "out = tf.keras.layers.Dense(1, activation='linear')(b)\n",
    "\n",
    "model = tf.keras.models.Model([inp1, inp2], out)\n",
    "model.summary()"
   ]
  },
  {
   "cell_type": "markdown",
   "metadata": {
    "id": "tumPXhEQQ3I5"
   },
   "source": [
    "### Training routines"
   ]
  },
  {
   "cell_type": "code",
   "execution_count": null,
   "metadata": {
    "id": "UUaxa6CIVqhg"
   },
   "outputs": [],
   "source": [
    "@tf.function\n",
    "def trainStep(t_pde, x_pde, t_init, x_init, u_init, nu, opt):\n",
    "\n",
    "  # Outer gradient for tuning network parameters\n",
    "    with tf.GradientTape() as tape:\n",
    "\n",
    "      # Inner gradient for derivatives of u wrt x and t\n",
    "      with tf.GradientTape() as tape1:\n",
    "        tape1.watch(t_pde), tape1.watch(x_pde)\n",
    "\n",
    "        with tf.GradientTape() as tape2:\n",
    "          tape2.watch(t_pde), tape2.watch(x_pde)\n",
    "\n",
    "          u = model([t_pde, x_pde])\n",
    "        \n",
    "        [ut, ux] = tape2.gradient(u, [t_pde, x_pde])  \n",
    "      uxx = tape1.gradient(ux, x_pde)\n",
    "\n",
    "      # Solve Burgers equations\n",
    "      eqn = ut+u*ux-nu*uxx\n",
    "\n",
    "      # Define the PDE loss  \n",
    "      PDEloss = tf.reduce_mean(tf.square(eqn)) \n",
    "\n",
    "      # Define the initial value loss\n",
    "      u_init_pred = model([t_init, x_init])      \n",
    "      IVloss = tf.reduce_mean(tf.square(u_init-u_init_pred))\n",
    "\n",
    "      # Global loss\n",
    "      loss = PDEloss + IVloss\n",
    "\n",
    "    # Compute the gradient of the global loss wrt the model parameters\n",
    "    grads = tape.gradient(loss, model.trainable_variables)\n",
    "\n",
    "    # Gradient step\n",
    "    opt.apply_gradients(zip(grads, model.trainable_variables))\n",
    "\n",
    "    return PDEloss, IVloss"
   ]
  },
  {
   "cell_type": "code",
   "execution_count": null,
   "metadata": {
    "id": "YCjR0-DZQvnO"
   },
   "outputs": [],
   "source": [
    "def PNNtrain(t_bdry, x_bdry, u0, nu, epochs=5000, N_pde=10000, N_iv=100):\n",
    "\n",
    "  # Optimizer to be used\n",
    "  lr = tf.keras.optimizers.schedules.PolynomialDecay(1e-3, epochs, 1e-4)\n",
    "  opt = tf.keras.optimizers.Adam(lr)\n",
    "\n",
    "  # Sample points where to evaluate the PDE\n",
    "  tx_min = np.array([t_bdry[0], x_bdry[0]])\n",
    "  tx_max = np.array([t_bdry[1], x_bdry[1]])  \n",
    "  pde_points = tx_min + (tx_max - tx_min)*lhs(2, N_pde)\n",
    "  t_pde = pde_points[:,0]\n",
    "  x_pde = pde_points[:,1]\n",
    "\n",
    "  pdes = np.column_stack([t_pde, x_pde]).astype(np.float64)\n",
    "\n",
    "  # Sample points where to evaluate the initial values\n",
    "  init_points = tx_min[1:] + (tx_max[1:] - tx_min[1:])*lhs(1, N_iv)\n",
    "  x_init = init_points\n",
    "  t_init = t_bdry[0]+ 0.0*x_init\n",
    "  u_init = u0(x_init)\n",
    "  inits = np.column_stack([t_init, x_init, u_init]).astype(np.float64)\n",
    "\n",
    "  bs_pdes, bs_inits = N_pde//100, N_iv//100\n",
    "\n",
    "  ds_pde = tf.data.Dataset.from_tensor_slices(pdes)\n",
    "  ds_pde = ds_pde.cache().shuffle(N_pde).batch(bs_pdes)\n",
    "\n",
    "  ds_init = tf.data.Dataset.from_tensor_slices(inits)\n",
    "  ds_init = ds_init.cache().shuffle(N_iv).batch(bs_inits)\n",
    "\n",
    "  ds = tf.data.Dataset.zip((ds_pde, ds_init))\n",
    "  ds = ds.prefetch(tf.data.experimental.AUTOTUNE)\n",
    " \n",
    "  epoch_loss = np.zeros(epochs)\n",
    "\n",
    "  # Main training loop\n",
    "  for i in range(epochs):\n",
    "\n",
    "    for (pdes, inits) in ds:\n",
    "      \n",
    "      t_pde, x_pde = pdes[:,:1], pdes[:,1:2]\n",
    "      t_init, x_init, u_init = inits[:,:1], inits[:,1:2], inits[:,2:3]\n",
    "      PDEloss, IVloss = trainStep(t_pde, x_pde, t_init, x_init, u_init, nu, opt)\n",
    "      epoch_loss[i] += PDEloss + IVloss\n",
    "\n",
    "    if (np.mod(i, 100)==0):\n",
    "      print(\"PDE loss, IV loss in {}th epoch: {: 6.4f}, {: 6.4f}.\".format(i, PDEloss.numpy(), IVloss.numpy()))\n",
    "    \n",
    "  return epoch_loss"
   ]
  },
  {
   "cell_type": "markdown",
   "metadata": {
    "id": "9E2N1sPCQ5rg"
   },
   "source": [
    "### Train the network"
   ]
  },
  {
   "cell_type": "code",
   "execution_count": null,
   "metadata": {
    "colab": {
     "base_uri": "https://localhost:8080/"
    },
    "id": "N6nhZ_OVpaYF",
    "outputId": "0feacfef-e982-43c9-9f4a-8faedfe2ffb8"
   },
   "outputs": [
    {
     "name": "stdout",
     "output_type": "stream",
     "text": [
      "PDE loss, IV loss in 0th epoch:  0.0176,  0.6203.\n",
      "PDE loss, IV loss in 100th epoch:  0.0444,  0.0615.\n",
      "PDE loss, IV loss in 200th epoch:  0.0344,  0.0532.\n",
      "PDE loss, IV loss in 300th epoch:  0.0272,  0.0452.\n",
      "PDE loss, IV loss in 400th epoch:  0.0173,  0.0228.\n",
      "PDE loss, IV loss in 500th epoch:  0.0101,  0.0140.\n",
      "PDE loss, IV loss in 600th epoch:  0.0071,  0.0080.\n",
      "PDE loss, IV loss in 700th epoch:  0.0047,  0.0043.\n",
      "PDE loss, IV loss in 800th epoch:  0.0033,  0.0023.\n",
      "PDE loss, IV loss in 900th epoch:  0.0027,  0.0017.\n",
      "PDE loss, IV loss in 1000th epoch:  0.0021,  0.0010.\n",
      "PDE loss, IV loss in 1100th epoch:  0.0018,  0.0007.\n",
      "PDE loss, IV loss in 1200th epoch:  0.0015,  0.0006.\n",
      "PDE loss, IV loss in 1300th epoch:  0.0012,  0.0006.\n",
      "PDE loss, IV loss in 1400th epoch:  0.0011,  0.0004.\n",
      "PDE loss, IV loss in 1500th epoch:  0.0009,  0.0004.\n",
      "PDE loss, IV loss in 1600th epoch:  0.0008,  0.0003.\n",
      "PDE loss, IV loss in 1700th epoch:  0.0008,  0.0005.\n",
      "PDE loss, IV loss in 1800th epoch:  0.0006,  0.0002.\n",
      "PDE loss, IV loss in 1900th epoch:  0.0006,  0.0002.\n",
      "PDE loss, IV loss in 2000th epoch:  0.0005,  0.0002.\n",
      "PDE loss, IV loss in 2100th epoch:  0.0004,  0.0001.\n",
      "PDE loss, IV loss in 2200th epoch:  0.0004,  0.0001.\n",
      "PDE loss, IV loss in 2300th epoch:  0.0004,  0.0001.\n",
      "PDE loss, IV loss in 2400th epoch:  0.0003,  0.0001.\n",
      "PDE loss, IV loss in 2500th epoch:  0.0003,  0.0001.\n",
      "PDE loss, IV loss in 2600th epoch:  0.0003,  0.0001.\n",
      "PDE loss, IV loss in 2700th epoch:  0.0006,  0.0001.\n",
      "PDE loss, IV loss in 2800th epoch:  0.0003,  0.0001.\n",
      "PDE loss, IV loss in 2900th epoch:  0.0002,  0.0001.\n",
      "PDE loss, IV loss in 3000th epoch:  0.0002,  0.0001.\n",
      "PDE loss, IV loss in 3100th epoch:  0.0002,  0.0001.\n",
      "PDE loss, IV loss in 3200th epoch:  0.0002,  0.0001.\n",
      "PDE loss, IV loss in 3300th epoch:  0.0002,  0.0000.\n",
      "PDE loss, IV loss in 3400th epoch:  0.0002,  0.0000.\n",
      "PDE loss, IV loss in 3500th epoch:  0.0002,  0.0000.\n",
      "PDE loss, IV loss in 3600th epoch:  0.0002,  0.0000.\n",
      "PDE loss, IV loss in 3700th epoch:  0.0002,  0.0000.\n",
      "PDE loss, IV loss in 3800th epoch:  0.0001,  0.0000.\n",
      "PDE loss, IV loss in 3900th epoch:  0.0001,  0.0000.\n",
      "PDE loss, IV loss in 4000th epoch:  0.0001,  0.0000.\n",
      "PDE loss, IV loss in 4100th epoch:  0.0001,  0.0000.\n",
      "PDE loss, IV loss in 4200th epoch:  0.0001,  0.0000.\n",
      "PDE loss, IV loss in 4300th epoch:  0.0001,  0.0000.\n",
      "PDE loss, IV loss in 4400th epoch:  0.0001,  0.0000.\n",
      "PDE loss, IV loss in 4500th epoch:  0.0001,  0.0000.\n",
      "PDE loss, IV loss in 4600th epoch:  0.0001,  0.0000.\n",
      "PDE loss, IV loss in 4700th epoch:  0.0001,  0.0000.\n",
      "PDE loss, IV loss in 4800th epoch:  0.0001,  0.0000.\n",
      "PDE loss, IV loss in 4900th epoch:  0.0001,  0.0000.\n",
      "PDE loss, IV loss in 5000th epoch:  0.0001,  0.0000.\n",
      "PDE loss, IV loss in 5100th epoch:  0.0001,  0.0000.\n",
      "PDE loss, IV loss in 5200th epoch:  0.0001,  0.0000.\n",
      "PDE loss, IV loss in 5300th epoch:  0.0001,  0.0000.\n",
      "PDE loss, IV loss in 5400th epoch:  0.0001,  0.0000.\n",
      "PDE loss, IV loss in 5500th epoch:  0.0001,  0.0000.\n",
      "PDE loss, IV loss in 5600th epoch:  0.0001,  0.0000.\n",
      "PDE loss, IV loss in 5700th epoch:  0.0001,  0.0000.\n",
      "PDE loss, IV loss in 5800th epoch:  0.0001,  0.0000.\n",
      "PDE loss, IV loss in 5900th epoch:  0.0001,  0.0000.\n",
      "PDE loss, IV loss in 6000th epoch:  0.0001,  0.0000.\n",
      "PDE loss, IV loss in 6100th epoch:  0.0001,  0.0000.\n",
      "PDE loss, IV loss in 6200th epoch:  0.0001,  0.0000.\n",
      "PDE loss, IV loss in 6300th epoch:  0.0001,  0.0000.\n",
      "PDE loss, IV loss in 6400th epoch:  0.0001,  0.0000.\n",
      "PDE loss, IV loss in 6500th epoch:  0.0001,  0.0000.\n",
      "PDE loss, IV loss in 6600th epoch:  0.0001,  0.0000.\n",
      "PDE loss, IV loss in 6700th epoch:  0.0002,  0.0000.\n",
      "PDE loss, IV loss in 6800th epoch:  0.0001,  0.0000.\n",
      "PDE loss, IV loss in 6900th epoch:  0.0001,  0.0000.\n",
      "PDE loss, IV loss in 7000th epoch:  0.0001,  0.0000.\n",
      "PDE loss, IV loss in 7100th epoch:  0.0001,  0.0000.\n",
      "PDE loss, IV loss in 7200th epoch:  0.0000,  0.0000.\n",
      "PDE loss, IV loss in 7300th epoch:  0.0000,  0.0000.\n",
      "PDE loss, IV loss in 7400th epoch:  0.0001,  0.0000.\n",
      "PDE loss, IV loss in 7500th epoch:  0.0000,  0.0000.\n",
      "PDE loss, IV loss in 7600th epoch:  0.0000,  0.0000.\n",
      "PDE loss, IV loss in 7700th epoch:  0.0001,  0.0000.\n",
      "PDE loss, IV loss in 7800th epoch:  0.0000,  0.0000.\n",
      "PDE loss, IV loss in 7900th epoch:  0.0000,  0.0000.\n",
      "PDE loss, IV loss in 8000th epoch:  0.0000,  0.0000.\n",
      "PDE loss, IV loss in 8100th epoch:  0.0001,  0.0000.\n",
      "PDE loss, IV loss in 8200th epoch:  0.0000,  0.0000.\n",
      "PDE loss, IV loss in 8300th epoch:  0.0000,  0.0000.\n",
      "PDE loss, IV loss in 8400th epoch:  0.0001,  0.0000.\n",
      "PDE loss, IV loss in 8500th epoch:  0.0000,  0.0000.\n",
      "PDE loss, IV loss in 8600th epoch:  0.0000,  0.0000.\n",
      "PDE loss, IV loss in 8700th epoch:  0.0000,  0.0000.\n",
      "PDE loss, IV loss in 8800th epoch:  0.0000,  0.0000.\n",
      "PDE loss, IV loss in 8900th epoch:  0.0000,  0.0000.\n",
      "PDE loss, IV loss in 9000th epoch:  0.0000,  0.0000.\n",
      "PDE loss, IV loss in 9100th epoch:  0.0000,  0.0000.\n",
      "PDE loss, IV loss in 9200th epoch:  0.0000,  0.0000.\n",
      "PDE loss, IV loss in 9300th epoch:  0.0000,  0.0000.\n",
      "PDE loss, IV loss in 9400th epoch:  0.0000,  0.0000.\n",
      "PDE loss, IV loss in 9500th epoch:  0.0000,  0.0000.\n",
      "PDE loss, IV loss in 9600th epoch:  0.0000,  0.0000.\n",
      "PDE loss, IV loss in 9700th epoch:  0.0000,  0.0000.\n",
      "PDE loss, IV loss in 9800th epoch:  0.0000,  0.0000.\n",
      "PDE loss, IV loss in 9900th epoch:  0.0000,  0.0000.\n"
     ]
    }
   ],
   "source": [
    "epochs = 10000\n",
    "loss = PNNtrain([t0, tfinal], [xleft, xright], u0, nu, epochs)"
   ]
  },
  {
   "cell_type": "code",
   "execution_count": null,
   "metadata": {
    "colab": {
     "base_uri": "https://localhost:8080/",
     "height": 284
    },
    "id": "cN4ubAROg-js",
    "outputId": "a688af36-0d16-4659-8546-7044a4f29bcd"
   },
   "outputs": [
    {
     "data": {
      "image/png": "[encoded data removed]",
      "text/plain": [
       "<Figure size 432x288 with 1 Axes>"
      ]
     },
     "metadata": {
      "needs_background": "light",
      "tags": []
     },
     "output_type": "display_data"
    }
   ],
   "source": [
    "plt.semilogy(range(0, epochs), loss)\n",
    "plt.xlabel('epochs')\n",
    "plt.ylabel('loss')\n",
    "plt.savefig('loss.png')\n",
    "plt.grid()"
   ]
  },
  {
   "cell_type": "markdown",
   "metadata": {
    "id": "0ymTiywGQ9Ij"
   },
   "source": [
    "### Visualize results"
   ]
  },
  {
   "cell_type": "code",
   "execution_count": null,
   "metadata": {
    "id": "wqonpX92uh23"
   },
   "outputs": [],
   "source": [
    "# Grid where to evaluate the model\n",
    "l, m = 100, 1000\n",
    "t = np.linspace(t0, tfinal, l)\n",
    "x = np.linspace(xleft, xright, m)\n",
    "T, X = np.meshgrid(t, x, indexing='ij')\n",
    "\n",
    "u = model([np.expand_dims(T.flatten(), axis=1), \n",
    "           np.expand_dims(X.flatten(), axis=1)])\n",
    "u = np.reshape(u, (l, m))"
   ]
  },
  {
   "cell_type": "code",
   "execution_count": null,
   "metadata": {
    "id": "r0WJ1YaDRt3v"
   },
   "outputs": [],
   "source": [
    "# filenames = []\n",
    "# for i in range(l):\n",
    "#   plt.figure(figsize=(10,5))\n",
    "#   plt.subplot(121)\n",
    "#   plt.contourf(X[i,], Y[i,], h[i,], np.linspace(-0.1,h00,100), cmap=plt.cm.coolwarm)\n",
    "#   plt.clim(0,h00)\n",
    "#   plt.title('Neural network solution')\n",
    "#   plt.xlabel('lambda')\n",
    "#   plt.ylabel('theta')\n",
    "#   plt.colorbar()\n",
    "\n",
    "#   plt.subplot(122)\n",
    "#   plt.contourf(X[i,], Y[i,], h[i,]-h0(X[i,]-u0(X[i,],Y[i,])*T[i,]/np.cos(Y[i,]), Y[i,]-v0(X[i,],Y[i,])*T[i,]), 100, cmap=plt.cm.coolwarm)\n",
    "#   plt.xlabel('lambda')\n",
    "#   plt.ylabel('theta')\n",
    "#   plt.title(\"Difference NN solution and true solution\")\n",
    "#   plt.colorbar()\n",
    "\n",
    "#   filename = f'{i}.png'\n",
    "#   filenames.append(filename)\n",
    "#   plt.savefig(filename)\n",
    "#   plt.close()\n",
    "\n",
    "# with imageio.get_writer('mygif.gif', mode='I') as writer:\n",
    "#     for filename in filenames:\n",
    "#         image = imageio.imread(filename)\n",
    "#         writer.append_data(image)\n",
    "\n",
    "# for filename in set(filenames):\n",
    "#   os.remove(filename)"
   ]
  },
  {
   "cell_type": "code",
   "execution_count": null,
   "metadata": {
    "colab": {
     "base_uri": "https://localhost:8080/",
     "height": 350
    },
    "id": "f1fHbkzGwBDk",
    "outputId": "34e3897c-ed54-4f76-f959-0289d1619b9a"
   },
   "outputs": [
    {
     "data": {
      "image/png": "[encoded data removed]",
      "text/plain": [
       "<Figure size 720x360 with 2 Axes>"
      ]
     },
     "metadata": {
      "needs_background": "light",
      "tags": []
     },
     "output_type": "display_data"
    }
   ],
   "source": [
    "plt.figure(figsize=(10,5))\n",
    "plt.contourf(T, X, u, 100, cmap=plt.cm.jet)\n",
    "plt.title('Neural network solution')\n",
    "plt.xlabel('t')\n",
    "plt.ylabel('x')\n",
    "plt.colorbar()\n",
    "plt.savefig('solution.png')"
   ]
  },
  {
   "cell_type": "code",
   "execution_count": null,
   "metadata": {
    "colab": {
     "base_uri": "https://localhost:8080/",
     "height": 279
    },
    "id": "sShHqWAcnGRG",
    "outputId": "fd39e08f-7008-4d1d-8267-b29253cf9ce2"
   },
   "outputs": [
    {
     "data": {
      "image/png": "[encoded data removed]",
      "text/plain": [
       "<Figure size 432x288 with 1 Axes>"
      ]
     },
     "metadata": {
      "needs_background": "light",
      "tags": []
     },
     "output_type": "display_data"
    }
   ],
   "source": [
    "tplot = [0, 24, 49, 74]\n",
    "for i in tplot:\n",
    "  plt.plot(x,u[i,:])\n",
    "\n",
    "plt.xlabel('x')\n",
    "plt.legend([\"t = \" + str((i+1)/100) for i in tplot])\n",
    "plt.grid()\n",
    "plt.savefig('solutionBurgersTimeSteps.png')"
   ]
  },
  {
   "cell_type": "code",
   "execution_count": null,
   "metadata": {
    "id": "gJ6vYCKrkE96"
   },
   "outputs": [],
   "source": [
    "# # Exact solution\n",
    "# ue_numer = np.sum([np.exp(-nu*n**2*np.pi**2*T)*n*iv(n,-1.0/(2*np.pi*nu))*np.sin(n*np.pi*X) for n in range(1,1000)], axis=0)\n",
    "# ue_denom = iv(0,-1/(2*np.pi*nu)) + 2*np.sum([np.exp(-nu*n**2*np.pi**2*T)*iv(n,-1/(2*np.pi*nu))*np.cos(n*np.pi*X) for n in range(1,1000)], axis=0)\n",
    "# ue = 4*nu*ue_numer/ue_denom"
   ]
  }
 ],
 "metadata": {
  "accelerator": "GPU",
  "colab": {
   "collapsed_sections": [],
   "name": "BurgersEquationPINN.ipynb",
   "provenance": []
  },
  "kernelspec": {
   "display_name": "Python 3 (ipykernel)",
   "language": "python",
   "name": "python3"
  },
  "language_info": {
   "codemirror_mode": {
    "name": "ipython",
    "version": 3
   },
   "file_extension": ".py",
   "mimetype": "text/x-python",
   "name": "python",
   "nbconvert_exporter": "python",
   "pygments_lexer": "ipython3",
   "version": "3.9.12"
  }
 },
 "nbformat": 4,
 "nbformat_minor": 1
}
